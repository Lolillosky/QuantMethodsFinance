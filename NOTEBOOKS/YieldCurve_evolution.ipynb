{
 "cells": [
  {
   "cell_type": "markdown",
   "metadata": {},
   "source": [
    "# Quantitative Methods in Finance"
   ]
  },
  {
   "cell_type": "markdown",
   "metadata": {},
   "source": [
    "Click <a href=\"https://colab.research.google.com/github/Lolillosky/QuantMethodsFinance/blob/main/NOTEBOOKS/YieldCurve_evolution.ipynb\">\n",
    "    <img src=\"https://upload.wikimedia.org/wikipedia/commons/d/d0/Google_Colaboratory_SVG_Logo.svg\" width=\"30\" alt=\"Google Colab\">\n",
    "</a> to open this notebook in Google Colab.\n"
   ]
  },
  {
   "cell_type": "markdown",
   "metadata": {},
   "source": [
    "This notebook contains code to generate the SPGB yield html movie.\n",
    "\n",
    "Import the repository from Google Colab, you should do the following: "
   ]
  },
  {
   "cell_type": "code",
   "execution_count": null,
   "metadata": {},
   "outputs": [],
   "source": [
    "from IPython.display import clear_output\n",
    "\n",
    "!rm -r {'QuantMethodsFinance'}\n",
    "\n",
    "!git clone https://github.com/Lolillosky/QuantMethodsFinance\n",
    "\n",
    "import sys\n",
    "sys.modules.pop\n",
    "sys.path.insert(0,'QuantMethodsFinance/CODE')\n",
    "\n",
    "clear_output()"
   ]
  },
  {
   "cell_type": "markdown",
   "metadata": {},
   "source": [
    "Import some libraries."
   ]
  },
  {
   "cell_type": "code",
   "execution_count": null,
   "metadata": {},
   "outputs": [],
   "source": [
    "import pandas as pd\n",
    "import re\n",
    "from matplotlib.animation import FuncAnimation\n",
    "from IPython.display import HTML\n",
    "import matplotlib as mpl\n",
    "mpl.rcParams['animation.embed_limit'] = 2**128\n",
    "import matplotlib.pyplot as plt\n"
   ]
  },
  {
   "cell_type": "code",
   "execution_count": null,
   "metadata": {},
   "outputs": [],
   "source": [
    "# To be used if notebook is run in Google Colab\n",
    "PATH = '/content/QuantMethodsFinance/'\n",
    "# To be used if notebook is run in a local clone of the repository\n",
    "PATH = '../'\n"
   ]
  },
  {
   "cell_type": "markdown",
   "metadata": {},
   "source": [
    "Read bond data:"
   ]
  },
  {
   "cell_type": "code",
   "execution_count": null,
   "metadata": {},
   "outputs": [],
   "source": [
    "spgb_hist = pd.read_csv(PATH + 'DATA/spgb_hist.csv', parse_dates=True, index_col=0, dayfirst=True)\n",
    "\n",
    "\n",
    "\n",
    "date_pattern =  r\"\\b\\d*\\.?\\d{0,2}\\s(\\d{1,2}/\\d{1,2}/\\d{4})\\b\"\n",
    "\n",
    "maturity_dates = [re.search(date_pattern, item).group(1) for item in spgb_hist.columns if re.search(date_pattern, item)]\n",
    "\n",
    "maturity_dates = pd.to_datetime(maturity_dates, format='%m/%d/%Y');\n"
   ]
  },
  {
   "cell_type": "code",
   "execution_count": null,
   "metadata": {},
   "outputs": [],
   "source": [
    "# maturity_dates - spgb_hist.index[0]\n",
    "\n",
    "years = ((maturity_dates - spgb_hist.index[0]).days)/365.25\n",
    "\n",
    "plt.plot(years, spgb_hist.iloc[0], 'o', markersize=5)\n",
    "\n",
    "plt.title('SPGB yield curve as of ' + spgb_hist.index[0].strftime('%d/%m/%Y'))\n",
    "\n",
    "plt.xlabel('Years to maturity')\n",
    "plt.ylabel('Yield')\n",
    "\n",
    "plt.ylim(0, spgb_hist.max().max())\n",
    "\n",
    "plt.savefig(PATH + 'FIGURES/yield_curve.pdf')\n"
   ]
  },
  {
   "cell_type": "code",
   "execution_count": null,
   "metadata": {},
   "outputs": [],
   "source": [
    "\n",
    "f, ax = plt.subplots(1)\n",
    "\n",
    "series, = ax.plot([], 'o', markersize=5)\n",
    "\n",
    "num_frames = len(spgb_hist)\n",
    "\n",
    "\n",
    "ax.set_xlim(0,50)\n",
    "ax.set_ylim(0, spgb_hist.max().max())\n",
    "\n",
    "def animate(k):\n",
    "\n",
    "    maturities =((maturity_dates - spgb_hist.index[k]).days)/365.25\n",
    "\n",
    "    series.set_data(maturities,spgb_hist.iloc[k].values)\n",
    "    \n",
    "    ax.set_title('SPGB yield curve as of ' + spgb_hist.index[k].strftime('%d/%m/%Y'))\n",
    "    ax.set_xlabel('Years to maturity')\n",
    "    ax.set_ylabel('Yield')\n",
    "\n",
    "\n",
    "\n",
    "ani = FuncAnimation(f, animate, frames=num_frames, interval = 20)\n",
    "\n",
    "plt.show()"
   ]
  },
  {
   "cell_type": "code",
   "execution_count": null,
   "metadata": {},
   "outputs": [],
   "source": [
    "html_str = ani.to_jshtml()\n",
    "HTML(html_str)"
   ]
  },
  {
   "cell_type": "code",
   "execution_count": null,
   "metadata": {},
   "outputs": [],
   "source": [
    "with open(PATH + \"docs\\spgb.html\", \"w\") as f:\n",
    "    f.write(html_str)"
   ]
  }
 ],
 "metadata": {
  "kernelspec": {
   "display_name": "definitive",
   "language": "python",
   "name": "python3"
  },
  "language_info": {
   "codemirror_mode": {
    "name": "ipython",
    "version": 3
   },
   "file_extension": ".py",
   "mimetype": "text/x-python",
   "name": "python",
   "nbconvert_exporter": "python",
   "pygments_lexer": "ipython3",
   "version": "3.10.13"
  }
 },
 "nbformat": 4,
 "nbformat_minor": 2
}
