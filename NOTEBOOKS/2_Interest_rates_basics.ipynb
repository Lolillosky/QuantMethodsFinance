{
 "cells": [
  {
   "cell_type": "markdown",
   "metadata": {},
   "source": [
    "# Quantitative Methods in Finance"
   ]
  },
  {
   "cell_type": "markdown",
   "metadata": {},
   "source": [
    "Click <a href=\"https://colab.research.google.com/github/Lolillosky/QuantMethodsFinance/blob/main/NOTEBOOKS/2_Interest_rates_basics.ipynb\">\n",
    "    <img src=\"https://upload.wikimedia.org/wikipedia/commons/d/d0/Google_Colaboratory_SVG_Logo.svg\" width=\"30\" alt=\"Google Colab\">\n",
    "</a> to open this notebook in Google Colab.\n",
    "\n",
    "Clone the repository"
   ]
  },
  {
   "cell_type": "code",
   "execution_count": null,
   "metadata": {},
   "outputs": [],
   "source": [
    "from IPython.display import clear_output\n",
    "\n",
    "!rm -r {'QuantMethodsFinance'}\n",
    "\n",
    "!git clone https://github.com/Lolillosky/QuantMethodsFinance\n",
    "\n",
    "import sys\n",
    "sys.modules.pop\n",
    "sys.path.insert(0,'QuantMethodsFinance/CODE')\n",
    "\n",
    "clear_output()"
   ]
  },
  {
   "cell_type": "markdown",
   "metadata": {},
   "source": [
    "Import some libraries"
   ]
  },
  {
   "cell_type": "code",
   "execution_count": null,
   "metadata": {},
   "outputs": [],
   "source": [
    "import numpy as np\n",
    "import matplotlib.pyplot as plt\n",
    "from scipy.optimize import fsolve\n",
    "from scipy.optimize import minimize\n",
    "import pandas as pd\n",
    "import re\n",
    "from scipy.interpolate import CubicSpline\n"
   ]
  },
  {
   "cell_type": "markdown",
   "metadata": {},
   "source": [
    "Modify PATH variable depending on how you run the notebook"
   ]
  },
  {
   "cell_type": "code",
   "execution_count": null,
   "metadata": {},
   "outputs": [],
   "source": [
    "# To be used if notebook is run in Google Colab\n",
    "PATH = '/content/QuantMethodsFinance/'\n",
    "# To be used if notebook is run in a local clone of the repository\n",
    "PATH = '../'\n"
   ]
  },
  {
   "cell_type": "markdown",
   "metadata": {},
   "source": [
    "## Interest rate \n",
    "\n",
    "Given the following:\n",
    "\n",
    "| Concept | Amount | \n",
    "|----------|----------|\n",
    "| Initial investment    | 100     |\n",
    "| Final value    | 150     |\n",
    "| T-t (years)    | 5     |\n",
    "\n",
    "Calculate simple, compounded and continuously compounded interest\n"
   ]
  },
  {
   "cell_type": "code",
   "execution_count": null,
   "metadata": {},
   "outputs": [],
   "source": [
    "# Your code here"
   ]
  },
  {
   "cell_type": "markdown",
   "metadata": {},
   "source": []
  },
  {
   "cell_type": "markdown",
   "metadata": {},
   "source": [
    "## Continuously compounded interest\n",
    "\n",
    "Check numerically that:\n",
    "\n",
    "$$\\lim_{n \\to \\infty}\\left(1+r\\frac{T-t}{n}\\right)^n=\\exp\\left(r\\left(T-t\\right)\\right)$$\n",
    "\n",
    "Assume $r=0.03$ $T-t=5$"
   ]
  },
  {
   "cell_type": "code",
   "execution_count": null,
   "metadata": {},
   "outputs": [],
   "source": [
    "# Your code here\n"
   ]
  },
  {
   "cell_type": "markdown",
   "metadata": {},
   "source": [
    "## Internal rate of return / yield of a bond \n",
    "\n",
    "The following code is a simplified version of the pricing of a bond forgeting about dates and day count conventions."
   ]
  },
  {
   "cell_type": "code",
   "execution_count": null,
   "metadata": {},
   "outputs": [],
   "source": [
    "\n",
    "from enum import Enum\n",
    "\n",
    "class freq_options(Enum):\n",
    "    QUARTERLY = 1\n",
    "    SEMI_ANNUAL = 2\n",
    "    ANUAL = 3\n",
    "\n",
    "\n",
    "def bond_price(TTM, coupon, yield_to_mat, freq):\n",
    "\n",
    "    if freq == freq_options.QUARTERLY:\n",
    "          delta = 0.25\n",
    "    elif freq == freq_options.SEMI_ANNUAL:\n",
    "        delta = 0.5\n",
    "    elif freq == freq_options.ANUAL:\n",
    "        delta = 1\n",
    "    else:\n",
    "        raise ValueError(\"Invalid frequency\")\n",
    "\n",
    "    payment_times = np.arange(TTM,0, step=-delta)[::-1]\n",
    "\n",
    "    return np.sum(coupon * delta * (1.0 + yield_to_mat)**(-payment_times)) + (1.0 + yield_to_mat)**(-TTM) \n"
   ]
  },
  {
   "cell_type": "code",
   "execution_count": null,
   "metadata": {},
   "outputs": [],
   "source": [
    "bond_price(5,0.03,0.05,freq_options.ANUAL)"
   ]
  },
  {
   "cell_type": "markdown",
   "metadata": {},
   "source": [
    "For a 5 year maturity bond, with annual coupons of $3\\%$, plot the dirty price as a function of its yield. If the yield of a bond rises, does the bond holder gain or loose money?"
   ]
  },
  {
   "cell_type": "code",
   "execution_count": null,
   "metadata": {},
   "outputs": [],
   "source": [
    "# Your code here"
   ]
  },
  {
   "cell_type": "markdown",
   "metadata": {},
   "source": [
    "For yields equal to $1\\%,\\ 3\\%,\\ 5\\%$, plot the dirty price as time goes by and we approach the maturity of the bond. "
   ]
  },
  {
   "cell_type": "code",
   "execution_count": null,
   "metadata": {},
   "outputs": [],
   "source": [
    "# Your code here"
   ]
  },
  {
   "cell_type": "markdown",
   "metadata": {},
   "source": [
    "If the price of the bond is $103\\%$, compute its yield. Use fsolve function of Scipy."
   ]
  },
  {
   "cell_type": "code",
   "execution_count": null,
   "metadata": {},
   "outputs": [],
   "source": [
    "# Your code here"
   ]
  },
  {
   "cell_type": "markdown",
   "metadata": {},
   "source": [
    "## Duration\n",
    "\n",
    "Code a function to compute the duration of a bond for a given maturity, coupon, yield and payment frequency."
   ]
  },
  {
   "cell_type": "code",
   "execution_count": null,
   "metadata": {},
   "outputs": [],
   "source": [
    "def bond_duration(TTM, coupon, yield_to_mat, freq):\n",
    "\n",
    "    if freq == freq_options.QUARTERLY:\n",
    "          delta = 0.25\n",
    "    elif freq == freq_options.SEMI_ANNUAL:\n",
    "        delta = 0.5\n",
    "    elif freq == freq_options.ANUAL:\n",
    "        delta = 1\n",
    "    else:\n",
    "        raise ValueError(\"Invalid frequency\")\n",
    "\n",
    "    payment_times = np.arange(TTM,0, step=-delta)[::-1]\n",
    "\n",
    "    # your code here"
   ]
  },
  {
   "cell_type": "markdown",
   "metadata": {},
   "source": [
    "For a 30 year bond with a coupon of $3\\%$, plot the bond duration as time evolves for yields of $1\\%,\\ 3\\%,\\ 5\\%$."
   ]
  },
  {
   "cell_type": "code",
   "execution_count": null,
   "metadata": {},
   "outputs": [],
   "source": [
    "# Your code here"
   ]
  },
  {
   "cell_type": "markdown",
   "metadata": {},
   "source": [
    "Same for a zero coupon bond (bond with coupon equal to $0\\%$)."
   ]
  },
  {
   "cell_type": "code",
   "execution_count": null,
   "metadata": {},
   "outputs": [],
   "source": [
    "# Your code here"
   ]
  },
  {
   "cell_type": "markdown",
   "metadata": {},
   "source": [
    "Can you provide a physical interpretation of duration? "
   ]
  },
  {
   "cell_type": "markdown",
   "metadata": {},
   "source": [
    "## Bootstrapping the yield curve\n",
    "\n",
    "Let us read the historical data included in the spgb_hist.csv file."
   ]
  },
  {
   "cell_type": "code",
   "execution_count": null,
   "metadata": {},
   "outputs": [],
   "source": [
    "spgb_hist = pd.read_csv(PATH + 'DATA/spgb_hist.csv', parse_dates=True, index_col=0, dayfirst=True)\n",
    "\n",
    "spgb_hist.head()"
   ]
  },
  {
   "cell_type": "markdown",
   "metadata": {},
   "source": [
    "The following code extracts the maturity and coupon of every bond. We will bootstrap the curve on the last date of the dataframe."
   ]
  },
  {
   "cell_type": "code",
   "execution_count": null,
   "metadata": {},
   "outputs": [],
   "source": [
    "\n",
    "# Calibration date will be last date of the dataframe.\n",
    "calibration_date = spgb_hist.index[-1]\n",
    "\n",
    "# Regular expression pattern to extract dates in the format mm/dd/yyyy.\n",
    "date_pattern =  r\"\\b\\d*\\.?\\d{0,2}\\s(\\d{1,2}/\\d{1,2}/\\d{4})\\b\"\n",
    "\n",
    "maturity_dates = [re.search(date_pattern, item).group(1) for item in spgb_hist.columns if re.search(date_pattern, item)]\n",
    "\n",
    "maturity_dates = pd.to_datetime(maturity_dates, format='%m/%d/%Y');\n",
    "\n",
    "# Regular expression pattern to extract coupons in the format d.dd.\n",
    "coupon_pattern = r\"\\b\\d+(\\.\\d{1,2})?\\b\"\n",
    "\n",
    "coupons = np.float64([re.search(coupon_pattern, item).group() for item in spgb_hist.columns if re.search(coupon_pattern, item)])/100\n",
    "\n",
    "# Year fraction to maturity of each bond.\n",
    "years_to_maturity = (maturity_dates - calibration_date).days / 365\n",
    "\n",
    "# Let us print coupons and years to maturity.\n",
    "print(coupons)\n",
    "print(years_to_maturity)\n",
    "\n"
   ]
  },
  {
   "cell_type": "markdown",
   "metadata": {},
   "source": [
    "The following function calculates the yield of a bond from its coupon, maturity and price."
   ]
  },
  {
   "cell_type": "code",
   "execution_count": null,
   "metadata": {},
   "outputs": [],
   "source": [
    "def bond_yield(TTM, coupon, price, freq):\n",
    "\n",
    "    return fsolve(lambda x: bond_price(TTM, coupon, x, freq) - price, coupon,xtol=1e-8)[0]"
   ]
  },
  {
   "cell_type": "markdown",
   "metadata": {},
   "source": [
    "Let us check that the function works."
   ]
  },
  {
   "cell_type": "code",
   "execution_count": null,
   "metadata": {},
   "outputs": [],
   "source": [
    "coupon = 0.05\n",
    "price = 1.00\n",
    "maturity = 30\n",
    "\n",
    "bond_yield(maturity, coupon, price, freq_options.ANUAL)"
   ]
  },
  {
   "cell_type": "markdown",
   "metadata": {},
   "source": [
    "The following class is the IR curve class. It wrapps a cubic spline interpolator and assumes cubic spline interpolation in zero copupon rates in rates * time (an ussual assumption)."
   ]
  },
  {
   "cell_type": "code",
   "execution_count": null,
   "metadata": {},
   "outputs": [],
   "source": [
    "class IR_Curve:\n",
    "\n",
    "    def __init__(self, time_pillars, rates):\n",
    "        # Append zero at the beginning for both time_pillars and rates\n",
    "        time_pillars = np.concatenate(([0], time_pillars))\n",
    "        rates = np.concatenate(([0], rates))\n",
    "        time_times_rate = rates * time_pillars\n",
    "\n",
    "        # Natural cubic spline interpolation\n",
    "        self.interpolator = CubicSpline(time_pillars, time_times_rate, bc_type='natural')\n",
    "\n",
    "    def zero_coupon_rates(self, time_pillars):\n",
    "        # Check for negative maturities and raise an error if found\n",
    "        if np.any(time_pillars < 0):\n",
    "            raise ValueError(\"Maturity cannot be negative.\")\n",
    "\n",
    "        # Calculate the true limit for zero-coupon rate as t approaches 0\n",
    "        zero_coupon_rates = np.zeros_like(time_pillars, dtype=float)\n",
    "        non_zero_mask = time_pillars != 0\n",
    "\n",
    "        # Calculate rates for non-zero times\n",
    "        zero_coupon_rates[non_zero_mask] = self.interpolator(time_pillars[non_zero_mask]) / time_pillars[non_zero_mask]\n",
    "        \n",
    "        # Use the derivative at t = 0 as the limit for the zero-coupon rate at t = 0\n",
    "        zero_coupon_rates[~non_zero_mask] = self.interpolator.derivative()(0)\n",
    "\n",
    "        return zero_coupon_rates\n",
    "\n",
    "    def discount_factors(self, time_pillars):\n",
    "        # Check for negative maturities and raise an error if found\n",
    "        if np.any(time_pillars < 0):\n",
    "            raise ValueError(\"Maturity cannot be negative.\")\n",
    "        \n",
    "        # Evaluate the spline and compute discount factors\n",
    "        return np.exp(-self.interpolator(time_pillars))\n",
    "\n"
   ]
  },
  {
   "cell_type": "code",
   "execution_count": null,
   "metadata": {},
   "outputs": [],
   "source": [
    "pillars = np.array([0.25, 0.5, 1, 2, 3, 5, 7, 10, 20, 30])\n",
    "rates = np.array([0.01, 0.015, 0.02, 0.025, 0.03, 0.035, 0.04, 0.045, 0.05, 0.055])\n",
    "#rates = np.ones_like(pillars) * (np.log(1.05))\n",
    "ir_curve = IR_Curve(pillars, rates)\n",
    "\n",
    "time_pillars = np.linspace(0.0, 30, 100)\n",
    "\n",
    "\n",
    "plt.plot(time_pillars, ir_curve.zero_coupon_rates(time_pillars))\n",
    "plt.plot(pillars, rates, 'o', color='red')\n"
   ]
  },
  {
   "cell_type": "markdown",
   "metadata": {},
   "source": [
    "Taking into consideration the curve object, modify the bond price function so that it prices bonds discounting its cashflows with the curve."
   ]
  },
  {
   "cell_type": "code",
   "execution_count": 92,
   "metadata": {},
   "outputs": [],
   "source": [
    "def bond_price_curve(TTM, coupon, curve, freq):\n",
    "\n",
    "    if freq == freq_options.QUARTERLY:\n",
    "          delta = 0.25\n",
    "    elif freq == freq_options.SEMI_ANNUAL:\n",
    "        delta = 0.5\n",
    "    elif freq == freq_options.ANUAL:\n",
    "        delta = 1\n",
    "    else:\n",
    "        raise ValueError(\"Invalid frequency\")\n",
    "\n",
    "    payment_times = np.arange(TTM,0, step=-delta)[::-1]\n",
    "  \n",
    "    # your code here"
   ]
  },
  {
   "cell_type": "code",
   "execution_count": null,
   "metadata": {},
   "outputs": [],
   "source": [
    "bond_price_curve(5, 0.05, ir_curve, freq_options.ANUAL)"
   ]
  },
  {
   "cell_type": "markdown",
   "metadata": {},
   "source": [
    "Write a function that computes the yield of a bond if the cashflows are discounted with the curve."
   ]
  },
  {
   "cell_type": "code",
   "execution_count": null,
   "metadata": {},
   "outputs": [],
   "source": [
    "def bond_yield_curve(TTM, coupon, curve, freq):\n",
    "\n",
    "    bond_target_price = bond_price_curve(TTM, coupon, curve, freq)\n",
    "\n",
    "    return fsolve(lambda x: bond_price(TTM, coupon, x, freq) - bond_target_price, coupon, xtol=1e-8)[0]"
   ]
  },
  {
   "cell_type": "code",
   "execution_count": null,
   "metadata": {},
   "outputs": [],
   "source": [
    "ttm = np.arange(1,31)\n",
    "\n",
    "y = [bond_yield_curve(m, 0.05, ir_curve, freq_options.ANUAL) for m in ttm] \n",
    "\n",
    "plt.plot(ttm, y)\n",
    "\n",
    "plt.plot(time_pillars, ir_curve.zero_coupon_rates(time_pillars))\n",
    "plt.plot(pillars, rates, 'o', color='red')\n"
   ]
  },
  {
   "cell_type": "code",
   "execution_count": null,
   "metadata": {},
   "outputs": [],
   "source": [
    "class yield_curve_bootsrap:\n",
    "\n",
    "    def __init__(self, bond_maturities, bond_yields, bond_coupons, curve_pillars, init_guess=0.05):\n",
    "        \n",
    "        self.bond_maturities = bond_maturities\n",
    "        self.bond_yields = bond_yields\n",
    "        self.curve_pillars = curve_pillars\n",
    "        self.bond_coupons = np.array(bond_coupons)\n",
    "        self.init_guess = init_guess*np.ones_like(curve_pillars)\n",
    "\n",
    "    def compute_model_yields(self, curve_rates):\n",
    "\n",
    "        ir_curve = IR_Curve(self.curve_pillars, curve_rates)\n",
    "\n",
    "        return np.array([bond_yield_curve(m, c, ir_curve, freq_options.ANUAL) for m,c in zip(self.bond_maturities, self.bond_coupons)])\n",
    "\n",
    "    def compute_yield_mse(self, curve_rates):\n",
    "        \n",
    "        model_yields = self.compute_model_yields(curve_rates)\n",
    "\n",
    "        return np.mean((model_yields - self.bond_yields)**2)\n",
    "    \n",
    "    def bootstrap(self):\n",
    "        \n",
    "        return minimize(self.compute_yield_mse, self.init_guess)['x']\n",
    "        \n",
    "    "
   ]
  },
  {
   "cell_type": "code",
   "execution_count": null,
   "metadata": {},
   "outputs": [],
   "source": [
    "pillars = np.array([0.25, 0.5, 1, 2, 3, 5, 7, 10, 15,20,25 ,30, 40,50])\n",
    "#rates = np.array([0.01, 0.015, 0.02, 0.025, 0.03, 0.035, 0.04, 0.045, 0.05, 0.055, 0.06])\n",
    "\n",
    "boot = yield_curve_bootsrap(years_to_maturity, spgb_hist.iloc[-1]/100, coupons, pillars)\n",
    "\n",
    "\n",
    "#boot.compute_yield_mse(rates)\n",
    "\n",
    "rates = boot.bootstrap()\n"
   ]
  },
  {
   "cell_type": "code",
   "execution_count": null,
   "metadata": {},
   "outputs": [],
   "source": [
    "plt.plot(years_to_maturity, boot.compute_model_yields(rates), 'o')\n",
    "plt.plot(years_to_maturity, spgb_hist.iloc[-1]/100, '.')\n",
    "plt.plot(np.arra, rates, 'o', color='red')"
   ]
  },
  {
   "cell_type": "markdown",
   "metadata": {},
   "source": []
  }
 ],
 "metadata": {
  "kernelspec": {
   "display_name": "definitive",
   "language": "python",
   "name": "python3"
  },
  "language_info": {
   "codemirror_mode": {
    "name": "ipython",
    "version": 3
   },
   "file_extension": ".py",
   "mimetype": "text/x-python",
   "name": "python",
   "nbconvert_exporter": "python",
   "pygments_lexer": "ipython3",
   "version": "3.11.8"
  }
 },
 "nbformat": 4,
 "nbformat_minor": 2
}
