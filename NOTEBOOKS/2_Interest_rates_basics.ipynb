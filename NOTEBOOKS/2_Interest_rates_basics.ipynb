{
 "cells": [
  {
   "cell_type": "markdown",
   "metadata": {},
   "source": [
    "# Quantitative Methods in Finance"
   ]
  },
  {
   "cell_type": "markdown",
   "metadata": {},
   "source": [
    "Click <a href=\"https://colab.research.google.com/github/Lolillosky/QuantMethodsFinance/blob/main/NOTEBOOKS/2_Interest_rates_basics.ipynb\">\n",
    "    <img src=\"https://upload.wikimedia.org/wikipedia/commons/d/d0/Google_Colaboratory_SVG_Logo.svg\" width=\"30\" alt=\"Google Colab\">\n",
    "</a> to open this notebook in Google Colab."
   ]
  },
  {
   "cell_type": "markdown",
   "metadata": {},
   "source": [
    "Import some libraries"
   ]
  },
  {
   "cell_type": "code",
   "execution_count": 22,
   "metadata": {},
   "outputs": [],
   "source": [
    "import numpy as np\n",
    "import matplotlib.pyplot as plt\n",
    "from scipy.optimize import fsolve"
   ]
  },
  {
   "cell_type": "markdown",
   "metadata": {},
   "source": [
    "## Interest rate \n",
    "\n",
    "Given the following:\n",
    "\n",
    "| Concept | Amount | \n",
    "|----------|----------|\n",
    "| Initial investment    | 100     |\n",
    "| Final value    | 150     |\n",
    "| T-t (years)    | 5     |\n",
    "\n",
    "Calculate simple, compounded and continuously compounded interest\n"
   ]
  },
  {
   "cell_type": "code",
   "execution_count": 3,
   "metadata": {},
   "outputs": [],
   "source": [
    "# Your code here"
   ]
  },
  {
   "cell_type": "markdown",
   "metadata": {},
   "source": []
  },
  {
   "cell_type": "markdown",
   "metadata": {},
   "source": [
    "## Continuously compounded interest\n",
    "\n",
    "Check numerically that:\n",
    "\n",
    "$$\\lim_{n \\to \\infty}\\left(1+r\\frac{T-t}{n}\\right)^n=\\exp\\left(r\\left(T-t\\right)\\right)$$\n",
    "\n",
    "Assume $r=0.03$ $T-t=5$"
   ]
  },
  {
   "cell_type": "code",
   "execution_count": 4,
   "metadata": {},
   "outputs": [],
   "source": [
    "# Your code here"
   ]
  },
  {
   "cell_type": "markdown",
   "metadata": {},
   "source": [
    "## Internal rate of return / yield of a bond \n",
    "\n",
    "The following code is a simplified version of the pricing of a bond forgeting about dates and day count conventions."
   ]
  },
  {
   "cell_type": "code",
   "execution_count": null,
   "metadata": {},
   "outputs": [],
   "source": [
    "# Your code here\n",
    "\n",
    "from enum import Enum\n",
    "\n",
    "class freq_options(Enum):\n",
    "    QUARTERLY = 1\n",
    "    SEMI_ANNUAL = 2\n",
    "    ANUAL = 3\n",
    "\n",
    "\n",
    "def bond_price(TTM, coupon, y, freq):\n",
    "\n",
    "    if freq == freq_options.QUARTERLY:\n",
    "          delta = 0.25\n",
    "    elif freq == freq_options.SEMI_ANNUAL:\n",
    "        delta = 0.5\n",
    "    elif freq == freq_options.ANUAL:\n",
    "        delta = 1\n",
    "    else:\n",
    "        raise ValueError(\"Invalid frequency\")\n",
    "\n",
    "    payment_times = np.arange(TTM,0, step=-delta)\n",
    "\n",
    "    return np.sum(coupon * delta * (1.0 + y)**(-payment_times)) + (1.0 + y)**(-TTM) \n"
   ]
  },
  {
   "cell_type": "code",
   "execution_count": 30,
   "metadata": {},
   "outputs": [
    {
     "data": {
      "text/plain": [
       "0.9134104665873835"
      ]
     },
     "execution_count": 30,
     "metadata": {},
     "output_type": "execute_result"
    }
   ],
   "source": [
    "bond_price(5,0.03,0.05,freq_options.ANUAL)"
   ]
  },
  {
   "cell_type": "markdown",
   "metadata": {},
   "source": [
    "For a 5 year maturity bond, with annual coupons of $3\\%$, plot the dirty price as a function of its yield. If the yield of a bond rises, does the bond holder gain or loose money?"
   ]
  },
  {
   "cell_type": "code",
   "execution_count": 31,
   "metadata": {},
   "outputs": [],
   "source": [
    "# Your code here"
   ]
  },
  {
   "cell_type": "markdown",
   "metadata": {},
   "source": [
    "For yields equal to $1\\%,\\ 3\\%,\\ 5\\%$, plot the dirty price as time goes by and we approach the maturity of the bond. "
   ]
  },
  {
   "cell_type": "code",
   "execution_count": 32,
   "metadata": {},
   "outputs": [],
   "source": [
    "# Your code here"
   ]
  },
  {
   "cell_type": "markdown",
   "metadata": {},
   "source": [
    "If the price of the bond is $103\\%$, compute its yield. Use fsolve function."
   ]
  },
  {
   "cell_type": "code",
   "execution_count": 33,
   "metadata": {},
   "outputs": [
    {
     "data": {
      "text/plain": [
       "array([0.03])"
      ]
     },
     "execution_count": 33,
     "metadata": {},
     "output_type": "execute_result"
    }
   ],
   "source": [
    "# Your code here\n",
    "\n",
    "fsolve(lambda x: bond_price(5,0.03,x,freq_options.ANUAL) - 1.00, 0.03)"
   ]
  },
  {
   "cell_type": "code",
   "execution_count": 34,
   "metadata": {},
   "outputs": [
    {
     "data": {
      "text/plain": [
       "0.9999999999999999"
      ]
     },
     "execution_count": 34,
     "metadata": {},
     "output_type": "execute_result"
    }
   ],
   "source": [
    "bond_price(5,0.03,0.03,freq_options.ANUAL)"
   ]
  },
  {
   "cell_type": "code",
   "execution_count": null,
   "metadata": {},
   "outputs": [],
   "source": []
  }
 ],
 "metadata": {
  "kernelspec": {
   "display_name": "definitive",
   "language": "python",
   "name": "python3"
  },
  "language_info": {
   "codemirror_mode": {
    "name": "ipython",
    "version": 3
   },
   "file_extension": ".py",
   "mimetype": "text/x-python",
   "name": "python",
   "nbconvert_exporter": "python",
   "pygments_lexer": "ipython3",
   "version": "3.10.13"
  }
 },
 "nbformat": 4,
 "nbformat_minor": 2
}
