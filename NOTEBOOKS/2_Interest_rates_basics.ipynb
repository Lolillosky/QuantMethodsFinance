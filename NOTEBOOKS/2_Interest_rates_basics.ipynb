{
  "cells": [
    {
      "cell_type": "markdown",
      "metadata": {
        "id": "4s1YpUWOVwah"
      },
      "source": [
        "# Quantitative Methods in Finance"
      ]
    },
    {
      "cell_type": "markdown",
      "metadata": {
        "id": "sW_se_E4Vwal"
      },
      "source": [
        "Click <a href=\"https://colab.research.google.com/github/Lolillosky/QuantMethodsFinance/blob/main/NOTEBOOKS/2_Interest_rates_basics.ipynb\">\n",
        "    <img src=\"https://upload.wikimedia.org/wikipedia/commons/d/d0/Google_Colaboratory_SVG_Logo.svg\" width=\"30\" alt=\"Google Colab\">\n",
        "</a> to open this notebook in Google Colab.\n",
        "\n",
        "Clone the repository"
      ]
    },
    {
      "cell_type": "code",
      "execution_count": 1,
      "metadata": {
        "id": "_2tV2dMFVwam"
      },
      "outputs": [],
      "source": [
        "from IPython.display import clear_output\n",
        "\n",
        "!rm -r {'QuantMethodsFinance'}\n",
        "\n",
        "!git clone https://github.com/Lolillosky/QuantMethodsFinance\n",
        "\n",
        "import sys\n",
        "sys.modules.pop\n",
        "sys.path.insert(0,'QuantMethodsFinance/CODE')\n",
        "\n",
        "clear_output()"
      ]
    },
    {
      "cell_type": "markdown",
      "metadata": {
        "id": "1axq1mtaVwao"
      },
      "source": [
        "Import some libraries"
      ]
    },
    {
      "cell_type": "code",
      "execution_count": 2,
      "metadata": {
        "id": "QZ506rN2Vwap"
      },
      "outputs": [],
      "source": [
        "import numpy as np\n",
        "import matplotlib.pyplot as plt\n",
        "from scipy.optimize import fsolve\n",
        "from scipy.optimize import minimize\n",
        "import pandas as pd\n",
        "import re\n",
        "from scipy.interpolate import CubicSpline\n"
      ]
    },
    {
      "cell_type": "markdown",
      "metadata": {
        "id": "BJMAjjKFVwap"
      },
      "source": [
        "Modify PATH variable depending on how you run the notebook"
      ]
    },
    {
      "cell_type": "code",
      "execution_count": 3,
      "metadata": {
        "id": "M53sVba0Vwap"
      },
      "outputs": [],
      "source": [
        "# To be used if notebook is run in Google Colab\n",
        "PATH = '/content/QuantMethodsFinance/'\n",
        "# To be used if notebook is run in a local clone of the repository\n",
        "# PATH = '../'\n"
      ]
    },
    {
      "cell_type": "markdown",
      "metadata": {
        "id": "uiACnYviVwaq"
      },
      "source": [
        "## Interest rate\n",
        "\n",
        "Given the following:\n",
        "\n",
        "| Concept | Amount |\n",
        "|----------|----------|\n",
        "| Initial investment    | 100     |\n",
        "| Final value    | 150     |\n",
        "| T-t (years)    | 5     |\n",
        "\n",
        "Calculate simple, compounded and continuously compounded interest\n"
      ]
    },
    {
      "cell_type": "code",
      "execution_count": 4,
      "metadata": {
        "id": "6aPaxSENVwaq"
      },
      "outputs": [],
      "source": [
        "# Your code here"
      ]
    },
    {
      "cell_type": "markdown",
      "metadata": {
        "id": "tBus0SZwVwar"
      },
      "source": []
    },
    {
      "cell_type": "markdown",
      "metadata": {
        "id": "yzSoXb1rVwar"
      },
      "source": [
        "## Continuously compounded interest\n",
        "\n",
        "Check numerically that:\n",
        "\n",
        "$$\\lim_{n \\to \\infty}\\left(1+r\\frac{T-t}{n}\\right)^n=\\exp\\left(r\\left(T-t\\right)\\right)$$\n",
        "\n",
        "Assume $r=0.03$ $T-t=5$"
      ]
    },
    {
      "cell_type": "code",
      "execution_count": 5,
      "metadata": {
        "id": "KYH-bkQIVwar"
      },
      "outputs": [],
      "source": [
        "# Your code here\n"
      ]
    },
    {
      "cell_type": "markdown",
      "metadata": {
        "id": "mNHUaFcNVwar"
      },
      "source": [
        "## Internal rate of return / yield of a bond\n",
        "\n",
        "The following code is a simplified version of the pricing of a bond forgeting about dates and day count conventions."
      ]
    },
    {
      "cell_type": "code",
      "execution_count": 6,
      "metadata": {
        "id": "qI9RVUvjVwar"
      },
      "outputs": [],
      "source": [
        "\n",
        "from enum import Enum\n",
        "\n",
        "class freq_options(Enum):\n",
        "    QUARTERLY = 1\n",
        "    SEMI_ANNUAL = 2\n",
        "    ANUAL = 3\n",
        "\n",
        "\n",
        "def bond_price(TTM, coupon, yield_to_mat, freq):\n",
        "\n",
        "    if freq == freq_options.QUARTERLY:\n",
        "          delta = 0.25\n",
        "    elif freq == freq_options.SEMI_ANNUAL:\n",
        "        delta = 0.5\n",
        "    elif freq == freq_options.ANUAL:\n",
        "        delta = 1\n",
        "    else:\n",
        "        raise ValueError(\"Invalid frequency\")\n",
        "\n",
        "    payment_times = np.arange(TTM,0, step=-delta)[::-1]\n",
        "\n",
        "    return np.sum(coupon * delta * (1.0 + yield_to_mat)**(-payment_times)) + (1.0 + yield_to_mat)**(-TTM)\n"
      ]
    },
    {
      "cell_type": "code",
      "execution_count": 7,
      "metadata": {
        "id": "jra-V5D0Vwar",
        "outputId": "0113121d-34e8-4512-9f89-3c0f14a2b4c3",
        "colab": {
          "base_uri": "https://localhost:8080/"
        }
      },
      "outputs": [
        {
          "output_type": "execute_result",
          "data": {
            "text/plain": [
              "0.9134104665873835"
            ]
          },
          "metadata": {},
          "execution_count": 7
        }
      ],
      "source": [
        "bond_price(5,0.03,0.05,freq_options.ANUAL)"
      ]
    },
    {
      "cell_type": "markdown",
      "metadata": {
        "id": "3NgreqgkVwas"
      },
      "source": [
        "For a 5 year maturity bond, with annual coupons of $3\\%$, plot the dirty price as a function of its yield. If the yield of a bond rises, does the bond holder gain or loose money?"
      ]
    },
    {
      "cell_type": "code",
      "execution_count": null,
      "metadata": {
        "id": "WtTBGoE3Vwas"
      },
      "outputs": [],
      "source": [
        "# Your code here\n",
        "\n",
        "maturity = 30\n",
        "coupon = 0.03\n",
        "ytm = np.linspace(0,0.1,100)\n",
        "\n",
        "price = [bond_price(maturity, coupon, x, freq_options.ANUAL) for x in ytm]\n",
        "\n",
        "\n",
        "plt.plot(ytm, price)\n",
        "plt.plot(0.03, 1.0, 'o', color = 'red')"
      ]
    },
    {
      "cell_type": "markdown",
      "metadata": {
        "id": "g0_b7fBiVwas"
      },
      "source": [
        "For yields equal to $1\\%,\\ 3\\%,\\ 5\\%$, plot the dirty price as time goes by and we approach the maturity of the bond."
      ]
    },
    {
      "cell_type": "code",
      "execution_count": null,
      "metadata": {
        "id": "R8tt57GNVwas"
      },
      "outputs": [],
      "source": [
        "# Your code here\n",
        "\n",
        "maturity = np.linspace(0,30,1000)\n",
        "coupon = 0.03\n",
        "y1 = 0.01\n",
        "y2 = 0.03\n",
        "y3 = 0.05\n",
        "\n",
        "\n",
        "price1 = [bond_price(m, coupon, y1, freq_options.ANUAL) for m in maturity]\n",
        "price2 = [bond_price(m, coupon, y2, freq_options.ANUAL) for m in maturity]\n",
        "price3 = [bond_price(m, coupon, y3, freq_options.ANUAL) for m in maturity]\n",
        "\n",
        "\n",
        "plt.plot(maturity[::-1], price1, label= '0.01')\n",
        "plt.plot(maturity[::-1], price2, label= '0.03')\n",
        "plt.plot(maturity[::-1], price3, label= '0.05')\n",
        "\n",
        "plt.legend()\n",
        "\n",
        "\n"
      ]
    },
    {
      "cell_type": "markdown",
      "metadata": {
        "id": "aatiIeCzVwas"
      },
      "source": [
        "If the price of the bond is $103\\%$, compute its yield. Use fsolve function of Scipy."
      ]
    },
    {
      "cell_type": "code",
      "execution_count": 10,
      "metadata": {
        "id": "OP5q0d7QVwas",
        "outputId": "eacbbd58-f140-4bd2-de22-24ca3831f86d",
        "colab": {
          "base_uri": "https://localhost:8080/"
        }
      },
      "outputs": [
        {
          "output_type": "execute_result",
          "data": {
            "text/plain": [
              "array([0.02356917])"
            ]
          },
          "metadata": {},
          "execution_count": 10
        }
      ],
      "source": [
        "# Your code here\n",
        "\n",
        "fsolve(lambda y: bond_price(5,0.03,y,freq_options.ANUAL)-1.03, 0.03)"
      ]
    },
    {
      "cell_type": "code",
      "source": [
        "(lambda x: x+1)(7)\n",
        "\n"
      ],
      "metadata": {
        "id": "YZmnBCZ1l6W1",
        "outputId": "fa8aebb8-2b13-4498-c342-6ad075b7c891",
        "colab": {
          "base_uri": "https://localhost:8080/"
        }
      },
      "execution_count": 11,
      "outputs": [
        {
          "output_type": "execute_result",
          "data": {
            "text/plain": [
              "8"
            ]
          },
          "metadata": {},
          "execution_count": 11
        }
      ]
    },
    {
      "cell_type": "markdown",
      "metadata": {
        "id": "u-_0L9JNVwas"
      },
      "source": [
        "## Duration\n",
        "\n",
        "Code a function to compute the duration of a bond for a given maturity, coupon, yield and payment frequency."
      ]
    },
    {
      "cell_type": "code",
      "execution_count": 12,
      "metadata": {
        "id": "1XSlKF5uVwas"
      },
      "outputs": [],
      "source": [
        "def bond_duration(TTM, coupon, yield_to_mat, freq, charts = False):\n",
        "\n",
        "    if freq == freq_options.QUARTERLY:\n",
        "          delta = 0.25\n",
        "    elif freq == freq_options.SEMI_ANNUAL:\n",
        "        delta = 0.5\n",
        "    elif freq == freq_options.ANUAL:\n",
        "        delta = 1\n",
        "    else:\n",
        "        raise ValueError(\"Invalid frequency\")\n",
        "\n",
        "    payment_times = np.arange(TTM,0, step=-delta)[::-1]\n",
        "\n",
        "    disc_cf = coupon * delta * (1+yield_to_mat)**(-payment_times)\n",
        "\n",
        "    disc_cf[-1] += (1+yield_to_mat)**(-payment_times[-1])\n",
        "\n",
        "    disc_cf_times_t = disc_cf * payment_times\n",
        "\n",
        "    duration = np.sum(disc_cf_times_t) / np.sum(disc_cf)\n",
        "\n",
        "    if charts:\n",
        "      plt.bar(payment_times, disc_cf)\n",
        "      plt.vlines(duration, 0, 1, color = 'red')\n",
        "      plt.show()\n",
        "\n",
        "    return duration\n",
        "\n",
        "\n",
        "\n",
        "    # your code here"
      ]
    },
    {
      "cell_type": "markdown",
      "metadata": {
        "id": "csjJS7t-Vwat"
      },
      "source": [
        "For a 30 year bond with a coupon of $3\\%$, plot the bond duration as time evolves for yields of $1\\%,\\ 3\\%,\\ 5\\%$."
      ]
    },
    {
      "cell_type": "code",
      "source": [
        "bond_duration(30,0.03,0.03,freq_options.ANUAL, True)"
      ],
      "metadata": {
        "id": "Av6lcBN6wQes"
      },
      "execution_count": null,
      "outputs": []
    },
    {
      "cell_type": "code",
      "source": [
        "maturity = np.linspace(0.0001,30,1000)\n",
        "coupon = 0.03\n",
        "y1 = 0.01\n",
        "y2 = 0.03\n",
        "y3 = 0.05\n",
        "\n",
        "\n",
        "duration1 = [bond_duration(m, coupon, y1, freq_options.ANUAL) for m in maturity]\n",
        "duration2 = [bond_duration(m, coupon, y2, freq_options.ANUAL) for m in maturity]\n",
        "duration3 = [bond_duration(m, coupon, y3, freq_options.ANUAL) for m in maturity]\n",
        "\n",
        "\n",
        "plt.plot(maturity[::-1], duration1, label= '0.01')\n",
        "plt.plot(maturity[::-1], duration2, label= '0.03')\n",
        "plt.plot(maturity[::-1], duration3, label= '0.05')\n",
        "\n",
        "plt.legend()\n",
        "\n"
      ],
      "metadata": {
        "id": "K06lqdZbxokA"
      },
      "execution_count": null,
      "outputs": []
    },
    {
      "cell_type": "code",
      "execution_count": 15,
      "metadata": {
        "id": "LltIbml1Vwat"
      },
      "outputs": [],
      "source": [
        "# Your code here"
      ]
    },
    {
      "cell_type": "markdown",
      "metadata": {
        "id": "iaKXIEGTVwat"
      },
      "source": [
        "Same for a zero coupon bond (bond with coupon equal to $0\\%$)."
      ]
    },
    {
      "cell_type": "code",
      "execution_count": 16,
      "metadata": {
        "id": "KW6V0sZOVwat"
      },
      "outputs": [],
      "source": [
        "# Your code here"
      ]
    },
    {
      "cell_type": "markdown",
      "metadata": {
        "id": "EMR1royPVwat"
      },
      "source": [
        "Can you provide a physical interpretation of duration?"
      ]
    },
    {
      "cell_type": "markdown",
      "metadata": {
        "id": "LLJxgHKMVwat"
      },
      "source": [
        "## Bootstrapping the yield curve\n",
        "\n",
        "Let us read the historical data included in the spgb_hist.csv file."
      ]
    },
    {
      "cell_type": "code",
      "execution_count": null,
      "metadata": {
        "id": "q2ZQnAT8Vwat"
      },
      "outputs": [],
      "source": [
        "spgb_hist = pd.read_csv(PATH + 'DATA/spgb_hist.csv', parse_dates=True, index_col=0, dayfirst=True)\n",
        "\n",
        "spgb_hist.head()"
      ]
    },
    {
      "cell_type": "markdown",
      "metadata": {
        "id": "2eBCuPEaVwat"
      },
      "source": [
        "The following code extracts the maturity and coupon of every bond. We will bootstrap the curve on the last date of the dataframe."
      ]
    },
    {
      "cell_type": "code",
      "execution_count": null,
      "metadata": {
        "id": "MFLlmJKGVwat"
      },
      "outputs": [],
      "source": [
        "\n",
        "# Calibration date will be last date of the dataframe.\n",
        "calibration_date = spgb_hist.index[-1]\n",
        "\n",
        "# Regular expression pattern to extract dates in the format mm/dd/yyyy.\n",
        "date_pattern =  r\"\\b\\d*\\.?\\d{0,2}\\s(\\d{1,2}/\\d{1,2}/\\d{4})\\b\"\n",
        "\n",
        "maturity_dates = [re.search(date_pattern, item).group(1) for item in spgb_hist.columns if re.search(date_pattern, item)]\n",
        "\n",
        "maturity_dates = pd.to_datetime(maturity_dates, format='%m/%d/%Y');\n",
        "\n",
        "# Regular expression pattern to extract coupons in the format d.dd.\n",
        "coupon_pattern = r\"\\b\\d+(\\.\\d{1,2})?\\b\"\n",
        "\n",
        "coupons = np.float64([re.search(coupon_pattern, item).group() for item in spgb_hist.columns if re.search(coupon_pattern, item)])/100\n",
        "\n",
        "# Year fraction to maturity of each bond.\n",
        "years_to_maturity = (maturity_dates - calibration_date).days / 365\n",
        "\n",
        "# Let us print coupons and years to maturity.\n",
        "print(coupons)\n",
        "print(years_to_maturity)\n",
        "\n"
      ]
    },
    {
      "cell_type": "markdown",
      "metadata": {
        "id": "WW4YiickVwat"
      },
      "source": [
        "The following function calculates the yield of a bond from its coupon, maturity and price."
      ]
    },
    {
      "cell_type": "code",
      "execution_count": 19,
      "metadata": {
        "id": "EPhPjEM1Vwau"
      },
      "outputs": [],
      "source": [
        "def bond_yield(TTM, coupon, price, freq):\n",
        "\n",
        "    return fsolve(lambda x: bond_price(TTM, coupon, x, freq) - price, coupon,xtol=1e-8)[0]"
      ]
    },
    {
      "cell_type": "markdown",
      "metadata": {
        "id": "qsW5bKqYVwau"
      },
      "source": [
        "Let us check that the function works."
      ]
    },
    {
      "cell_type": "code",
      "execution_count": 20,
      "metadata": {
        "id": "PWLqE7nOVwau",
        "outputId": "9b44ad97-37e0-4745-db08-cdd99ce937ab",
        "colab": {
          "base_uri": "https://localhost:8080/"
        }
      },
      "outputs": [
        {
          "output_type": "execute_result",
          "data": {
            "text/plain": [
              "0.05"
            ]
          },
          "metadata": {},
          "execution_count": 20
        }
      ],
      "source": [
        "coupon = 0.05\n",
        "price = 1.00\n",
        "maturity = 30\n",
        "\n",
        "bond_yield(maturity, coupon, price, freq_options.ANUAL)"
      ]
    },
    {
      "cell_type": "markdown",
      "metadata": {
        "id": "G4Gt9RzpVwau"
      },
      "source": [
        "The following class is the IR curve class. It wrapps a cubic spline interpolator and assumes cubic spline interpolation in zero copupon rates in rates * time (an ussual assumption)."
      ]
    },
    {
      "cell_type": "code",
      "execution_count": 21,
      "metadata": {
        "id": "R8hpD9pFVwau"
      },
      "outputs": [],
      "source": [
        "class IR_Curve:\n",
        "\n",
        "    def __init__(self, time_pillars, rates):\n",
        "        # Append zero at the beginning for both time_pillars and rates\n",
        "        time_pillars = np.concatenate(([0], time_pillars))\n",
        "        rates = np.concatenate(([0], rates))\n",
        "        time_times_rate = rates * time_pillars\n",
        "\n",
        "        # Natural cubic spline interpolation\n",
        "        self.interpolator = CubicSpline(time_pillars, time_times_rate, bc_type='natural')\n",
        "\n",
        "    def zero_coupon_rates(self, time_pillars):\n",
        "        # Check for negative maturities and raise an error if found\n",
        "        if np.any(time_pillars < 0):\n",
        "            raise ValueError(\"Maturity cannot be negative.\")\n",
        "\n",
        "        # Calculate the true limit for zero-coupon rate as t approaches 0\n",
        "        zero_coupon_rates = np.zeros_like(time_pillars, dtype=float)\n",
        "        non_zero_mask = time_pillars != 0\n",
        "\n",
        "        # Calculate rates for non-zero times\n",
        "        zero_coupon_rates[non_zero_mask] = self.interpolator(time_pillars[non_zero_mask]) / time_pillars[non_zero_mask]\n",
        "\n",
        "        # Use the derivative at t = 0 as the limit for the zero-coupon rate at t = 0\n",
        "        zero_coupon_rates[~non_zero_mask] = self.interpolator.derivative()(0)\n",
        "\n",
        "        return zero_coupon_rates\n",
        "\n",
        "    def discount_factors(self, time_pillars):\n",
        "        # Check for negative maturities and raise an error if found\n",
        "        if np.any(time_pillars < 0):\n",
        "            raise ValueError(\"Maturity cannot be negative.\")\n",
        "\n",
        "        # Evaluate the spline and compute discount factors\n",
        "        return np.exp(-self.interpolator(time_pillars))\n",
        "\n"
      ]
    },
    {
      "cell_type": "code",
      "execution_count": null,
      "metadata": {
        "id": "OQuiHMGDVwau"
      },
      "outputs": [],
      "source": [
        "pillars = np.array([0.25, 0.5, 1, 2, 3, 5, 7, 10, 20, 30, 40, 50])\n",
        "rates = np.array([0.01, 0.015, 0.02, 0.025, 0.03, 0.035, 0.04, 0.045, 0.05, 0.055, 0.06, 0.06])\n",
        "rates = np.ones_like(pillars) * (np.log(1.05))\n",
        "ir_curve = IR_Curve(pillars, rates)\n",
        "\n",
        "time_pillars = np.linspace(0.0, 50, 100)\n",
        "\n",
        "\n",
        "plt.plot(time_pillars, ir_curve.zero_coupon_rates(time_pillars))\n",
        "plt.plot(pillars, rates, 'o', color='red')\n"
      ]
    },
    {
      "cell_type": "markdown",
      "metadata": {
        "id": "xlINPxl3Vway"
      },
      "source": [
        "Taking into consideration the curve object, modify the bond price function so that it prices bonds discounting its cashflows with the curve."
      ]
    },
    {
      "cell_type": "code",
      "execution_count": 23,
      "metadata": {
        "id": "jHWkQwzjVway"
      },
      "outputs": [],
      "source": [
        "def bond_price_curve(TTM, coupon, curve, freq):\n",
        "\n",
        "    if freq == freq_options.QUARTERLY:\n",
        "          delta = 0.25\n",
        "    elif freq == freq_options.SEMI_ANNUAL:\n",
        "        delta = 0.5\n",
        "    elif freq == freq_options.ANUAL:\n",
        "        delta = 1\n",
        "    else:\n",
        "        raise ValueError(\"Invalid frequency\")\n",
        "\n",
        "    payment_times = np.arange(TTM,0, step=-delta)[::-1]\n",
        "\n",
        "    # your code here\n",
        "    discount_factors = curve.discount_factors(payment_times)\n",
        "\n",
        "    bond_price = np.sum(discount_factors * delta * coupon)\n",
        "\n",
        "    bond_price += discount_factors[-1]\n",
        "\n",
        "    return bond_price"
      ]
    },
    {
      "cell_type": "code",
      "execution_count": null,
      "metadata": {
        "id": "oreCdMf8Vway"
      },
      "outputs": [],
      "source": [
        "bond_price_curve(5, 0.05, ir_curve, freq_options.ANUAL)"
      ]
    },
    {
      "cell_type": "markdown",
      "metadata": {
        "id": "w4rODGMYVway"
      },
      "source": [
        "Write a function that computes the yield of a bond if the cashflows are discounted with the curve."
      ]
    },
    {
      "cell_type": "code",
      "execution_count": 25,
      "metadata": {
        "id": "xQX5UoXyVwaz"
      },
      "outputs": [],
      "source": [
        "def bond_yield_curve(TTM, coupon, curve, freq):\n",
        "\n",
        "    # your code\n",
        "    model_price = bond_price_curve(TTM, coupon, curve, freq)\n",
        "\n",
        "    return bond_yield(TTM,coupon,model_price,freq)"
      ]
    },
    {
      "cell_type": "code",
      "source": [
        "bond_yield_curve(5,0.05,ir_curve,freq_options.ANUAL)"
      ],
      "metadata": {
        "id": "6RGer6KZAJSE",
        "outputId": "df562648-675e-4019-8d1e-8f033f46cb3a",
        "colab": {
          "base_uri": "https://localhost:8080/"
        }
      },
      "execution_count": 26,
      "outputs": [
        {
          "output_type": "execute_result",
          "data": {
            "text/plain": [
              "0.05"
            ]
          },
          "metadata": {},
          "execution_count": 26
        }
      ]
    },
    {
      "cell_type": "code",
      "source": [
        "yields_test = [bond_yield_curve(m,c,ir_curve,freq_options.ANUAL) for m, c in zip(years_to_maturity,coupons) ]\n",
        "\n",
        "plt.plot(years_to_maturity,yields_test, 'o')\n",
        "\n",
        "plt.plot(time_pillars, ir_curve.zero_coupon_rates(time_pillars))\n",
        "plt.plot(pillars, rates, 'o', color='red')\n"
      ],
      "metadata": {
        "id": "H0U_yazuAwvq"
      },
      "execution_count": null,
      "outputs": []
    },
    {
      "cell_type": "markdown",
      "metadata": {
        "id": "SSsDvGa3Vwaz"
      },
      "source": [
        "Complete the class below so that it calibrates th zero coupon curve from bond yields"
      ]
    },
    {
      "cell_type": "code",
      "execution_count": 28,
      "metadata": {
        "id": "1DRJiZs9Vwaz"
      },
      "outputs": [],
      "source": [
        "class yield_curve_bootsrap:\n",
        "\n",
        "    def __init__(self, bond_maturities, bond_yields, bond_coupons, curve_pillars, init_guess=0.05):\n",
        "\n",
        "        self.bond_maturities = bond_maturities\n",
        "        self.bond_yields = bond_yields\n",
        "        self.curve_pillars = curve_pillars\n",
        "        self.bond_coupons = np.array(bond_coupons)\n",
        "        self.init_guess = init_guess*np.ones_like(curve_pillars)\n",
        "\n",
        "    def compute_model_yields(self, curve_rates):\n",
        "\n",
        "        # your code here\n",
        "\n",
        "        curve = IR_Curve(self.curve_pillars, curve_rates)\n",
        "\n",
        "        return np.array([bond_yield_curve(m,c,curve ,\n",
        "            freq_options.ANUAL) for m, c in zip(self.bond_maturities,self.bond_coupons) ])\n",
        "\n",
        "    def compute_yield_mse(self, curve_rates):\n",
        "\n",
        "        model_yields = self.compute_model_yields(curve_rates)\n",
        "\n",
        "        return np.mean((model_yields - self.bond_yields)**2)\n",
        "\n",
        "    def bootstrap(self):\n",
        "\n",
        "        pillar_rates = minimize(self.compute_yield_mse, self.init_guess)['x']\n",
        "\n",
        "        return {'pillar rates': pillar_rates, 'curve object': IR_Curve(self.curve_pillars, pillar_rates)}\n",
        "\n"
      ]
    },
    {
      "cell_type": "code",
      "source": [
        "boot = yield_curve_bootsrap(years_to_maturity,spgb_hist.iloc[-1]/100, coupons,pillars)\n",
        "\n"
      ],
      "metadata": {
        "id": "fpHZ4tGHjdag"
      },
      "execution_count": 29,
      "outputs": []
    },
    {
      "cell_type": "code",
      "source": [
        "boot_output = boot.bootstrap()"
      ],
      "metadata": {
        "id": "75ptb8vnkZAA"
      },
      "execution_count": 30,
      "outputs": []
    },
    {
      "cell_type": "code",
      "source": [
        "plt.plot(time_pillars, boot_output['curve object'].zero_coupon_rates(time_pillars), label = 'zero curve')\n",
        "plt.plot(boot.bond_maturities, boot.bond_yields, 'o', label = 'market yields')\n",
        "plt.plot(boot.bond_maturities, boot.compute_model_yields(boot_output['pillar rates']), 'o', label = 'model yields', markersize = 3)\n",
        "plt.plot(boot.curve_pillars, boot_output['pillar rates'], 'X', label = 'CURVE PILLAR RATES', markersize = 10)\n",
        "\n",
        "\n",
        "plt.legend()\n"
      ],
      "metadata": {
        "id": "EXszuiZ1lh7b"
      },
      "execution_count": null,
      "outputs": []
    },
    {
      "cell_type": "markdown",
      "source": [],
      "metadata": {
        "id": "L-xHNJyMkYJX"
      }
    },
    {
      "cell_type": "markdown",
      "metadata": {
        "id": "tCTWU9aQVwaz"
      },
      "source": [
        "Plot 1 yr spanning forward rates"
      ]
    },
    {
      "cell_type": "code",
      "execution_count": 50,
      "metadata": {
        "id": "V9J4DNWjVwaz"
      },
      "outputs": [],
      "source": [
        "# your code here\n"
      ]
    },
    {
      "cell_type": "markdown",
      "metadata": {
        "id": "bAsDQQqCVwaz"
      },
      "source": [
        "Plot the instantaneous forward curve"
      ]
    },
    {
      "cell_type": "code",
      "execution_count": 51,
      "metadata": {
        "id": "ggwt48F9Vwaz"
      },
      "outputs": [],
      "source": [
        "# your code here"
      ]
    },
    {
      "cell_type": "markdown",
      "source": [
        "## Bootstrapping the OIS curve\n",
        "\n",
        "Read the historical data."
      ],
      "metadata": {
        "id": "InW_kHIizoe_"
      }
    },
    {
      "cell_type": "code",
      "source": [
        "swaps_hist = pd.read_csv(PATH + 'DATA/Swaps_Hist.csv', parse_dates=True, index_col=0, dayfirst=True, sep = ';')\n",
        "\n",
        "swaps_hist.head()"
      ],
      "metadata": {
        "id": "J5ya6Yr8zw3A"
      },
      "execution_count": null,
      "outputs": []
    },
    {
      "cell_type": "code",
      "source": [
        "quotes = swaps_hist.loc['11-08-2024']\n",
        "\n",
        "\n",
        "regex =  r\".*?(\\d{1,2})Y$\"\n",
        "\n",
        "# Extract ois quotes\n",
        "ois_quotes = np.array([[int(re.search(regex, s).group(1)), v/100]  for s, v in zip(swaps_hist.columns, quotes.values) if (re.search(regex, s) and 'ESTER' in s)])\n",
        "\n",
        "# Extract irs quotes\n",
        "irs_quotes = np.array([[int(re.search(regex, s).group(1)), v/100]  for s, v in zip(swaps_hist.columns, quotes.values) if (re.search(regex, s) and 'EURIBOR' in s)])\n",
        "\n",
        "plt.plot(ois_quotes[:,0], ois_quotes[:,1], 'o-', label = 'OIS')\n",
        "plt.plot(irs_quotes[:,0], irs_quotes[:,1], 'o-', label = 'IRS 6M')\n",
        "\n",
        "plt.legend()\n"
      ],
      "metadata": {
        "id": "bdhnf1kO0WpI"
      },
      "execution_count": null,
      "outputs": []
    },
    {
      "cell_type": "markdown",
      "source": [
        "Code a function that returns the par swap rate of an OIS given a curve object."
      ],
      "metadata": {
        "id": "Aiwmg_wv9A27"
      }
    },
    {
      "cell_type": "code",
      "source": [
        "def ois_par_rate_curve(TTM, coupon, curve, freq):\n",
        "\n",
        "    if freq == freq_options.QUARTERLY:\n",
        "          delta = 0.25\n",
        "    elif freq == freq_options.SEMI_ANNUAL:\n",
        "        delta = 0.5\n",
        "    elif freq == freq_options.ANUAL:\n",
        "        delta = 1\n",
        "    else:\n",
        "        raise ValueError(\"Invalid frequency\")\n",
        "\n",
        "    payment_times = np.arange(TTM,0, step=-delta)[::-1]\n",
        "\n",
        "    # your code here\n",
        ""
      ],
      "metadata": {
        "id": "qGh5sAfx8xmG"
      },
      "execution_count": 1,
      "outputs": []
    },
    {
      "cell_type": "markdown",
      "source": [
        "Modify the yield curve bootstrapper, so that it calibrates the OIS curve"
      ],
      "metadata": {
        "id": "9sIlic649WJs"
      }
    },
    {
      "cell_type": "code",
      "source": [
        "# your code here"
      ],
      "metadata": {
        "id": "FjifAczD3STs"
      },
      "execution_count": 2,
      "outputs": []
    },
    {
      "cell_type": "code",
      "source": [],
      "metadata": {
        "id": "sDMsrjwg2bWJ"
      },
      "execution_count": null,
      "outputs": []
    }
  ],
  "metadata": {
    "kernelspec": {
      "display_name": "definitive",
      "language": "python",
      "name": "python3"
    },
    "language_info": {
      "codemirror_mode": {
        "name": "ipython",
        "version": 3
      },
      "file_extension": ".py",
      "mimetype": "text/x-python",
      "name": "python",
      "nbconvert_exporter": "python",
      "pygments_lexer": "ipython3",
      "version": "3.10.13"
    },
    "colab": {
      "provenance": []
    }
  },
  "nbformat": 4,
  "nbformat_minor": 0
}