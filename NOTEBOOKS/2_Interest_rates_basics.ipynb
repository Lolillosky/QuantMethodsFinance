{
  "cells": [
    {
      "cell_type": "markdown",
      "metadata": {
        "id": "4s1YpUWOVwah"
      },
      "source": [
        "# Quantitative Methods in Finance"
      ]
    },
    {
      "cell_type": "markdown",
      "metadata": {
        "id": "sW_se_E4Vwal"
      },
      "source": [
        "Click <a href=\"https://colab.research.google.com/github/Lolillosky/QuantMethodsFinance/blob/main/NOTEBOOKS/2_Interest_rates_basics.ipynb\">\n",
        "    <img src=\"https://upload.wikimedia.org/wikipedia/commons/d/d0/Google_Colaboratory_SVG_Logo.svg\" width=\"30\" alt=\"Google Colab\">\n",
        "</a> to open this notebook in Google Colab.\n",
        "\n",
        "Clone the repository"
      ]
    },
    {
      "cell_type": "code",
      "execution_count": 1,
      "metadata": {
        "id": "_2tV2dMFVwam"
      },
      "outputs": [],
      "source": [
        "from IPython.display import clear_output\n",
        "\n",
        "!rm -r {'QuantMethodsFinance'}\n",
        "\n",
        "!git clone https://github.com/Lolillosky/QuantMethodsFinance\n",
        "\n",
        "import sys\n",
        "sys.modules.pop\n",
        "sys.path.insert(0,'QuantMethodsFinance/CODE')\n",
        "\n",
        "clear_output()"
      ]
    },
    {
      "cell_type": "markdown",
      "metadata": {
        "id": "1axq1mtaVwao"
      },
      "source": [
        "Import some libraries"
      ]
    },
    {
      "cell_type": "code",
      "execution_count": 2,
      "metadata": {
        "id": "QZ506rN2Vwap"
      },
      "outputs": [],
      "source": [
        "import numpy as np\n",
        "import matplotlib.pyplot as plt\n",
        "from scipy.optimize import fsolve\n",
        "from scipy.optimize import minimize\n",
        "import pandas as pd\n",
        "import re\n",
        "from scipy.interpolate import CubicSpline\n"
      ]
    },
    {
      "cell_type": "markdown",
      "metadata": {
        "id": "BJMAjjKFVwap"
      },
      "source": [
        "Modify PATH variable depending on how you run the notebook"
      ]
    },
    {
      "cell_type": "code",
      "execution_count": 3,
      "metadata": {
        "id": "M53sVba0Vwap"
      },
      "outputs": [],
      "source": [
        "# To be used if notebook is run in Google Colab\n",
        "PATH = '/content/QuantMethodsFinance/'\n",
        "# To be used if notebook is run in a local clone of the repository\n",
        "# PATH = '../'\n"
      ]
    },
    {
      "cell_type": "markdown",
      "metadata": {
        "id": "uiACnYviVwaq"
      },
      "source": [
        "## Interest rate\n",
        "\n",
        "Given the following:\n",
        "\n",
        "| Concept | Amount |\n",
        "|----------|----------|\n",
        "| Initial investment    | 100     |\n",
        "| Final value    | 150     |\n",
        "| T-t (years)    | 5     |\n",
        "\n",
        "Calculate simple, compounded and continuously compounded interest\n"
      ]
    },
    {
      "cell_type": "code",
      "execution_count": 4,
      "metadata": {
        "id": "6aPaxSENVwaq"
      },
      "outputs": [],
      "source": [
        "# Your code here"
      ]
    },
    {
      "cell_type": "markdown",
      "metadata": {
        "id": "tBus0SZwVwar"
      },
      "source": []
    },
    {
      "cell_type": "markdown",
      "metadata": {
        "id": "yzSoXb1rVwar"
      },
      "source": [
        "## Continuously compounded interest\n",
        "\n",
        "Check numerically that:\n",
        "\n",
        "$$\\lim_{n \\to \\infty}\\left(1+r\\frac{T-t}{n}\\right)^n=\\exp\\left(r\\left(T-t\\right)\\right)$$\n",
        "\n",
        "Assume $r=0.03$ $T-t=5$"
      ]
    },
    {
      "cell_type": "code",
      "execution_count": 5,
      "metadata": {
        "id": "KYH-bkQIVwar"
      },
      "outputs": [],
      "source": [
        "# Your code here\n"
      ]
    },
    {
      "cell_type": "markdown",
      "metadata": {
        "id": "mNHUaFcNVwar"
      },
      "source": [
        "## Internal rate of return / yield of a bond\n",
        "\n",
        "The following code is a simplified version of the pricing of a bond forgeting about dates and day count conventions."
      ]
    },
    {
      "cell_type": "code",
      "execution_count": 6,
      "metadata": {
        "id": "qI9RVUvjVwar"
      },
      "outputs": [],
      "source": [
        "\n",
        "from enum import Enum\n",
        "\n",
        "class freq_options(Enum):\n",
        "    QUARTERLY = 1\n",
        "    SEMI_ANNUAL = 2\n",
        "    ANUAL = 3\n",
        "\n",
        "\n",
        "def bond_price(TTM, coupon, yield_to_mat, freq):\n",
        "\n",
        "    if freq == freq_options.QUARTERLY:\n",
        "          delta = 0.25\n",
        "    elif freq == freq_options.SEMI_ANNUAL:\n",
        "        delta = 0.5\n",
        "    elif freq == freq_options.ANUAL:\n",
        "        delta = 1\n",
        "    else:\n",
        "        raise ValueError(\"Invalid frequency\")\n",
        "\n",
        "    payment_times = np.arange(TTM,0, step=-delta)[::-1]\n",
        "\n",
        "    return np.sum(coupon * delta * (1.0 + yield_to_mat)**(-payment_times)) + (1.0 + yield_to_mat)**(-TTM)\n"
      ]
    },
    {
      "cell_type": "code",
      "execution_count": 7,
      "metadata": {
        "id": "jra-V5D0Vwar",
        "outputId": "0113121d-34e8-4512-9f89-3c0f14a2b4c3",
        "colab": {
          "base_uri": "https://localhost:8080/"
        }
      },
      "outputs": [
        {
          "output_type": "execute_result",
          "data": {
            "text/plain": [
              "0.9134104665873835"
            ]
          },
          "metadata": {},
          "execution_count": 7
        }
      ],
      "source": [
        "bond_price(5,0.03,0.05,freq_options.ANUAL)"
      ]
    },
    {
      "cell_type": "markdown",
      "metadata": {
        "id": "3NgreqgkVwas"
      },
      "source": [
        "For a 5 year maturity bond, with annual coupons of $3\\%$, plot the dirty price as a function of its yield. If the yield of a bond rises, does the bond holder gain or loose money?"
      ]
    },
    {
      "cell_type": "code",
      "execution_count": 8,
      "metadata": {
        "id": "WtTBGoE3Vwas",
        "outputId": "5361e5d7-49d1-4744-947d-1733818a2913",
        "colab": {
          "base_uri": "https://localhost:8080/",
          "height": 447
        }
      },
      "outputs": [
        {
          "output_type": "execute_result",
          "data": {
            "text/plain": [
              "[<matplotlib.lines.Line2D at 0x7feaed723190>]"
            ]
          },
          "metadata": {},
          "execution_count": 8
        },
        {
          "output_type": "display_data",
          "data": {
            "text/plain": [
              "<Figure size 640x480 with 1 Axes>"
            ],
            "image/png": "[encoded data removed]"
          },
          "metadata": {}
        }
      ],
      "source": [
        "# Your code here\n",
        "\n",
        "maturity = 30\n",
        "coupon = 0.03\n",
        "ytm = np.linspace(0,0.1,100)\n",
        "\n",
        "price = [bond_price(maturity, coupon, x, freq_options.ANUAL) for x in ytm]\n",
        "\n",
        "\n",
        "plt.plot(ytm, price)\n",
        "plt.plot(0.03, 1.0, 'o', color = 'red')"
      ]
    },
    {
      "cell_type": "markdown",
      "metadata": {
        "id": "g0_b7fBiVwas"
      },
      "source": [
        "For yields equal to $1\\%,\\ 3\\%,\\ 5\\%$, plot the dirty price as time goes by and we approach the maturity of the bond."
      ]
    },
    {
      "cell_type": "code",
      "execution_count": 9,
      "metadata": {
        "id": "R8tt57GNVwas",
        "outputId": "fc5f8159-c264-4262-a5ab-ba8ef58c75c8",
        "colab": {
          "base_uri": "https://localhost:8080/",
          "height": 447
        }
      },
      "outputs": [
        {
          "output_type": "execute_result",
          "data": {
            "text/plain": [
              "<matplotlib.legend.Legend at 0x7feaed767910>"
            ]
          },
          "metadata": {},
          "execution_count": 9
        },
        {
          "output_type": "display_data",
          "data": {
            "text/plain": [
              "<Figure size 640x480 with 1 Axes>"
            ],
            "image/png": "[encoded data removed]"
          },
          "metadata": {}
        }
      ],
      "source": [
        "# Your code here\n",
        "\n",
        "maturity = np.linspace(0,30,1000)\n",
        "coupon = 0.03\n",
        "y1 = 0.01\n",
        "y2 = 0.03\n",
        "y3 = 0.05\n",
        "\n",
        "\n",
        "price1 = [bond_price(m, coupon, y1, freq_options.ANUAL) for m in maturity]\n",
        "price2 = [bond_price(m, coupon, y2, freq_options.ANUAL) for m in maturity]\n",
        "price3 = [bond_price(m, coupon, y3, freq_options.ANUAL) for m in maturity]\n",
        "\n",
        "\n",
        "plt.plot(maturity[::-1], price1, label= '0.01')\n",
        "plt.plot(maturity[::-1], price2, label= '0.03')\n",
        "plt.plot(maturity[::-1], price3, label= '0.05')\n",
        "\n",
        "plt.legend()\n",
        "\n",
        "\n"
      ]
    },
    {
      "cell_type": "markdown",
      "metadata": {
        "id": "aatiIeCzVwas"
      },
      "source": [
        "If the price of the bond is $103\\%$, compute its yield. Use fsolve function of Scipy."
      ]
    },
    {
      "cell_type": "code",
      "execution_count": 10,
      "metadata": {
        "id": "OP5q0d7QVwas",
        "outputId": "eacbbd58-f140-4bd2-de22-24ca3831f86d",
        "colab": {
          "base_uri": "https://localhost:8080/"
        }
      },
      "outputs": [
        {
          "output_type": "execute_result",
          "data": {
            "text/plain": [
              "array([0.02356917])"
            ]
          },
          "metadata": {},
          "execution_count": 10
        }
      ],
      "source": [
        "# Your code here\n",
        "\n",
        "fsolve(lambda y: bond_price(5,0.03,y,freq_options.ANUAL)-1.03, 0.03)"
      ]
    },
    {
      "cell_type": "code",
      "source": [
        "(lambda x: x+1)(7)\n",
        "\n"
      ],
      "metadata": {
        "id": "YZmnBCZ1l6W1",
        "outputId": "fa8aebb8-2b13-4498-c342-6ad075b7c891",
        "colab": {
          "base_uri": "https://localhost:8080/"
        }
      },
      "execution_count": 11,
      "outputs": [
        {
          "output_type": "execute_result",
          "data": {
            "text/plain": [
              "8"
            ]
          },
          "metadata": {},
          "execution_count": 11
        }
      ]
    },
    {
      "cell_type": "markdown",
      "metadata": {
        "id": "u-_0L9JNVwas"
      },
      "source": [
        "## Duration\n",
        "\n",
        "Code a function to compute the duration of a bond for a given maturity, coupon, yield and payment frequency."
      ]
    },
    {
      "cell_type": "code",
      "execution_count": 12,
      "metadata": {
        "id": "1XSlKF5uVwas"
      },
      "outputs": [],
      "source": [
        "def bond_duration(TTM, coupon, yield_to_mat, freq, charts = False):\n",
        "\n",
        "    if freq == freq_options.QUARTERLY:\n",
        "          delta = 0.25\n",
        "    elif freq == freq_options.SEMI_ANNUAL:\n",
        "        delta = 0.5\n",
        "    elif freq == freq_options.ANUAL:\n",
        "        delta = 1\n",
        "    else:\n",
        "        raise ValueError(\"Invalid frequency\")\n",
        "\n",
        "    payment_times = np.arange(TTM,0, step=-delta)[::-1]\n",
        "\n",
        "    disc_cf = coupon * delta * (1+yield_to_mat)**(-payment_times)\n",
        "\n",
        "    disc_cf[-1] += (1+yield_to_mat)**(-payment_times[-1])\n",
        "\n",
        "    disc_cf_times_t = disc_cf * payment_times\n",
        "\n",
        "    duration = np.sum(disc_cf_times_t) / np.sum(disc_cf)\n",
        "\n",
        "    if charts:\n",
        "      plt.bar(payment_times, disc_cf)\n",
        "      plt.vlines(duration, 0, 1, color = 'red')\n",
        "      plt.show()\n",
        "\n",
        "    return duration\n",
        "\n",
        "\n",
        "\n",
        "    # your code here"
      ]
    },
    {
      "cell_type": "markdown",
      "metadata": {
        "id": "csjJS7t-Vwat"
      },
      "source": [
        "For a 30 year bond with a coupon of $3\\%$, plot the bond duration as time evolves for yields of $1\\%,\\ 3\\%,\\ 5\\%$."
      ]
    },
    {
      "cell_type": "code",
      "source": [
        "bond_duration(30,0.03,0.03,freq_options.ANUAL, True)"
      ],
      "metadata": {
        "id": "Av6lcBN6wQes",
        "outputId": "480cea18-7c3d-422d-ba66-601d3f70e4c4",
        "colab": {
          "base_uri": "https://localhost:8080/",
          "height": 447
        }
      },
      "execution_count": 13,
      "outputs": [
        {
          "output_type": "display_data",
          "data": {
            "text/plain": [
              "<Figure size 640x480 with 1 Axes>"
            ],
            "image/png": "[encoded data removed]"
          },
          "metadata": {}
        },
        {
          "output_type": "execute_result",
          "data": {
            "text/plain": [
              "20.188454589953867"
            ]
          },
          "metadata": {},
          "execution_count": 13
        }
      ]
    },
    {
      "cell_type": "code",
      "source": [
        "maturity = np.linspace(0.0001,30,1000)\n",
        "coupon = 0.03\n",
        "y1 = 0.01\n",
        "y2 = 0.03\n",
        "y3 = 0.05\n",
        "\n",
        "\n",
        "duration1 = [bond_duration(m, coupon, y1, freq_options.ANUAL) for m in maturity]\n",
        "duration2 = [bond_duration(m, coupon, y2, freq_options.ANUAL) for m in maturity]\n",
        "duration3 = [bond_duration(m, coupon, y3, freq_options.ANUAL) for m in maturity]\n",
        "\n",
        "\n",
        "plt.plot(maturity[::-1], duration1, label= '0.01')\n",
        "plt.plot(maturity[::-1], duration2, label= '0.03')\n",
        "plt.plot(maturity[::-1], duration3, label= '0.05')\n",
        "\n",
        "plt.legend()\n",
        "\n"
      ],
      "metadata": {
        "id": "K06lqdZbxokA",
        "outputId": "d7b42a7a-79ff-417e-e60d-2c25091a23ae",
        "colab": {
          "base_uri": "https://localhost:8080/",
          "height": 447
        }
      },
      "execution_count": 14,
      "outputs": [
        {
          "output_type": "execute_result",
          "data": {
            "text/plain": [
              "<matplotlib.legend.Legend at 0x7feaed714040>"
            ]
          },
          "metadata": {},
          "execution_count": 14
        },
        {
          "output_type": "display_data",
          "data": {
            "text/plain": [
              "<Figure size 640x480 with 1 Axes>"
            ],
            "image/png": "[encoded data removed]"
          },
          "metadata": {}
        }
      ]
    },
    {
      "cell_type": "code",
      "execution_count": 15,
      "metadata": {
        "id": "LltIbml1Vwat"
      },
      "outputs": [],
      "source": [
        "# Your code here"
      ]
    },
    {
      "cell_type": "markdown",
      "metadata": {
        "id": "iaKXIEGTVwat"
      },
      "source": [
        "Same for a zero coupon bond (bond with coupon equal to $0\\%$)."
      ]
    },
    {
      "cell_type": "code",
      "execution_count": 16,
      "metadata": {
        "id": "KW6V0sZOVwat"
      },
      "outputs": [],
      "source": [
        "# Your code here"
      ]
    },
    {
      "cell_type": "markdown",
      "metadata": {
        "id": "EMR1royPVwat"
      },
      "source": [
        "Can you provide a physical interpretation of duration?"
      ]
    },
    {
      "cell_type": "markdown",
      "metadata": {
        "id": "LLJxgHKMVwat"
      },
      "source": [
        "## Bootstrapping the yield curve\n",
        "\n",
        "Let us read the historical data included in the spgb_hist.csv file."
      ]
    },
    {
      "cell_type": "code",
      "execution_count": 17,
      "metadata": {
        "id": "q2ZQnAT8Vwat",
        "outputId": "c218baaf-9c78-49a9-dc6b-aad49e830a50",
        "colab": {
          "base_uri": "https://localhost:8080/",
          "height": 408
        }
      },
      "outputs": [
        {
          "output_type": "execute_result",
          "data": {
            "text/plain": [
              "            SPGB 0 1/31/2025 Govt  SPGB 1.6 4/30/2025 Govt  \\\n",
              "Dates                                                        \n",
              "2023-10-02                  3.672                    3.594   \n",
              "2023-10-03                  3.670                    3.587   \n",
              "2023-10-04                  3.641                    3.554   \n",
              "2023-10-05                  3.635                    3.545   \n",
              "2023-10-06                  3.645                    3.544   \n",
              "\n",
              "            SPGB 0 5/31/2025 Govt  SPGB 4.65 7/30/2025 Govt  \\\n",
              "Dates                                                         \n",
              "2023-10-02                  3.591                     3.541   \n",
              "2023-10-03                  3.597                     3.547   \n",
              "2023-10-04                  3.552                     3.503   \n",
              "2023-10-05                  3.537                     3.490   \n",
              "2023-10-06                  3.532                     3.482   \n",
              "\n",
              "            SPGB 2.15 10/31/2025 Govt  SPGB 0 1/31/2026 Govt  \\\n",
              "Dates                                                          \n",
              "2023-10-02                      3.472                  3.506   \n",
              "2023-10-03                      3.476                  3.511   \n",
              "2023-10-04                      3.437                  3.472   \n",
              "2023-10-05                      3.420                  3.453   \n",
              "2023-10-06                      3.412                  3.443   \n",
              "\n",
              "            SPGB 1.95 4/30/2026 Govt  SPGB 2.8 5/31/2026 Govt  \\\n",
              "Dates                                                           \n",
              "2023-10-02                     3.484                    3.517   \n",
              "2023-10-03                     3.490                    3.525   \n",
              "2023-10-04                     3.451                    3.492   \n",
              "2023-10-05                     3.432                    3.473   \n",
              "2023-10-06                     3.423                    3.466   \n",
              "\n",
              "            SPGB 5.9 7/30/2026 Govt  SPGB 1.3 10/31/2026 Govt  ...  \\\n",
              "Dates                                                          ...   \n",
              "2023-10-02                    3.512                     3.477  ...   \n",
              "2023-10-03                    3.525                     3.492  ...   \n",
              "2023-10-04                    3.484                     3.459  ...   \n",
              "2023-10-05                    3.463                     3.433  ...   \n",
              "2023-10-06                    3.456                     3.433  ...   \n",
              "\n",
              "            SPGB 3.45 7/30/2043 Govt  SPGB 5.15 10/31/2044 Govt  \\\n",
              "Dates                                                             \n",
              "2023-10-02                     4.488                      4.452   \n",
              "2023-10-03                     4.591                      4.555   \n",
              "2023-10-04                     4.519                      4.482   \n",
              "2023-10-05                     4.524                      4.489   \n",
              "2023-10-06                     4.523                      4.489   \n",
              "\n",
              "            SPGB 2.9 10/31/2046 Govt  SPGB 2.7 10/31/2048 Govt  \\\n",
              "Dates                                                            \n",
              "2023-10-02                     4.480                     4.511   \n",
              "2023-10-03                     4.582                     4.617   \n",
              "2023-10-04                     4.509                     4.538   \n",
              "2023-10-05                     4.518                     4.549   \n",
              "2023-10-06                     4.516                     4.546   \n",
              "\n",
              "            SPGB 1 10/31/2050 Govt  SPGB 1.9 10/31/2052 Govt  \\\n",
              "Dates                                                          \n",
              "2023-10-02                   4.490                     4.584   \n",
              "2023-10-03                   4.601                     4.691   \n",
              "2023-10-04                   4.519                     4.610   \n",
              "2023-10-05                   4.539                     4.629   \n",
              "2023-10-06                   4.531                     4.623   \n",
              "\n",
              "            SPGB 4 10/31/2054 Govt  SPGB 4 10/31/2064 Govt  \\\n",
              "Dates                                                        \n",
              "2023-10-02                     NaN                   4.321   \n",
              "2023-10-03                     NaN                   4.555   \n",
              "2023-10-04                     NaN                   4.555   \n",
              "2023-10-05                     NaN                   4.555   \n",
              "2023-10-06                     NaN                   4.555   \n",
              "\n",
              "            SPGB 3.45 7/30/2066 Govt  SPGB 1.45 10/31/2071 Govt  \n",
              "Dates                                                            \n",
              "2023-10-02                     4.628                      4.519  \n",
              "2023-10-03                     4.734                      4.623  \n",
              "2023-10-04                     4.655                      4.547  \n",
              "2023-10-05                     4.672                      4.569  \n",
              "2023-10-06                     4.676                      4.572  \n",
              "\n",
              "[5 rows x 57 columns]"
            ],
            "text/html": [
              "\n",
              "  <div id=\"df-1cd5af1e-4d1d-4cc1-9ebe-ea9a8e8bf8c7\" class=\"colab-df-container\">\n",
              "    <div>\n",
              "<style scoped>\n",
              "    .dataframe tbody tr th:only-of-type {\n",
              "        vertical-align: middle;\n",
              "    }\n",
              "\n",
              "    .dataframe tbody tr th {\n",
              "        vertical-align: top;\n",
              "    }\n",
              "\n",
              "    .dataframe thead th {\n",
              "        text-align: right;\n",
              "    }\n",
              "</style>\n",
              "<table border=\"1\" class=\"dataframe\">\n",
              "  <thead>\n",
              "    <tr style=\"text-align: right;\">\n",
              "      <th></th>\n",
              "      <th>SPGB 0 1/31/2025 Govt</th>\n",
              "      <th>SPGB 1.6 4/30/2025 Govt</th>\n",
              "      <th>SPGB 0 5/31/2025 Govt</th>\n",
              "      <th>SPGB 4.65 7/30/2025 Govt</th>\n",
              "      <th>SPGB 2.15 10/31/2025 Govt</th>\n",
              "      <th>SPGB 0 1/31/2026 Govt</th>\n",
              "      <th>SPGB 1.95 4/30/2026 Govt</th>\n",
              "      <th>SPGB 2.8 5/31/2026 Govt</th>\n",
              "      <th>SPGB 5.9 7/30/2026 Govt</th>\n",
              "      <th>SPGB 1.3 10/31/2026 Govt</th>\n",
              "      <th>...</th>\n",
              "      <th>SPGB 3.45 7/30/2043 Govt</th>\n",
              "      <th>SPGB 5.15 10/31/2044 Govt</th>\n",
              "      <th>SPGB 2.9 10/31/2046 Govt</th>\n",
              "      <th>SPGB 2.7 10/31/2048 Govt</th>\n",
              "      <th>SPGB 1 10/31/2050 Govt</th>\n",
              "      <th>SPGB 1.9 10/31/2052 Govt</th>\n",
              "      <th>SPGB 4 10/31/2054 Govt</th>\n",
              "      <th>SPGB 4 10/31/2064 Govt</th>\n",
              "      <th>SPGB 3.45 7/30/2066 Govt</th>\n",
              "      <th>SPGB 1.45 10/31/2071 Govt</th>\n",
              "    </tr>\n",
              "    <tr>\n",
              "      <th>Dates</th>\n",
              "      <th></th>\n",
              "      <th></th>\n",
              "      <th></th>\n",
              "      <th></th>\n",
              "      <th></th>\n",
              "      <th></th>\n",
              "      <th></th>\n",
              "      <th></th>\n",
              "      <th></th>\n",
              "      <th></th>\n",
              "      <th></th>\n",
              "      <th></th>\n",
              "      <th></th>\n",
              "      <th></th>\n",
              "      <th></th>\n",
              "      <th></th>\n",
              "      <th></th>\n",
              "      <th></th>\n",
              "      <th></th>\n",
              "      <th></th>\n",
              "      <th></th>\n",
              "    </tr>\n",
              "  </thead>\n",
              "  <tbody>\n",
              "    <tr>\n",
              "      <th>2023-10-02</th>\n",
              "      <td>3.672</td>\n",
              "      <td>3.594</td>\n",
              "      <td>3.591</td>\n",
              "      <td>3.541</td>\n",
              "      <td>3.472</td>\n",
              "      <td>3.506</td>\n",
              "      <td>3.484</td>\n",
              "      <td>3.517</td>\n",
              "      <td>3.512</td>\n",
              "      <td>3.477</td>\n",
              "      <td>...</td>\n",
              "      <td>4.488</td>\n",
              "      <td>4.452</td>\n",
              "      <td>4.480</td>\n",
              "      <td>4.511</td>\n",
              "      <td>4.490</td>\n",
              "      <td>4.584</td>\n",
              "      <td>NaN</td>\n",
              "      <td>4.321</td>\n",
              "      <td>4.628</td>\n",
              "      <td>4.519</td>\n",
              "    </tr>\n",
              "    <tr>\n",
              "      <th>2023-10-03</th>\n",
              "      <td>3.670</td>\n",
              "      <td>3.587</td>\n",
              "      <td>3.597</td>\n",
              "      <td>3.547</td>\n",
              "      <td>3.476</td>\n",
              "      <td>3.511</td>\n",
              "      <td>3.490</td>\n",
              "      <td>3.525</td>\n",
              "      <td>3.525</td>\n",
              "      <td>3.492</td>\n",
              "      <td>...</td>\n",
              "      <td>4.591</td>\n",
              "      <td>4.555</td>\n",
              "      <td>4.582</td>\n",
              "      <td>4.617</td>\n",
              "      <td>4.601</td>\n",
              "      <td>4.691</td>\n",
              "      <td>NaN</td>\n",
              "      <td>4.555</td>\n",
              "      <td>4.734</td>\n",
              "      <td>4.623</td>\n",
              "    </tr>\n",
              "    <tr>\n",
              "      <th>2023-10-04</th>\n",
              "      <td>3.641</td>\n",
              "      <td>3.554</td>\n",
              "      <td>3.552</td>\n",
              "      <td>3.503</td>\n",
              "      <td>3.437</td>\n",
              "      <td>3.472</td>\n",
              "      <td>3.451</td>\n",
              "      <td>3.492</td>\n",
              "      <td>3.484</td>\n",
              "      <td>3.459</td>\n",
              "      <td>...</td>\n",
              "      <td>4.519</td>\n",
              "      <td>4.482</td>\n",
              "      <td>4.509</td>\n",
              "      <td>4.538</td>\n",
              "      <td>4.519</td>\n",
              "      <td>4.610</td>\n",
              "      <td>NaN</td>\n",
              "      <td>4.555</td>\n",
              "      <td>4.655</td>\n",
              "      <td>4.547</td>\n",
              "    </tr>\n",
              "    <tr>\n",
              "      <th>2023-10-05</th>\n",
              "      <td>3.635</td>\n",
              "      <td>3.545</td>\n",
              "      <td>3.537</td>\n",
              "      <td>3.490</td>\n",
              "      <td>3.420</td>\n",
              "      <td>3.453</td>\n",
              "      <td>3.432</td>\n",
              "      <td>3.473</td>\n",
              "      <td>3.463</td>\n",
              "      <td>3.433</td>\n",
              "      <td>...</td>\n",
              "      <td>4.524</td>\n",
              "      <td>4.489</td>\n",
              "      <td>4.518</td>\n",
              "      <td>4.549</td>\n",
              "      <td>4.539</td>\n",
              "      <td>4.629</td>\n",
              "      <td>NaN</td>\n",
              "      <td>4.555</td>\n",
              "      <td>4.672</td>\n",
              "      <td>4.569</td>\n",
              "    </tr>\n",
              "    <tr>\n",
              "      <th>2023-10-06</th>\n",
              "      <td>3.645</td>\n",
              "      <td>3.544</td>\n",
              "      <td>3.532</td>\n",
              "      <td>3.482</td>\n",
              "      <td>3.412</td>\n",
              "      <td>3.443</td>\n",
              "      <td>3.423</td>\n",
              "      <td>3.466</td>\n",
              "      <td>3.456</td>\n",
              "      <td>3.433</td>\n",
              "      <td>...</td>\n",
              "      <td>4.523</td>\n",
              "      <td>4.489</td>\n",
              "      <td>4.516</td>\n",
              "      <td>4.546</td>\n",
              "      <td>4.531</td>\n",
              "      <td>4.623</td>\n",
              "      <td>NaN</td>\n",
              "      <td>4.555</td>\n",
              "      <td>4.676</td>\n",
              "      <td>4.572</td>\n",
              "    </tr>\n",
              "  </tbody>\n",
              "</table>\n",
              "<p>5 rows × 57 columns</p>\n",
              "</div>\n",
              "    <div class=\"colab-df-buttons\">\n",
              "\n",
              "  <div class=\"colab-df-container\">\n",
              "    <button class=\"colab-df-convert\" onclick=\"convertToInteractive('df-1cd5af1e-4d1d-4cc1-9ebe-ea9a8e8bf8c7')\"\n",
              "            title=\"Convert this dataframe to an interactive table.\"\n",
              "            style=\"display:none;\">\n",
              "\n",
              "  <svg xmlns=\"http://www.w3.org/2000/svg\" height=\"24px\" viewBox=\"0 -960 960 960\">\n",
              "    <path d=\"M120-120v-720h720v720H120Zm60-500h600v-160H180v160Zm220 220h160v-160H400v160Zm0 220h160v-160H400v160ZM180-400h160v-160H180v160Zm440 0h160v-160H620v160ZM180-180h160v-160H180v160Zm440 0h160v-160H620v160Z\"/>\n",
              "  </svg>\n",
              "    </button>\n",
              "\n",
              "  <style>\n",
              "    .colab-df-container {\n",
              "      display:flex;\n",
              "      gap: 12px;\n",
              "    }\n",
              "\n",
              "    .colab-df-convert {\n",
              "      background-color: #E8F0FE;\n",
              "      border: none;\n",
              "      border-radius: 50%;\n",
              "      cursor: pointer;\n",
              "      display: none;\n",
              "      fill: #1967D2;\n",
              "      height: 32px;\n",
              "      padding: 0 0 0 0;\n",
              "      width: 32px;\n",
              "    }\n",
              "\n",
              "    .colab-df-convert:hover {\n",
              "      background-color: #E2EBFA;\n",
              "      box-shadow: 0px 1px 2px rgba(60, 64, 67, 0.3), 0px 1px 3px 1px rgba(60, 64, 67, 0.15);\n",
              "      fill: #174EA6;\n",
              "    }\n",
              "\n",
              "    .colab-df-buttons div {\n",
              "      margin-bottom: 4px;\n",
              "    }\n",
              "\n",
              "    [theme=dark] .colab-df-convert {\n",
              "      background-color: #3B4455;\n",
              "      fill: #D2E3FC;\n",
              "    }\n",
              "\n",
              "    [theme=dark] .colab-df-convert:hover {\n",
              "      background-color: #434B5C;\n",
              "      box-shadow: 0px 1px 3px 1px rgba(0, 0, 0, 0.15);\n",
              "      filter: drop-shadow(0px 1px 2px rgba(0, 0, 0, 0.3));\n",
              "      fill: #FFFFFF;\n",
              "    }\n",
              "  </style>\n",
              "\n",
              "    <script>\n",
              "      const buttonEl =\n",
              "        document.querySelector('#df-1cd5af1e-4d1d-4cc1-9ebe-ea9a8e8bf8c7 button.colab-df-convert');\n",
              "      buttonEl.style.display =\n",
              "        google.colab.kernel.accessAllowed ? 'block' : 'none';\n",
              "\n",
              "      async function convertToInteractive(key) {\n",
              "        const element = document.querySelector('#df-1cd5af1e-4d1d-4cc1-9ebe-ea9a8e8bf8c7');\n",
              "        const dataTable =\n",
              "          await google.colab.kernel.invokeFunction('convertToInteractive',\n",
              "                                                    [key], {});\n",
              "        if (!dataTable) return;\n",
              "\n",
              "        const docLinkHtml = 'Like what you see? Visit the ' +\n",
              "          '<a target=\"_blank\" href=https://colab.research.google.com/notebooks/data_table.ipynb>data table notebook</a>'\n",
              "          + ' to learn more about interactive tables.';\n",
              "        element.innerHTML = '';\n",
              "        dataTable['output_type'] = 'display_data';\n",
              "        await google.colab.output.renderOutput(dataTable, element);\n",
              "        const docLink = document.createElement('div');\n",
              "        docLink.innerHTML = docLinkHtml;\n",
              "        element.appendChild(docLink);\n",
              "      }\n",
              "    </script>\n",
              "  </div>\n",
              "\n",
              "\n",
              "<div id=\"df-6666e9d9-47ed-4298-8125-d748e8547abe\">\n",
              "  <button class=\"colab-df-quickchart\" onclick=\"quickchart('df-6666e9d9-47ed-4298-8125-d748e8547abe')\"\n",
              "            title=\"Suggest charts\"\n",
              "            style=\"display:none;\">\n",
              "\n",
              "<svg xmlns=\"http://www.w3.org/2000/svg\" height=\"24px\"viewBox=\"0 0 24 24\"\n",
              "     width=\"24px\">\n",
              "    <g>\n",
              "        <path d=\"M19 3H5c-1.1 0-2 .9-2 2v14c0 1.1.9 2 2 2h14c1.1 0 2-.9 2-2V5c0-1.1-.9-2-2-2zM9 17H7v-7h2v7zm4 0h-2V7h2v10zm4 0h-2v-4h2v4z\"/>\n",
              "    </g>\n",
              "</svg>\n",
              "  </button>\n",
              "\n",
              "<style>\n",
              "  .colab-df-quickchart {\n",
              "      --bg-color: #E8F0FE;\n",
              "      --fill-color: #1967D2;\n",
              "      --hover-bg-color: #E2EBFA;\n",
              "      --hover-fill-color: #174EA6;\n",
              "      --disabled-fill-color: #AAA;\n",
              "      --disabled-bg-color: #DDD;\n",
              "  }\n",
              "\n",
              "  [theme=dark] .colab-df-quickchart {\n",
              "      --bg-color: #3B4455;\n",
              "      --fill-color: #D2E3FC;\n",
              "      --hover-bg-color: #434B5C;\n",
              "      --hover-fill-color: #FFFFFF;\n",
              "      --disabled-bg-color: #3B4455;\n",
              "      --disabled-fill-color: #666;\n",
              "  }\n",
              "\n",
              "  .colab-df-quickchart {\n",
              "    background-color: var(--bg-color);\n",
              "    border: none;\n",
              "    border-radius: 50%;\n",
              "    cursor: pointer;\n",
              "    display: none;\n",
              "    fill: var(--fill-color);\n",
              "    height: 32px;\n",
              "    padding: 0;\n",
              "    width: 32px;\n",
              "  }\n",
              "\n",
              "  .colab-df-quickchart:hover {\n",
              "    background-color: var(--hover-bg-color);\n",
              "    box-shadow: 0 1px 2px rgba(60, 64, 67, 0.3), 0 1px 3px 1px rgba(60, 64, 67, 0.15);\n",
              "    fill: var(--button-hover-fill-color);\n",
              "  }\n",
              "\n",
              "  .colab-df-quickchart-complete:disabled,\n",
              "  .colab-df-quickchart-complete:disabled:hover {\n",
              "    background-color: var(--disabled-bg-color);\n",
              "    fill: var(--disabled-fill-color);\n",
              "    box-shadow: none;\n",
              "  }\n",
              "\n",
              "  .colab-df-spinner {\n",
              "    border: 2px solid var(--fill-color);\n",
              "    border-color: transparent;\n",
              "    border-bottom-color: var(--fill-color);\n",
              "    animation:\n",
              "      spin 1s steps(1) infinite;\n",
              "  }\n",
              "\n",
              "  @keyframes spin {\n",
              "    0% {\n",
              "      border-color: transparent;\n",
              "      border-bottom-color: var(--fill-color);\n",
              "      border-left-color: var(--fill-color);\n",
              "    }\n",
              "    20% {\n",
              "      border-color: transparent;\n",
              "      border-left-color: var(--fill-color);\n",
              "      border-top-color: var(--fill-color);\n",
              "    }\n",
              "    30% {\n",
              "      border-color: transparent;\n",
              "      border-left-color: var(--fill-color);\n",
              "      border-top-color: var(--fill-color);\n",
              "      border-right-color: var(--fill-color);\n",
              "    }\n",
              "    40% {\n",
              "      border-color: transparent;\n",
              "      border-right-color: var(--fill-color);\n",
              "      border-top-color: var(--fill-color);\n",
              "    }\n",
              "    60% {\n",
              "      border-color: transparent;\n",
              "      border-right-color: var(--fill-color);\n",
              "    }\n",
              "    80% {\n",
              "      border-color: transparent;\n",
              "      border-right-color: var(--fill-color);\n",
              "      border-bottom-color: var(--fill-color);\n",
              "    }\n",
              "    90% {\n",
              "      border-color: transparent;\n",
              "      border-bottom-color: var(--fill-color);\n",
              "    }\n",
              "  }\n",
              "</style>\n",
              "\n",
              "  <script>\n",
              "    async function quickchart(key) {\n",
              "      const quickchartButtonEl =\n",
              "        document.querySelector('#' + key + ' button');\n",
              "      quickchartButtonEl.disabled = true;  // To prevent multiple clicks.\n",
              "      quickchartButtonEl.classList.add('colab-df-spinner');\n",
              "      try {\n",
              "        const charts = await google.colab.kernel.invokeFunction(\n",
              "            'suggestCharts', [key], {});\n",
              "      } catch (error) {\n",
              "        console.error('Error during call to suggestCharts:', error);\n",
              "      }\n",
              "      quickchartButtonEl.classList.remove('colab-df-spinner');\n",
              "      quickchartButtonEl.classList.add('colab-df-quickchart-complete');\n",
              "    }\n",
              "    (() => {\n",
              "      let quickchartButtonEl =\n",
              "        document.querySelector('#df-6666e9d9-47ed-4298-8125-d748e8547abe button');\n",
              "      quickchartButtonEl.style.display =\n",
              "        google.colab.kernel.accessAllowed ? 'block' : 'none';\n",
              "    })();\n",
              "  </script>\n",
              "</div>\n",
              "\n",
              "    </div>\n",
              "  </div>\n"
            ],
            "application/vnd.google.colaboratory.intrinsic+json": {
              "type": "dataframe",
              "variable_name": "spgb_hist"
            }
          },
          "metadata": {},
          "execution_count": 17
        }
      ],
      "source": [
        "spgb_hist = pd.read_csv(PATH + 'DATA/spgb_hist.csv', parse_dates=True, index_col=0, dayfirst=True)\n",
        "\n",
        "spgb_hist.head()"
      ]
    },
    {
      "cell_type": "markdown",
      "metadata": {
        "id": "2eBCuPEaVwat"
      },
      "source": [
        "The following code extracts the maturity and coupon of every bond. We will bootstrap the curve on the last date of the dataframe."
      ]
    },
    {
      "cell_type": "code",
      "execution_count": 18,
      "metadata": {
        "id": "MFLlmJKGVwat",
        "outputId": "63bea4ea-845e-46f0-be40-a09ac71e718d",
        "colab": {
          "base_uri": "https://localhost:8080/"
        }
      },
      "outputs": [
        {
          "output_type": "stream",
          "name": "stdout",
          "text": [
            "[0.     0.016  0.     0.0465 0.0215 0.     0.0195 0.028  0.059  0.013\n",
            " 0.     0.015  0.025  0.008  0.0145 0.     0.014  0.014  0.0515 0.06\n",
            " 0.0145 0.035  0.008  0.006  0.027  0.005  0.0195 0.0125 0.001  0.031\n",
            " 0.005  0.007  0.0575 0.0255 0.0315 0.0235 0.0355 0.0325 0.0345 0.0185\n",
            " 0.042  0.0085 0.039  0.049  0.012  0.047  0.01   0.0345 0.0515 0.029\n",
            " 0.027  0.01   0.019  0.04   0.04   0.0345 0.0145]\n",
            "Index([0.23013698630136986,   0.473972602739726,  0.5589041095890411,\n",
            "        0.7232876712328767,  0.9780821917808219,  1.2301369863013698,\n",
            "         1.473972602739726,   1.558904109589041,  1.7232876712328766,\n",
            "         1.978082191780822,    2.23013698630137,   2.473972602739726,\n",
            "         2.558904109589041,   2.723287671232877,   2.978082191780822,\n",
            "          3.23013698630137,  3.4767123287671233,  3.7260273972602738,\n",
            "        3.9808219178082194,   4.232876712328767,   4.476712328767123,\n",
            "         4.561643835616438,   4.726027397260274,   4.980821917808219,\n",
            "         5.232876712328767,   5.476712328767123,   5.726027397260274,\n",
            "         5.980821917808219,   6.476712328767123,   6.726027397260274,\n",
            "         6.980821917808219,    7.47945205479452,   7.728767123287671,\n",
            "         7.983561643835617,   8.479452054794521,   8.728767123287671,\n",
            "         8.983561643835616,   9.479452054794521,   9.983561643835616,\n",
            "        10.728767123287671,  12.238356164383562,   12.73150684931507,\n",
            "         14.73150684931507,  15.734246575342466,   15.98904109589041,\n",
            "        16.734246575342464,  17.734246575342464,  18.734246575342464,\n",
            "        19.991780821917807,  21.991780821917807,  23.994520547945207,\n",
            "        25.994520547945207,  27.997260273972604,  29.997260273972604,\n",
            "         40.00547945205479,   41.75068493150685,   47.00821917808219],\n",
            "      dtype='float64')\n"
          ]
        }
      ],
      "source": [
        "\n",
        "# Calibration date will be last date of the dataframe.\n",
        "calibration_date = spgb_hist.index[-1]\n",
        "\n",
        "# Regular expression pattern to extract dates in the format mm/dd/yyyy.\n",
        "date_pattern =  r\"\\b\\d*\\.?\\d{0,2}\\s(\\d{1,2}/\\d{1,2}/\\d{4})\\b\"\n",
        "\n",
        "maturity_dates = [re.search(date_pattern, item).group(1) for item in spgb_hist.columns if re.search(date_pattern, item)]\n",
        "\n",
        "maturity_dates = pd.to_datetime(maturity_dates, format='%m/%d/%Y');\n",
        "\n",
        "# Regular expression pattern to extract coupons in the format d.dd.\n",
        "coupon_pattern = r\"\\b\\d+(\\.\\d{1,2})?\\b\"\n",
        "\n",
        "coupons = np.float64([re.search(coupon_pattern, item).group() for item in spgb_hist.columns if re.search(coupon_pattern, item)])/100\n",
        "\n",
        "# Year fraction to maturity of each bond.\n",
        "years_to_maturity = (maturity_dates - calibration_date).days / 365\n",
        "\n",
        "# Let us print coupons and years to maturity.\n",
        "print(coupons)\n",
        "print(years_to_maturity)\n",
        "\n"
      ]
    },
    {
      "cell_type": "markdown",
      "metadata": {
        "id": "WW4YiickVwat"
      },
      "source": [
        "The following function calculates the yield of a bond from its coupon, maturity and price."
      ]
    },
    {
      "cell_type": "code",
      "execution_count": 19,
      "metadata": {
        "id": "EPhPjEM1Vwau"
      },
      "outputs": [],
      "source": [
        "def bond_yield(TTM, coupon, price, freq):\n",
        "\n",
        "    return fsolve(lambda x: bond_price(TTM, coupon, x, freq) - price, coupon,xtol=1e-8)[0]"
      ]
    },
    {
      "cell_type": "markdown",
      "metadata": {
        "id": "qsW5bKqYVwau"
      },
      "source": [
        "Let us check that the function works."
      ]
    },
    {
      "cell_type": "code",
      "execution_count": 20,
      "metadata": {
        "id": "PWLqE7nOVwau",
        "outputId": "9b44ad97-37e0-4745-db08-cdd99ce937ab",
        "colab": {
          "base_uri": "https://localhost:8080/"
        }
      },
      "outputs": [
        {
          "output_type": "execute_result",
          "data": {
            "text/plain": [
              "0.05"
            ]
          },
          "metadata": {},
          "execution_count": 20
        }
      ],
      "source": [
        "coupon = 0.05\n",
        "price = 1.00\n",
        "maturity = 30\n",
        "\n",
        "bond_yield(maturity, coupon, price, freq_options.ANUAL)"
      ]
    },
    {
      "cell_type": "markdown",
      "metadata": {
        "id": "G4Gt9RzpVwau"
      },
      "source": [
        "The following class is the IR curve class. It wrapps a cubic spline interpolator and assumes cubic spline interpolation in zero copupon rates in rates * time (an ussual assumption)."
      ]
    },
    {
      "cell_type": "code",
      "execution_count": 21,
      "metadata": {
        "id": "R8hpD9pFVwau"
      },
      "outputs": [],
      "source": [
        "class IR_Curve:\n",
        "\n",
        "    def __init__(self, time_pillars, rates):\n",
        "        # Append zero at the beginning for both time_pillars and rates\n",
        "        time_pillars = np.concatenate(([0], time_pillars))\n",
        "        rates = np.concatenate(([0], rates))\n",
        "        time_times_rate = rates * time_pillars\n",
        "\n",
        "        # Natural cubic spline interpolation\n",
        "        self.interpolator = CubicSpline(time_pillars, time_times_rate, bc_type='natural')\n",
        "\n",
        "    def zero_coupon_rates(self, time_pillars):\n",
        "        # Check for negative maturities and raise an error if found\n",
        "        if np.any(time_pillars < 0):\n",
        "            raise ValueError(\"Maturity cannot be negative.\")\n",
        "\n",
        "        # Calculate the true limit for zero-coupon rate as t approaches 0\n",
        "        zero_coupon_rates = np.zeros_like(time_pillars, dtype=float)\n",
        "        non_zero_mask = time_pillars != 0\n",
        "\n",
        "        # Calculate rates for non-zero times\n",
        "        zero_coupon_rates[non_zero_mask] = self.interpolator(time_pillars[non_zero_mask]) / time_pillars[non_zero_mask]\n",
        "\n",
        "        # Use the derivative at t = 0 as the limit for the zero-coupon rate at t = 0\n",
        "        zero_coupon_rates[~non_zero_mask] = self.interpolator.derivative()(0)\n",
        "\n",
        "        return zero_coupon_rates\n",
        "\n",
        "    def discount_factors(self, time_pillars):\n",
        "        # Check for negative maturities and raise an error if found\n",
        "        if np.any(time_pillars < 0):\n",
        "            raise ValueError(\"Maturity cannot be negative.\")\n",
        "\n",
        "        # Evaluate the spline and compute discount factors\n",
        "        return np.exp(-self.interpolator(time_pillars))\n",
        "\n"
      ]
    },
    {
      "cell_type": "code",
      "execution_count": 22,
      "metadata": {
        "id": "OQuiHMGDVwau",
        "outputId": "3277ac1e-ef63-4be4-a5cf-bf6cd87e9134",
        "colab": {
          "base_uri": "https://localhost:8080/",
          "height": 447
        }
      },
      "outputs": [
        {
          "output_type": "execute_result",
          "data": {
            "text/plain": [
              "[<matplotlib.lines.Line2D at 0x7feaeb3fd7b0>]"
            ]
          },
          "metadata": {},
          "execution_count": 22
        },
        {
          "output_type": "display_data",
          "data": {
            "text/plain": [
              "<Figure size 640x480 with 1 Axes>"
            ],
            "image/png": "[encoded data removed]"
          },
          "metadata": {}
        }
      ],
      "source": [
        "pillars = np.array([0.25, 0.5, 1, 2, 3, 5, 7, 10, 20, 30, 40, 50])\n",
        "rates = np.array([0.01, 0.015, 0.02, 0.025, 0.03, 0.035, 0.04, 0.045, 0.05, 0.055, 0.06, 0.06])\n",
        "rates = np.ones_like(pillars) * (np.log(1.05))\n",
        "ir_curve = IR_Curve(pillars, rates)\n",
        "\n",
        "time_pillars = np.linspace(0.0, 50, 100)\n",
        "\n",
        "\n",
        "plt.plot(time_pillars, ir_curve.zero_coupon_rates(time_pillars))\n",
        "plt.plot(pillars, rates, 'o', color='red')\n"
      ]
    },
    {
      "cell_type": "markdown",
      "metadata": {
        "id": "xlINPxl3Vway"
      },
      "source": [
        "Taking into consideration the curve object, modify the bond price function so that it prices bonds discounting its cashflows with the curve."
      ]
    },
    {
      "cell_type": "code",
      "execution_count": 23,
      "metadata": {
        "id": "jHWkQwzjVway"
      },
      "outputs": [],
      "source": [
        "def bond_price_curve(TTM, coupon, curve, freq):\n",
        "\n",
        "    if freq == freq_options.QUARTERLY:\n",
        "          delta = 0.25\n",
        "    elif freq == freq_options.SEMI_ANNUAL:\n",
        "        delta = 0.5\n",
        "    elif freq == freq_options.ANUAL:\n",
        "        delta = 1\n",
        "    else:\n",
        "        raise ValueError(\"Invalid frequency\")\n",
        "\n",
        "    payment_times = np.arange(TTM,0, step=-delta)[::-1]\n",
        "\n",
        "    # your code here\n",
        "    discount_factors = curve.discount_factors(payment_times)\n",
        "\n",
        "    bond_price = np.sum(discount_factors * delta * coupon)\n",
        "\n",
        "    bond_price += discount_factors[-1]\n",
        "\n",
        "    return bond_price"
      ]
    },
    {
      "cell_type": "code",
      "execution_count": 24,
      "metadata": {
        "id": "oreCdMf8Vway",
        "outputId": "fd51b7a2-92a6-440a-ddff-7b2b425ca5c3",
        "colab": {
          "base_uri": "https://localhost:8080/"
        }
      },
      "outputs": [
        {
          "output_type": "execute_result",
          "data": {
            "text/plain": [
              "0.9999999999999998"
            ]
          },
          "metadata": {},
          "execution_count": 24
        }
      ],
      "source": [
        "bond_price_curve(5, 0.05, ir_curve, freq_options.ANUAL)"
      ]
    },
    {
      "cell_type": "markdown",
      "metadata": {
        "id": "w4rODGMYVway"
      },
      "source": [
        "Write a function that computes the yield of a bond if the cashflows are discounted with the curve."
      ]
    },
    {
      "cell_type": "code",
      "execution_count": 25,
      "metadata": {
        "id": "xQX5UoXyVwaz"
      },
      "outputs": [],
      "source": [
        "def bond_yield_curve(TTM, coupon, curve, freq):\n",
        "\n",
        "    # your code\n",
        "    model_price = bond_price_curve(TTM, coupon, curve, freq)\n",
        "\n",
        "    return bond_yield(TTM,coupon,model_price,freq)"
      ]
    },
    {
      "cell_type": "code",
      "source": [
        "bond_yield_curve(5,0.05,ir_curve,freq_options.ANUAL)"
      ],
      "metadata": {
        "id": "6RGer6KZAJSE",
        "outputId": "df562648-675e-4019-8d1e-8f033f46cb3a",
        "colab": {
          "base_uri": "https://localhost:8080/"
        }
      },
      "execution_count": 26,
      "outputs": [
        {
          "output_type": "execute_result",
          "data": {
            "text/plain": [
              "0.05"
            ]
          },
          "metadata": {},
          "execution_count": 26
        }
      ]
    },
    {
      "cell_type": "code",
      "source": [
        "yields_test = [bond_yield_curve(m,c,ir_curve,freq_options.ANUAL) for m, c in zip(years_to_maturity,coupons) ]\n",
        "\n",
        "plt.plot(years_to_maturity,yields_test, 'o')\n",
        "\n",
        "plt.plot(time_pillars, ir_curve.zero_coupon_rates(time_pillars))\n",
        "plt.plot(pillars, rates, 'o', color='red')\n"
      ],
      "metadata": {
        "id": "H0U_yazuAwvq",
        "outputId": "8f7935fe-3965-4806-9d1f-c5866b7201e0",
        "colab": {
          "base_uri": "https://localhost:8080/",
          "height": 447
        }
      },
      "execution_count": 27,
      "outputs": [
        {
          "output_type": "execute_result",
          "data": {
            "text/plain": [
              "[<matplotlib.lines.Line2D at 0x7feaeb0e2b90>]"
            ]
          },
          "metadata": {},
          "execution_count": 27
        },
        {
          "output_type": "display_data",
          "data": {
            "text/plain": [
              "<Figure size 640x480 with 1 Axes>"
            ],
            "image/png": "[encoded data removed]"
          },
          "metadata": {}
        }
      ]
    },
    {
      "cell_type": "markdown",
      "metadata": {
        "id": "SSsDvGa3Vwaz"
      },
      "source": [
        "Complete the class below so that it calibrates th zero coupon curve from bond yields"
      ]
    },
    {
      "cell_type": "code",
      "execution_count": 28,
      "metadata": {
        "id": "1DRJiZs9Vwaz"
      },
      "outputs": [],
      "source": [
        "class yield_curve_bootsrap:\n",
        "\n",
        "    def __init__(self, bond_maturities, bond_yields, bond_coupons, curve_pillars, init_guess=0.05):\n",
        "\n",
        "        self.bond_maturities = bond_maturities\n",
        "        self.bond_yields = bond_yields\n",
        "        self.curve_pillars = curve_pillars\n",
        "        self.bond_coupons = np.array(bond_coupons)\n",
        "        self.init_guess = init_guess*np.ones_like(curve_pillars)\n",
        "\n",
        "    def compute_model_yields(self, curve_rates):\n",
        "\n",
        "        # your code here\n",
        "\n",
        "        curve = IR_Curve(self.curve_pillars, curve_rates)\n",
        "\n",
        "        return np.array([bond_yield_curve(m,c,curve ,\n",
        "            freq_options.ANUAL) for m, c in zip(self.bond_maturities,self.bond_coupons) ])\n",
        "\n",
        "    def compute_yield_mse(self, curve_rates):\n",
        "\n",
        "        model_yields = self.compute_model_yields(curve_rates)\n",
        "\n",
        "        return np.mean((model_yields - self.bond_yields)**2)\n",
        "\n",
        "    def bootstrap(self):\n",
        "\n",
        "        pillar_rates = minimize(self.compute_yield_mse, self.init_guess)['x']\n",
        "\n",
        "        return {'pillar rates': pillar_rates, 'curve object': IR_Curve(self.curve_pillars, pillar_rates)}\n",
        "\n"
      ]
    },
    {
      "cell_type": "code",
      "source": [
        "boot = yield_curve_bootsrap(years_to_maturity,spgb_hist.iloc[-1]/100, coupons,pillars)\n",
        "\n"
      ],
      "metadata": {
        "id": "fpHZ4tGHjdag"
      },
      "execution_count": 29,
      "outputs": []
    },
    {
      "cell_type": "code",
      "source": [
        "boot_output = boot.bootstrap()"
      ],
      "metadata": {
        "id": "75ptb8vnkZAA"
      },
      "execution_count": 30,
      "outputs": []
    },
    {
      "cell_type": "code",
      "source": [
        "plt.plot(time_pillars, boot_output['curve object'].zero_coupon_rates(time_pillars), label = 'zero curve')\n",
        "plt.plot(boot.bond_maturities, boot.bond_yields, 'o', label = 'market yields')\n",
        "plt.plot(boot.bond_maturities, boot.compute_model_yields(boot_output['pillar rates']), 'o', label = 'model yields', markersize = 3)\n",
        "plt.plot(boot.curve_pillars, boot_output['pillar rates'], 'X', label = 'CURVE PILLAR RATES', markersize = 10)\n",
        "\n",
        "\n",
        "plt.legend()\n"
      ],
      "metadata": {
        "id": "EXszuiZ1lh7b",
        "outputId": "706e059b-337c-4afb-9938-746166198e14",
        "colab": {
          "base_uri": "https://localhost:8080/",
          "height": 447
        }
      },
      "execution_count": 31,
      "outputs": [
        {
          "output_type": "execute_result",
          "data": {
            "text/plain": [
              "<matplotlib.legend.Legend at 0x7feaeb12fd60>"
            ]
          },
          "metadata": {},
          "execution_count": 31
        },
        {
          "output_type": "display_data",
          "data": {
            "text/plain": [
              "<Figure size 640x480 with 1 Axes>"
            ],
            "image/png": "[encoded data removed]"
          },
          "metadata": {}
        }
      ]
    },
    {
      "cell_type": "markdown",
      "source": [],
      "metadata": {
        "id": "L-xHNJyMkYJX"
      }
    },
    {
      "cell_type": "markdown",
      "metadata": {
        "id": "tCTWU9aQVwaz"
      },
      "source": [
        "Plot 1 yr spanning forward rates"
      ]
    },
    {
      "cell_type": "code",
      "execution_count": 50,
      "metadata": {
        "id": "V9J4DNWjVwaz"
      },
      "outputs": [],
      "source": [
        "# your code here\n"
      ]
    },
    {
      "cell_type": "markdown",
      "metadata": {
        "id": "bAsDQQqCVwaz"
      },
      "source": [
        "Plot the instantaneous forward curve"
      ]
    },
    {
      "cell_type": "code",
      "execution_count": 51,
      "metadata": {
        "id": "ggwt48F9Vwaz"
      },
      "outputs": [],
      "source": [
        "# your code here"
      ]
    },
    {
      "cell_type": "markdown",
      "source": [
        "## Bootstrapping the OIS curve\n",
        "\n",
        "Read the historical data."
      ],
      "metadata": {
        "id": "InW_kHIizoe_"
      }
    },
    {
      "cell_type": "code",
      "source": [
        "swaps_hist = pd.read_csv(PATH + 'DATA/Swaps_Hist.csv', parse_dates=True, index_col=0, dayfirst=True, sep = ';')\n",
        "\n",
        "swaps_hist.head()"
      ],
      "metadata": {
        "id": "J5ya6Yr8zw3A",
        "outputId": "390372f5-3ffa-45c8-de9d-54ada2c3f41d",
        "colab": {
          "base_uri": "https://localhost:8080/",
          "height": 371
        }
      },
      "execution_count": 53,
      "outputs": [
        {
          "output_type": "execute_result",
          "data": {
            "text/plain": [
              "            ESTER 1Y  ESTER 2Y  ESTER 3Y  ESTER 4Y  ESTER 5Y  ESTER 6Y  \\\n",
              "Dates                                                                    \n",
              "2023-01-03    3.0839    3.0764    2.9306    2.8185    2.7630    2.7259   \n",
              "2023-01-04    3.0292    2.9912    2.8365    2.7392    2.6772    2.6350   \n",
              "2023-01-05    3.0790    3.0414    2.8896    2.7967    2.7296    2.6920   \n",
              "2023-01-06    3.0445    2.9962    2.8493    2.7240    2.6470    2.6016   \n",
              "2023-01-09    3.0757    3.0159    2.8431    2.7362    2.6763    2.6302   \n",
              "\n",
              "            ESTER 7Y  ESTER 8Y  ESTER 9Y  ESTER 10Y  ...  EURIBOR 6M 9Y  \\\n",
              "Dates                                                ...                  \n",
              "2023-01-03    2.7041    2.6992    2.7082     2.7236  ...         2.9908   \n",
              "2023-01-04    2.6167    2.6196    2.6398     2.6586  ...         2.8913   \n",
              "2023-01-05    2.6689    2.6632    2.6772     2.6875  ...         2.9324   \n",
              "2023-01-06    2.5786    2.5768    2.5844     2.5953  ...         2.8466   \n",
              "2023-01-09    2.6072    2.6022    2.6112     2.6262  ...         2.8585   \n",
              "\n",
              "            EURIBOR 6M 10Y  EURIBOR 6M 11Y  EURIBOR 6M 12Y  EURIBOR 6M 15Y  \\\n",
              "Dates                                                                        \n",
              "2023-01-03          2.9933          2.9990          2.9966          2.9479   \n",
              "2023-01-04          2.9003          2.9090          2.9135          2.8802   \n",
              "2023-01-05          2.9408          2.9481          2.9543          2.9172   \n",
              "2023-01-06          2.8534          2.8608          2.8636          2.8300   \n",
              "2023-01-09          2.8668          2.8744          2.8765          2.8456   \n",
              "\n",
              "            EURIBOR 6M 20Y  EURIBOR 6M 25Y  EURIBOR 6M 30Y  EURIBOR 6M 40Y  \\\n",
              "Dates                                                                        \n",
              "2023-01-03          2.7369          2.5124          2.3398          2.0652   \n",
              "2023-01-04          2.7005          2.4859          2.3074          2.0385   \n",
              "2023-01-05          2.7363          2.5230          2.3505          2.0636   \n",
              "2023-01-06          2.6506          2.4441          2.2712          1.9918   \n",
              "2023-01-09          2.6831          2.4637          2.2946          2.0204   \n",
              "\n",
              "            EURIBOR 6M 50Y  \n",
              "Dates                       \n",
              "2023-01-03          1.8645  \n",
              "2023-01-04          1.8352  \n",
              "2023-01-05          1.8619  \n",
              "2023-01-06          1.7901  \n",
              "2023-01-09          1.8045  \n",
              "\n",
              "[5 rows x 36 columns]"
            ],
            "text/html": [
              "\n",
              "  <div id=\"df-00ddb03b-ab8c-494b-87d5-6670420846eb\" class=\"colab-df-container\">\n",
              "    <div>\n",
              "<style scoped>\n",
              "    .dataframe tbody tr th:only-of-type {\n",
              "        vertical-align: middle;\n",
              "    }\n",
              "\n",
              "    .dataframe tbody tr th {\n",
              "        vertical-align: top;\n",
              "    }\n",
              "\n",
              "    .dataframe thead th {\n",
              "        text-align: right;\n",
              "    }\n",
              "</style>\n",
              "<table border=\"1\" class=\"dataframe\">\n",
              "  <thead>\n",
              "    <tr style=\"text-align: right;\">\n",
              "      <th></th>\n",
              "      <th>ESTER 1Y</th>\n",
              "      <th>ESTER 2Y</th>\n",
              "      <th>ESTER 3Y</th>\n",
              "      <th>ESTER 4Y</th>\n",
              "      <th>ESTER 5Y</th>\n",
              "      <th>ESTER 6Y</th>\n",
              "      <th>ESTER 7Y</th>\n",
              "      <th>ESTER 8Y</th>\n",
              "      <th>ESTER 9Y</th>\n",
              "      <th>ESTER 10Y</th>\n",
              "      <th>...</th>\n",
              "      <th>EURIBOR 6M 9Y</th>\n",
              "      <th>EURIBOR 6M 10Y</th>\n",
              "      <th>EURIBOR 6M 11Y</th>\n",
              "      <th>EURIBOR 6M 12Y</th>\n",
              "      <th>EURIBOR 6M 15Y</th>\n",
              "      <th>EURIBOR 6M 20Y</th>\n",
              "      <th>EURIBOR 6M 25Y</th>\n",
              "      <th>EURIBOR 6M 30Y</th>\n",
              "      <th>EURIBOR 6M 40Y</th>\n",
              "      <th>EURIBOR 6M 50Y</th>\n",
              "    </tr>\n",
              "    <tr>\n",
              "      <th>Dates</th>\n",
              "      <th></th>\n",
              "      <th></th>\n",
              "      <th></th>\n",
              "      <th></th>\n",
              "      <th></th>\n",
              "      <th></th>\n",
              "      <th></th>\n",
              "      <th></th>\n",
              "      <th></th>\n",
              "      <th></th>\n",
              "      <th></th>\n",
              "      <th></th>\n",
              "      <th></th>\n",
              "      <th></th>\n",
              "      <th></th>\n",
              "      <th></th>\n",
              "      <th></th>\n",
              "      <th></th>\n",
              "      <th></th>\n",
              "      <th></th>\n",
              "      <th></th>\n",
              "    </tr>\n",
              "  </thead>\n",
              "  <tbody>\n",
              "    <tr>\n",
              "      <th>2023-01-03</th>\n",
              "      <td>3.0839</td>\n",
              "      <td>3.0764</td>\n",
              "      <td>2.9306</td>\n",
              "      <td>2.8185</td>\n",
              "      <td>2.7630</td>\n",
              "      <td>2.7259</td>\n",
              "      <td>2.7041</td>\n",
              "      <td>2.6992</td>\n",
              "      <td>2.7082</td>\n",
              "      <td>2.7236</td>\n",
              "      <td>...</td>\n",
              "      <td>2.9908</td>\n",
              "      <td>2.9933</td>\n",
              "      <td>2.9990</td>\n",
              "      <td>2.9966</td>\n",
              "      <td>2.9479</td>\n",
              "      <td>2.7369</td>\n",
              "      <td>2.5124</td>\n",
              "      <td>2.3398</td>\n",
              "      <td>2.0652</td>\n",
              "      <td>1.8645</td>\n",
              "    </tr>\n",
              "    <tr>\n",
              "      <th>2023-01-04</th>\n",
              "      <td>3.0292</td>\n",
              "      <td>2.9912</td>\n",
              "      <td>2.8365</td>\n",
              "      <td>2.7392</td>\n",
              "      <td>2.6772</td>\n",
              "      <td>2.6350</td>\n",
              "      <td>2.6167</td>\n",
              "      <td>2.6196</td>\n",
              "      <td>2.6398</td>\n",
              "      <td>2.6586</td>\n",
              "      <td>...</td>\n",
              "      <td>2.8913</td>\n",
              "      <td>2.9003</td>\n",
              "      <td>2.9090</td>\n",
              "      <td>2.9135</td>\n",
              "      <td>2.8802</td>\n",
              "      <td>2.7005</td>\n",
              "      <td>2.4859</td>\n",
              "      <td>2.3074</td>\n",
              "      <td>2.0385</td>\n",
              "      <td>1.8352</td>\n",
              "    </tr>\n",
              "    <tr>\n",
              "      <th>2023-01-05</th>\n",
              "      <td>3.0790</td>\n",
              "      <td>3.0414</td>\n",
              "      <td>2.8896</td>\n",
              "      <td>2.7967</td>\n",
              "      <td>2.7296</td>\n",
              "      <td>2.6920</td>\n",
              "      <td>2.6689</td>\n",
              "      <td>2.6632</td>\n",
              "      <td>2.6772</td>\n",
              "      <td>2.6875</td>\n",
              "      <td>...</td>\n",
              "      <td>2.9324</td>\n",
              "      <td>2.9408</td>\n",
              "      <td>2.9481</td>\n",
              "      <td>2.9543</td>\n",
              "      <td>2.9172</td>\n",
              "      <td>2.7363</td>\n",
              "      <td>2.5230</td>\n",
              "      <td>2.3505</td>\n",
              "      <td>2.0636</td>\n",
              "      <td>1.8619</td>\n",
              "    </tr>\n",
              "    <tr>\n",
              "      <th>2023-01-06</th>\n",
              "      <td>3.0445</td>\n",
              "      <td>2.9962</td>\n",
              "      <td>2.8493</td>\n",
              "      <td>2.7240</td>\n",
              "      <td>2.6470</td>\n",
              "      <td>2.6016</td>\n",
              "      <td>2.5786</td>\n",
              "      <td>2.5768</td>\n",
              "      <td>2.5844</td>\n",
              "      <td>2.5953</td>\n",
              "      <td>...</td>\n",
              "      <td>2.8466</td>\n",
              "      <td>2.8534</td>\n",
              "      <td>2.8608</td>\n",
              "      <td>2.8636</td>\n",
              "      <td>2.8300</td>\n",
              "      <td>2.6506</td>\n",
              "      <td>2.4441</td>\n",
              "      <td>2.2712</td>\n",
              "      <td>1.9918</td>\n",
              "      <td>1.7901</td>\n",
              "    </tr>\n",
              "    <tr>\n",
              "      <th>2023-01-09</th>\n",
              "      <td>3.0757</td>\n",
              "      <td>3.0159</td>\n",
              "      <td>2.8431</td>\n",
              "      <td>2.7362</td>\n",
              "      <td>2.6763</td>\n",
              "      <td>2.6302</td>\n",
              "      <td>2.6072</td>\n",
              "      <td>2.6022</td>\n",
              "      <td>2.6112</td>\n",
              "      <td>2.6262</td>\n",
              "      <td>...</td>\n",
              "      <td>2.8585</td>\n",
              "      <td>2.8668</td>\n",
              "      <td>2.8744</td>\n",
              "      <td>2.8765</td>\n",
              "      <td>2.8456</td>\n",
              "      <td>2.6831</td>\n",
              "      <td>2.4637</td>\n",
              "      <td>2.2946</td>\n",
              "      <td>2.0204</td>\n",
              "      <td>1.8045</td>\n",
              "    </tr>\n",
              "  </tbody>\n",
              "</table>\n",
              "<p>5 rows × 36 columns</p>\n",
              "</div>\n",
              "    <div class=\"colab-df-buttons\">\n",
              "\n",
              "  <div class=\"colab-df-container\">\n",
              "    <button class=\"colab-df-convert\" onclick=\"convertToInteractive('df-00ddb03b-ab8c-494b-87d5-6670420846eb')\"\n",
              "            title=\"Convert this dataframe to an interactive table.\"\n",
              "            style=\"display:none;\">\n",
              "\n",
              "  <svg xmlns=\"http://www.w3.org/2000/svg\" height=\"24px\" viewBox=\"0 -960 960 960\">\n",
              "    <path d=\"M120-120v-720h720v720H120Zm60-500h600v-160H180v160Zm220 220h160v-160H400v160Zm0 220h160v-160H400v160ZM180-400h160v-160H180v160Zm440 0h160v-160H620v160ZM180-180h160v-160H180v160Zm440 0h160v-160H620v160Z\"/>\n",
              "  </svg>\n",
              "    </button>\n",
              "\n",
              "  <style>\n",
              "    .colab-df-container {\n",
              "      display:flex;\n",
              "      gap: 12px;\n",
              "    }\n",
              "\n",
              "    .colab-df-convert {\n",
              "      background-color: #E8F0FE;\n",
              "      border: none;\n",
              "      border-radius: 50%;\n",
              "      cursor: pointer;\n",
              "      display: none;\n",
              "      fill: #1967D2;\n",
              "      height: 32px;\n",
              "      padding: 0 0 0 0;\n",
              "      width: 32px;\n",
              "    }\n",
              "\n",
              "    .colab-df-convert:hover {\n",
              "      background-color: #E2EBFA;\n",
              "      box-shadow: 0px 1px 2px rgba(60, 64, 67, 0.3), 0px 1px 3px 1px rgba(60, 64, 67, 0.15);\n",
              "      fill: #174EA6;\n",
              "    }\n",
              "\n",
              "    .colab-df-buttons div {\n",
              "      margin-bottom: 4px;\n",
              "    }\n",
              "\n",
              "    [theme=dark] .colab-df-convert {\n",
              "      background-color: #3B4455;\n",
              "      fill: #D2E3FC;\n",
              "    }\n",
              "\n",
              "    [theme=dark] .colab-df-convert:hover {\n",
              "      background-color: #434B5C;\n",
              "      box-shadow: 0px 1px 3px 1px rgba(0, 0, 0, 0.15);\n",
              "      filter: drop-shadow(0px 1px 2px rgba(0, 0, 0, 0.3));\n",
              "      fill: #FFFFFF;\n",
              "    }\n",
              "  </style>\n",
              "\n",
              "    <script>\n",
              "      const buttonEl =\n",
              "        document.querySelector('#df-00ddb03b-ab8c-494b-87d5-6670420846eb button.colab-df-convert');\n",
              "      buttonEl.style.display =\n",
              "        google.colab.kernel.accessAllowed ? 'block' : 'none';\n",
              "\n",
              "      async function convertToInteractive(key) {\n",
              "        const element = document.querySelector('#df-00ddb03b-ab8c-494b-87d5-6670420846eb');\n",
              "        const dataTable =\n",
              "          await google.colab.kernel.invokeFunction('convertToInteractive',\n",
              "                                                    [key], {});\n",
              "        if (!dataTable) return;\n",
              "\n",
              "        const docLinkHtml = 'Like what you see? Visit the ' +\n",
              "          '<a target=\"_blank\" href=https://colab.research.google.com/notebooks/data_table.ipynb>data table notebook</a>'\n",
              "          + ' to learn more about interactive tables.';\n",
              "        element.innerHTML = '';\n",
              "        dataTable['output_type'] = 'display_data';\n",
              "        await google.colab.output.renderOutput(dataTable, element);\n",
              "        const docLink = document.createElement('div');\n",
              "        docLink.innerHTML = docLinkHtml;\n",
              "        element.appendChild(docLink);\n",
              "      }\n",
              "    </script>\n",
              "  </div>\n",
              "\n",
              "\n",
              "<div id=\"df-6b5756d8-d6b4-492a-a850-2ccd86bfb4fc\">\n",
              "  <button class=\"colab-df-quickchart\" onclick=\"quickchart('df-6b5756d8-d6b4-492a-a850-2ccd86bfb4fc')\"\n",
              "            title=\"Suggest charts\"\n",
              "            style=\"display:none;\">\n",
              "\n",
              "<svg xmlns=\"http://www.w3.org/2000/svg\" height=\"24px\"viewBox=\"0 0 24 24\"\n",
              "     width=\"24px\">\n",
              "    <g>\n",
              "        <path d=\"M19 3H5c-1.1 0-2 .9-2 2v14c0 1.1.9 2 2 2h14c1.1 0 2-.9 2-2V5c0-1.1-.9-2-2-2zM9 17H7v-7h2v7zm4 0h-2V7h2v10zm4 0h-2v-4h2v4z\"/>\n",
              "    </g>\n",
              "</svg>\n",
              "  </button>\n",
              "\n",
              "<style>\n",
              "  .colab-df-quickchart {\n",
              "      --bg-color: #E8F0FE;\n",
              "      --fill-color: #1967D2;\n",
              "      --hover-bg-color: #E2EBFA;\n",
              "      --hover-fill-color: #174EA6;\n",
              "      --disabled-fill-color: #AAA;\n",
              "      --disabled-bg-color: #DDD;\n",
              "  }\n",
              "\n",
              "  [theme=dark] .colab-df-quickchart {\n",
              "      --bg-color: #3B4455;\n",
              "      --fill-color: #D2E3FC;\n",
              "      --hover-bg-color: #434B5C;\n",
              "      --hover-fill-color: #FFFFFF;\n",
              "      --disabled-bg-color: #3B4455;\n",
              "      --disabled-fill-color: #666;\n",
              "  }\n",
              "\n",
              "  .colab-df-quickchart {\n",
              "    background-color: var(--bg-color);\n",
              "    border: none;\n",
              "    border-radius: 50%;\n",
              "    cursor: pointer;\n",
              "    display: none;\n",
              "    fill: var(--fill-color);\n",
              "    height: 32px;\n",
              "    padding: 0;\n",
              "    width: 32px;\n",
              "  }\n",
              "\n",
              "  .colab-df-quickchart:hover {\n",
              "    background-color: var(--hover-bg-color);\n",
              "    box-shadow: 0 1px 2px rgba(60, 64, 67, 0.3), 0 1px 3px 1px rgba(60, 64, 67, 0.15);\n",
              "    fill: var(--button-hover-fill-color);\n",
              "  }\n",
              "\n",
              "  .colab-df-quickchart-complete:disabled,\n",
              "  .colab-df-quickchart-complete:disabled:hover {\n",
              "    background-color: var(--disabled-bg-color);\n",
              "    fill: var(--disabled-fill-color);\n",
              "    box-shadow: none;\n",
              "  }\n",
              "\n",
              "  .colab-df-spinner {\n",
              "    border: 2px solid var(--fill-color);\n",
              "    border-color: transparent;\n",
              "    border-bottom-color: var(--fill-color);\n",
              "    animation:\n",
              "      spin 1s steps(1) infinite;\n",
              "  }\n",
              "\n",
              "  @keyframes spin {\n",
              "    0% {\n",
              "      border-color: transparent;\n",
              "      border-bottom-color: var(--fill-color);\n",
              "      border-left-color: var(--fill-color);\n",
              "    }\n",
              "    20% {\n",
              "      border-color: transparent;\n",
              "      border-left-color: var(--fill-color);\n",
              "      border-top-color: var(--fill-color);\n",
              "    }\n",
              "    30% {\n",
              "      border-color: transparent;\n",
              "      border-left-color: var(--fill-color);\n",
              "      border-top-color: var(--fill-color);\n",
              "      border-right-color: var(--fill-color);\n",
              "    }\n",
              "    40% {\n",
              "      border-color: transparent;\n",
              "      border-right-color: var(--fill-color);\n",
              "      border-top-color: var(--fill-color);\n",
              "    }\n",
              "    60% {\n",
              "      border-color: transparent;\n",
              "      border-right-color: var(--fill-color);\n",
              "    }\n",
              "    80% {\n",
              "      border-color: transparent;\n",
              "      border-right-color: var(--fill-color);\n",
              "      border-bottom-color: var(--fill-color);\n",
              "    }\n",
              "    90% {\n",
              "      border-color: transparent;\n",
              "      border-bottom-color: var(--fill-color);\n",
              "    }\n",
              "  }\n",
              "</style>\n",
              "\n",
              "  <script>\n",
              "    async function quickchart(key) {\n",
              "      const quickchartButtonEl =\n",
              "        document.querySelector('#' + key + ' button');\n",
              "      quickchartButtonEl.disabled = true;  // To prevent multiple clicks.\n",
              "      quickchartButtonEl.classList.add('colab-df-spinner');\n",
              "      try {\n",
              "        const charts = await google.colab.kernel.invokeFunction(\n",
              "            'suggestCharts', [key], {});\n",
              "      } catch (error) {\n",
              "        console.error('Error during call to suggestCharts:', error);\n",
              "      }\n",
              "      quickchartButtonEl.classList.remove('colab-df-spinner');\n",
              "      quickchartButtonEl.classList.add('colab-df-quickchart-complete');\n",
              "    }\n",
              "    (() => {\n",
              "      let quickchartButtonEl =\n",
              "        document.querySelector('#df-6b5756d8-d6b4-492a-a850-2ccd86bfb4fc button');\n",
              "      quickchartButtonEl.style.display =\n",
              "        google.colab.kernel.accessAllowed ? 'block' : 'none';\n",
              "    })();\n",
              "  </script>\n",
              "</div>\n",
              "\n",
              "    </div>\n",
              "  </div>\n"
            ],
            "application/vnd.google.colaboratory.intrinsic+json": {
              "type": "dataframe",
              "variable_name": "swaps_hist"
            }
          },
          "metadata": {},
          "execution_count": 53
        }
      ]
    },
    {
      "cell_type": "code",
      "source": [
        "quotes = swaps_hist.loc['11-08-2024']\n",
        "\n",
        "\n",
        "regex =  r\".*?(\\d{1,2})Y$\"\n",
        "\n",
        "# Extract ois quotes\n",
        "ois_quotes = np.array([[int(re.search(regex, s).group(1)), v/100]  for s, v in zip(swaps_hist.columns, quotes.values) if (re.search(regex, s) and 'ESTER' in s)])\n",
        "\n",
        "# Extract irs quotes\n",
        "irs_quotes = np.array([[int(re.search(regex, s).group(1)), v/100]  for s, v in zip(swaps_hist.columns, quotes.values) if (re.search(regex, s) and 'EURIBOR' in s)])\n",
        "\n",
        "plt.plot(ois_quotes[:,0], ois_quotes[:,1], 'o-', label = 'OIS')\n",
        "plt.plot(irs_quotes[:,0], irs_quotes[:,1], 'o-', label = 'IRS 6M')\n",
        "\n",
        "plt.legend()\n"
      ],
      "metadata": {
        "id": "bdhnf1kO0WpI",
        "outputId": "d56152a3-7853-4179-c804-7ff3784da01f",
        "colab": {
          "base_uri": "https://localhost:8080/",
          "height": 447
        }
      },
      "execution_count": 74,
      "outputs": [
        {
          "output_type": "execute_result",
          "data": {
            "text/plain": [
              "<matplotlib.legend.Legend at 0x7feae3df3fd0>"
            ]
          },
          "metadata": {},
          "execution_count": 74
        },
        {
          "output_type": "display_data",
          "data": {
            "text/plain": [
              "<Figure size 640x480 with 1 Axes>"
            ],
            "image/png": "[encoded data removed]"
          },
          "metadata": {}
        }
      ]
    },
    {
      "cell_type": "code",
      "source": [],
      "metadata": {
        "id": "qGh5sAfx8xmG"
      },
      "execution_count": null,
      "outputs": []
    },
    {
      "cell_type": "code",
      "source": [
        "#"
      ],
      "metadata": {
        "id": "FjifAczD3STs",
        "outputId": "47d99b13-4082-4ddf-f7a4-5a33946b8023",
        "colab": {
          "base_uri": "https://localhost:8080/"
        }
      },
      "execution_count": 60,
      "outputs": [
        {
          "output_type": "execute_result",
          "data": {
            "text/plain": [
              "array([2.2799, 2.0688, 2.0536, 2.0775, 2.1028, 2.1222, 2.1466, 2.1724,\n",
              "       2.1974, 2.2236, 2.2486, 2.271 , 2.3201, 2.295 , 2.2125, 2.1291,\n",
              "       1.9977, 1.8606, 2.4999, 2.288 , 2.2686, 2.2716, 2.2795, 2.2949,\n",
              "       2.3046, 2.3224, 2.3351, 2.3585, 2.3657, 2.3787, 2.4007, 2.3382,\n",
              "       2.2373, 2.1434, 1.9625, 1.8048])"
            ]
          },
          "metadata": {},
          "execution_count": 60
        }
      ]
    },
    {
      "cell_type": "code",
      "source": [],
      "metadata": {
        "id": "sDMsrjwg2bWJ"
      },
      "execution_count": null,
      "outputs": []
    }
  ],
  "metadata": {
    "kernelspec": {
      "display_name": "definitive",
      "language": "python",
      "name": "python3"
    },
    "language_info": {
      "codemirror_mode": {
        "name": "ipython",
        "version": 3
      },
      "file_extension": ".py",
      "mimetype": "text/x-python",
      "name": "python",
      "nbconvert_exporter": "python",
      "pygments_lexer": "ipython3",
      "version": "3.10.13"
    },
    "colab": {
      "provenance": []
    }
  },
  "nbformat": 4,
  "nbformat_minor": 0
}