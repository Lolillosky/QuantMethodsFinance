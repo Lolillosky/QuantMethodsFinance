{
  "cells": [
    {
      "cell_type": "markdown",
      "metadata": {
        "id": "4s1YpUWOVwah"
      },
      "source": [
        "# Quantitative Methods in Finance"
      ]
    },
    {
      "cell_type": "markdown",
      "metadata": {
        "id": "sW_se_E4Vwal"
      },
      "source": [
        "Click <a href=\"https://colab.research.google.com/github/Lolillosky/QuantMethodsFinance/blob/main/NOTEBOOKS/2_Interest_rates_basics.ipynb\">\n",
        "    <img src=\"https://upload.wikimedia.org/wikipedia/commons/d/d0/Google_Colaboratory_SVG_Logo.svg\" width=\"30\" alt=\"Google Colab\">\n",
        "</a> to open this notebook in Google Colab.\n",
        "\n",
        "Clone the repository"
      ]
    },
    {
      "cell_type": "code",
      "execution_count": 1,
      "metadata": {
        "id": "_2tV2dMFVwam"
      },
      "outputs": [],
      "source": [
        "from IPython.display import clear_output\n",
        "\n",
        "!rm -r {'QuantMethodsFinance'}\n",
        "\n",
        "!git clone https://github.com/Lolillosky/QuantMethodsFinance\n",
        "\n",
        "import sys\n",
        "sys.modules.pop\n",
        "sys.path.insert(0,'QuantMethodsFinance/CODE')\n",
        "\n",
        "clear_output()"
      ]
    },
    {
      "cell_type": "markdown",
      "metadata": {
        "id": "1axq1mtaVwao"
      },
      "source": [
        "Import some libraries"
      ]
    },
    {
      "cell_type": "code",
      "execution_count": 2,
      "metadata": {
        "id": "QZ506rN2Vwap"
      },
      "outputs": [],
      "source": [
        "import numpy as np\n",
        "import matplotlib.pyplot as plt\n",
        "from scipy.optimize import fsolve\n",
        "from scipy.optimize import minimize\n",
        "import pandas as pd\n",
        "import re\n",
        "from scipy.interpolate import CubicSpline\n"
      ]
    },
    {
      "cell_type": "markdown",
      "metadata": {
        "id": "BJMAjjKFVwap"
      },
      "source": [
        "Modify PATH variable depending on how you run the notebook"
      ]
    },
    {
      "cell_type": "code",
      "execution_count": 3,
      "metadata": {
        "id": "M53sVba0Vwap"
      },
      "outputs": [],
      "source": [
        "# To be used if notebook is run in Google Colab\n",
        "PATH = '/content/QuantMethodsFinance/'\n",
        "# To be used if notebook is run in a local clone of the repository\n",
        "# PATH = '../'\n"
      ]
    },
    {
      "cell_type": "markdown",
      "metadata": {
        "id": "uiACnYviVwaq"
      },
      "source": [
        "## Interest rate\n",
        "\n",
        "Given the following:\n",
        "\n",
        "| Concept | Amount |\n",
        "|----------|----------|\n",
        "| Initial investment    | 100     |\n",
        "| Final value    | 150     |\n",
        "| T-t (years)    | 5     |\n",
        "\n",
        "Calculate simple, compounded and continuously compounded interest\n"
      ]
    },
    {
      "cell_type": "code",
      "execution_count": 4,
      "metadata": {
        "id": "6aPaxSENVwaq"
      },
      "outputs": [],
      "source": [
        "# Your code here"
      ]
    },
    {
      "cell_type": "markdown",
      "metadata": {
        "id": "tBus0SZwVwar"
      },
      "source": []
    },
    {
      "cell_type": "markdown",
      "metadata": {
        "id": "yzSoXb1rVwar"
      },
      "source": [
        "## Continuously compounded interest\n",
        "\n",
        "Check numerically that:\n",
        "\n",
        "$$\\lim_{n \\to \\infty}\\left(1+r\\frac{T-t}{n}\\right)^n=\\exp\\left(r\\left(T-t\\right)\\right)$$\n",
        "\n",
        "Assume $r=0.03$ $T-t=5$"
      ]
    },
    {
      "cell_type": "code",
      "execution_count": 5,
      "metadata": {
        "id": "KYH-bkQIVwar"
      },
      "outputs": [],
      "source": [
        "# Your code here\n"
      ]
    },
    {
      "cell_type": "markdown",
      "metadata": {
        "id": "mNHUaFcNVwar"
      },
      "source": [
        "## Internal rate of return / yield of a bond\n",
        "\n",
        "The following code is a simplified version of the pricing of a bond forgeting about dates and day count conventions."
      ]
    },
    {
      "cell_type": "code",
      "execution_count": 6,
      "metadata": {
        "id": "qI9RVUvjVwar"
      },
      "outputs": [],
      "source": [
        "\n",
        "from enum import Enum\n",
        "\n",
        "class freq_options(Enum):\n",
        "    QUARTERLY = 1\n",
        "    SEMI_ANNUAL = 2\n",
        "    ANUAL = 3\n",
        "\n",
        "\n",
        "def bond_price(TTM, coupon, yield_to_mat, freq):\n",
        "\n",
        "    if freq == freq_options.QUARTERLY:\n",
        "          delta = 0.25\n",
        "    elif freq == freq_options.SEMI_ANNUAL:\n",
        "        delta = 0.5\n",
        "    elif freq == freq_options.ANUAL:\n",
        "        delta = 1\n",
        "    else:\n",
        "        raise ValueError(\"Invalid frequency\")\n",
        "\n",
        "    payment_times = np.arange(TTM,0, step=-delta)[::-1]\n",
        "\n",
        "    return np.sum(coupon * delta * (1.0 + yield_to_mat)**(-payment_times)) + (1.0 + yield_to_mat)**(-TTM)\n"
      ]
    },
    {
      "cell_type": "code",
      "execution_count": 7,
      "metadata": {
        "id": "jra-V5D0Vwar",
        "outputId": "f3aee307-f262-491a-ffdc-3876f7faeb5a",
        "colab": {
          "base_uri": "https://localhost:8080/"
        }
      },
      "outputs": [
        {
          "output_type": "execute_result",
          "data": {
            "text/plain": [
              "0.9134104665873835"
            ]
          },
          "metadata": {},
          "execution_count": 7
        }
      ],
      "source": [
        "bond_price(5,0.03,0.05,freq_options.ANUAL)"
      ]
    },
    {
      "cell_type": "markdown",
      "metadata": {
        "id": "3NgreqgkVwas"
      },
      "source": [
        "For a 5 year maturity bond, with annual coupons of $3\\%$, plot the dirty price as a function of its yield. If the yield of a bond rises, does the bond holder gain or loose money?"
      ]
    },
    {
      "cell_type": "code",
      "execution_count": 8,
      "metadata": {
        "id": "WtTBGoE3Vwas",
        "outputId": "0906491a-0cd0-4505-9f1e-06770f113375",
        "colab": {
          "base_uri": "https://localhost:8080/",
          "height": 447
        }
      },
      "outputs": [
        {
          "output_type": "execute_result",
          "data": {
            "text/plain": [
              "[<matplotlib.lines.Line2D at 0x7957ec9513c0>]"
            ]
          },
          "metadata": {},
          "execution_count": 8
        },
        {
          "output_type": "display_data",
          "data": {
            "text/plain": [
              "<Figure size 640x480 with 1 Axes>"
            ],
            "image/png": "[encoded data removed]"
          },
          "metadata": {}
        }
      ],
      "source": [
        "# Your code here\n",
        "\n",
        "maturity = 30\n",
        "coupon = 0.03\n",
        "ytm = np.linspace(0,0.1,100)\n",
        "\n",
        "price = [bond_price(maturity, coupon, x, freq_options.ANUAL) for x in ytm]\n",
        "\n",
        "\n",
        "plt.plot(ytm, price)\n",
        "plt.plot(0.03, 1.0, 'o', color = 'red')"
      ]
    },
    {
      "cell_type": "markdown",
      "metadata": {
        "id": "g0_b7fBiVwas"
      },
      "source": [
        "For yields equal to $1\\%,\\ 3\\%,\\ 5\\%$, plot the dirty price as time goes by and we approach the maturity of the bond."
      ]
    },
    {
      "cell_type": "code",
      "execution_count": 9,
      "metadata": {
        "id": "R8tt57GNVwas",
        "outputId": "b6efe9a2-5a34-4b42-c44d-199191c25bbd",
        "colab": {
          "base_uri": "https://localhost:8080/",
          "height": 447
        }
      },
      "outputs": [
        {
          "output_type": "execute_result",
          "data": {
            "text/plain": [
              "<matplotlib.legend.Legend at 0x7957ea5f2560>"
            ]
          },
          "metadata": {},
          "execution_count": 9
        },
        {
          "output_type": "display_data",
          "data": {
            "text/plain": [
              "<Figure size 640x480 with 1 Axes>"
            ],
            "image/png": "[encoded data removed]"
          },
          "metadata": {}
        }
      ],
      "source": [
        "# Your code here\n",
        "\n",
        "maturity = np.linspace(0,30,1000)\n",
        "coupon = 0.03\n",
        "y1 = 0.01\n",
        "y2 = 0.03\n",
        "y3 = 0.05\n",
        "\n",
        "\n",
        "price1 = [bond_price(m, coupon, y1, freq_options.ANUAL) for m in maturity]\n",
        "price2 = [bond_price(m, coupon, y2, freq_options.ANUAL) for m in maturity]\n",
        "price3 = [bond_price(m, coupon, y3, freq_options.ANUAL) for m in maturity]\n",
        "\n",
        "\n",
        "plt.plot(maturity[::-1], price1, label= '0.01')\n",
        "plt.plot(maturity[::-1], price2, label= '0.03')\n",
        "plt.plot(maturity[::-1], price3, label= '0.05')\n",
        "\n",
        "plt.legend()\n",
        "\n",
        "\n"
      ]
    },
    {
      "cell_type": "markdown",
      "metadata": {
        "id": "aatiIeCzVwas"
      },
      "source": [
        "If the price of the bond is $103\\%$, compute its yield. Use fsolve function of Scipy."
      ]
    },
    {
      "cell_type": "code",
      "execution_count": 10,
      "metadata": {
        "id": "OP5q0d7QVwas",
        "outputId": "d238befe-2f0b-4fcc-a821-062697feace9",
        "colab": {
          "base_uri": "https://localhost:8080/"
        }
      },
      "outputs": [
        {
          "output_type": "execute_result",
          "data": {
            "text/plain": [
              "array([0.02356917])"
            ]
          },
          "metadata": {},
          "execution_count": 10
        }
      ],
      "source": [
        "# Your code here\n",
        "\n",
        "fsolve(lambda y: bond_price(5,0.03,y,freq_options.ANUAL)-1.03, 0.03)"
      ]
    },
    {
      "cell_type": "code",
      "source": [
        "(lambda x: x+1)(7)\n",
        "\n"
      ],
      "metadata": {
        "id": "YZmnBCZ1l6W1",
        "outputId": "bfdd9dfa-cf1d-4292-a785-5c31d9c408b0",
        "colab": {
          "base_uri": "https://localhost:8080/"
        }
      },
      "execution_count": 11,
      "outputs": [
        {
          "output_type": "execute_result",
          "data": {
            "text/plain": [
              "8"
            ]
          },
          "metadata": {},
          "execution_count": 11
        }
      ]
    },
    {
      "cell_type": "markdown",
      "metadata": {
        "id": "u-_0L9JNVwas"
      },
      "source": [
        "## Duration\n",
        "\n",
        "Code a function to compute the duration of a bond for a given maturity, coupon, yield and payment frequency."
      ]
    },
    {
      "cell_type": "code",
      "execution_count": 12,
      "metadata": {
        "id": "1XSlKF5uVwas"
      },
      "outputs": [],
      "source": [
        "def bond_duration(TTM, coupon, yield_to_mat, freq, charts = False):\n",
        "\n",
        "    if freq == freq_options.QUARTERLY:\n",
        "          delta = 0.25\n",
        "    elif freq == freq_options.SEMI_ANNUAL:\n",
        "        delta = 0.5\n",
        "    elif freq == freq_options.ANUAL:\n",
        "        delta = 1\n",
        "    else:\n",
        "        raise ValueError(\"Invalid frequency\")\n",
        "\n",
        "    payment_times = np.arange(TTM,0, step=-delta)[::-1]\n",
        "\n",
        "    disc_cf = coupon * delta * (1+yield_to_mat)**(-payment_times)\n",
        "\n",
        "    disc_cf[-1] += (1+yield_to_mat)**(-payment_times[-1])\n",
        "\n",
        "    disc_cf_times_t = disc_cf * payment_times\n",
        "\n",
        "    duration = np.sum(disc_cf_times_t) / np.sum(disc_cf)\n",
        "\n",
        "    if charts:\n",
        "      plt.bar(payment_times, disc_cf)\n",
        "      plt.vlines(duration, 0, 1, color = 'red')\n",
        "      plt.show()\n",
        "\n",
        "    return duration\n",
        "\n",
        "\n",
        "\n",
        "    # your code here"
      ]
    },
    {
      "cell_type": "markdown",
      "metadata": {
        "id": "csjJS7t-Vwat"
      },
      "source": [
        "For a 30 year bond with a coupon of $3\\%$, plot the bond duration as time evolves for yields of $1\\%,\\ 3\\%,\\ 5\\%$."
      ]
    },
    {
      "cell_type": "code",
      "source": [
        "bond_duration(30,0.03,0.03,freq_options.ANUAL, True)"
      ],
      "metadata": {
        "id": "Av6lcBN6wQes",
        "outputId": "a5e93950-4e55-4578-eaa1-55342fafd373",
        "colab": {
          "base_uri": "https://localhost:8080/",
          "height": 447
        }
      },
      "execution_count": 13,
      "outputs": [
        {
          "output_type": "display_data",
          "data": {
            "text/plain": [
              "<Figure size 640x480 with 1 Axes>"
            ],
            "image/png": "[encoded data removed]"
          },
          "metadata": {}
        },
        {
          "output_type": "execute_result",
          "data": {
            "text/plain": [
              "20.188454589953867"
            ]
          },
          "metadata": {},
          "execution_count": 13
        }
      ]
    },
    {
      "cell_type": "code",
      "source": [
        "maturity = np.linspace(0.0001,30,1000)\n",
        "coupon = 0.03\n",
        "y1 = 0.01\n",
        "y2 = 0.03\n",
        "y3 = 0.05\n",
        "\n",
        "\n",
        "duration1 = [bond_duration(m, coupon, y1, freq_options.ANUAL) for m in maturity]\n",
        "duration2 = [bond_duration(m, coupon, y2, freq_options.ANUAL) for m in maturity]\n",
        "duration3 = [bond_duration(m, coupon, y3, freq_options.ANUAL) for m in maturity]\n",
        "\n",
        "\n",
        "plt.plot(maturity[::-1], duration1, label= '0.01')\n",
        "plt.plot(maturity[::-1], duration2, label= '0.03')\n",
        "plt.plot(maturity[::-1], duration3, label= '0.05')\n",
        "\n",
        "plt.legend()\n",
        "\n"
      ],
      "metadata": {
        "id": "K06lqdZbxokA",
        "outputId": "78faf089-4fa7-4b99-8375-44132310a33e",
        "colab": {
          "base_uri": "https://localhost:8080/",
          "height": 447
        }
      },
      "execution_count": 14,
      "outputs": [
        {
          "output_type": "execute_result",
          "data": {
            "text/plain": [
              "<matplotlib.legend.Legend at 0x7957ea652140>"
            ]
          },
          "metadata": {},
          "execution_count": 14
        },
        {
          "output_type": "display_data",
          "data": {
            "text/plain": [
              "<Figure size 640x480 with 1 Axes>"
            ],
            "image/png": "[encoded data removed]"
          },
          "metadata": {}
        }
      ]
    },
    {
      "cell_type": "code",
      "execution_count": 15,
      "metadata": {
        "id": "LltIbml1Vwat"
      },
      "outputs": [],
      "source": [
        "# Your code here"
      ]
    },
    {
      "cell_type": "markdown",
      "metadata": {
        "id": "iaKXIEGTVwat"
      },
      "source": [
        "Same for a zero coupon bond (bond with coupon equal to $0\\%$)."
      ]
    },
    {
      "cell_type": "code",
      "execution_count": 16,
      "metadata": {
        "id": "KW6V0sZOVwat"
      },
      "outputs": [],
      "source": [
        "# Your code here"
      ]
    },
    {
      "cell_type": "markdown",
      "metadata": {
        "id": "EMR1royPVwat"
      },
      "source": [
        "Can you provide a physical interpretation of duration?"
      ]
    },
    {
      "cell_type": "markdown",
      "metadata": {
        "id": "LLJxgHKMVwat"
      },
      "source": [
        "## Bootstrapping the yield curve\n",
        "\n",
        "Let us read the historical data included in the spgb_hist.csv file."
      ]
    },
    {
      "cell_type": "code",
      "execution_count": 17,
      "metadata": {
        "id": "q2ZQnAT8Vwat",
        "outputId": "bb76fb1f-2afa-4231-d1ac-766a3ccffdec",
        "colab": {
          "base_uri": "https://localhost:8080/",
          "height": 408
        }
      },
      "outputs": [
        {
          "output_type": "execute_result",
          "data": {
            "text/plain": [
              "            SPGB 0 1/31/2025 Govt  SPGB 1.6 4/30/2025 Govt  \\\n",
              "Dates                                                        \n",
              "2023-10-02                  3.672                    3.594   \n",
              "2023-10-03                  3.670                    3.587   \n",
              "2023-10-04                  3.641                    3.554   \n",
              "2023-10-05                  3.635                    3.545   \n",
              "2023-10-06                  3.645                    3.544   \n",
              "\n",
              "            SPGB 0 5/31/2025 Govt  SPGB 4.65 7/30/2025 Govt  \\\n",
              "Dates                                                         \n",
              "2023-10-02                  3.591                     3.541   \n",
              "2023-10-03                  3.597                     3.547   \n",
              "2023-10-04                  3.552                     3.503   \n",
              "2023-10-05                  3.537                     3.490   \n",
              "2023-10-06                  3.532                     3.482   \n",
              "\n",
              "            SPGB 2.15 10/31/2025 Govt  SPGB 0 1/31/2026 Govt  \\\n",
              "Dates                                                          \n",
              "2023-10-02                      3.472                  3.506   \n",
              "2023-10-03                      3.476                  3.511   \n",
              "2023-10-04                      3.437                  3.472   \n",
              "2023-10-05                      3.420                  3.453   \n",
              "2023-10-06                      3.412                  3.443   \n",
              "\n",
              "            SPGB 1.95 4/30/2026 Govt  SPGB 2.8 5/31/2026 Govt  \\\n",
              "Dates                                                           \n",
              "2023-10-02                     3.484                    3.517   \n",
              "2023-10-03                     3.490                    3.525   \n",
              "2023-10-04                     3.451                    3.492   \n",
              "2023-10-05                     3.432                    3.473   \n",
              "2023-10-06                     3.423                    3.466   \n",
              "\n",
              "            SPGB 5.9 7/30/2026 Govt  SPGB 1.3 10/31/2026 Govt  ...  \\\n",
              "Dates                                                          ...   \n",
              "2023-10-02                    3.512                     3.477  ...   \n",
              "2023-10-03                    3.525                     3.492  ...   \n",
              "2023-10-04                    3.484                     3.459  ...   \n",
              "2023-10-05                    3.463                     3.433  ...   \n",
              "2023-10-06                    3.456                     3.433  ...   \n",
              "\n",
              "            SPGB 3.45 7/30/2043 Govt  SPGB 5.15 10/31/2044 Govt  \\\n",
              "Dates                                                             \n",
              "2023-10-02                     4.488                      4.452   \n",
              "2023-10-03                     4.591                      4.555   \n",
              "2023-10-04                     4.519                      4.482   \n",
              "2023-10-05                     4.524                      4.489   \n",
              "2023-10-06                     4.523                      4.489   \n",
              "\n",
              "            SPGB 2.9 10/31/2046 Govt  SPGB 2.7 10/31/2048 Govt  \\\n",
              "Dates                                                            \n",
              "2023-10-02                     4.480                     4.511   \n",
              "2023-10-03                     4.582                     4.617   \n",
              "2023-10-04                     4.509                     4.538   \n",
              "2023-10-05                     4.518                     4.549   \n",
              "2023-10-06                     4.516                     4.546   \n",
              "\n",
              "            SPGB 1 10/31/2050 Govt  SPGB 1.9 10/31/2052 Govt  \\\n",
              "Dates                                                          \n",
              "2023-10-02                   4.490                     4.584   \n",
              "2023-10-03                   4.601                     4.691   \n",
              "2023-10-04                   4.519                     4.610   \n",
              "2023-10-05                   4.539                     4.629   \n",
              "2023-10-06                   4.531                     4.623   \n",
              "\n",
              "            SPGB 4 10/31/2054 Govt  SPGB 4 10/31/2064 Govt  \\\n",
              "Dates                                                        \n",
              "2023-10-02                     NaN                   4.321   \n",
              "2023-10-03                     NaN                   4.555   \n",
              "2023-10-04                     NaN                   4.555   \n",
              "2023-10-05                     NaN                   4.555   \n",
              "2023-10-06                     NaN                   4.555   \n",
              "\n",
              "            SPGB 3.45 7/30/2066 Govt  SPGB 1.45 10/31/2071 Govt  \n",
              "Dates                                                            \n",
              "2023-10-02                     4.628                      4.519  \n",
              "2023-10-03                     4.734                      4.623  \n",
              "2023-10-04                     4.655                      4.547  \n",
              "2023-10-05                     4.672                      4.569  \n",
              "2023-10-06                     4.676                      4.572  \n",
              "\n",
              "[5 rows x 57 columns]"
            ],
            "text/html": [
              "\n",
              "  <div id=\"df-8fbd7885-962a-4df2-99c9-31d0cb3fc0d3\" class=\"colab-df-container\">\n",
              "    <div>\n",
              "<style scoped>\n",
              "    .dataframe tbody tr th:only-of-type {\n",
              "        vertical-align: middle;\n",
              "    }\n",
              "\n",
              "    .dataframe tbody tr th {\n",
              "        vertical-align: top;\n",
              "    }\n",
              "\n",
              "    .dataframe thead th {\n",
              "        text-align: right;\n",
              "    }\n",
              "</style>\n",
              "<table border=\"1\" class=\"dataframe\">\n",
              "  <thead>\n",
              "    <tr style=\"text-align: right;\">\n",
              "      <th></th>\n",
              "      <th>SPGB 0 1/31/2025 Govt</th>\n",
              "      <th>SPGB 1.6 4/30/2025 Govt</th>\n",
              "      <th>SPGB 0 5/31/2025 Govt</th>\n",
              "      <th>SPGB 4.65 7/30/2025 Govt</th>\n",
              "      <th>SPGB 2.15 10/31/2025 Govt</th>\n",
              "      <th>SPGB 0 1/31/2026 Govt</th>\n",
              "      <th>SPGB 1.95 4/30/2026 Govt</th>\n",
              "      <th>SPGB 2.8 5/31/2026 Govt</th>\n",
              "      <th>SPGB 5.9 7/30/2026 Govt</th>\n",
              "      <th>SPGB 1.3 10/31/2026 Govt</th>\n",
              "      <th>...</th>\n",
              "      <th>SPGB 3.45 7/30/2043 Govt</th>\n",
              "      <th>SPGB 5.15 10/31/2044 Govt</th>\n",
              "      <th>SPGB 2.9 10/31/2046 Govt</th>\n",
              "      <th>SPGB 2.7 10/31/2048 Govt</th>\n",
              "      <th>SPGB 1 10/31/2050 Govt</th>\n",
              "      <th>SPGB 1.9 10/31/2052 Govt</th>\n",
              "      <th>SPGB 4 10/31/2054 Govt</th>\n",
              "      <th>SPGB 4 10/31/2064 Govt</th>\n",
              "      <th>SPGB 3.45 7/30/2066 Govt</th>\n",
              "      <th>SPGB 1.45 10/31/2071 Govt</th>\n",
              "    </tr>\n",
              "    <tr>\n",
              "      <th>Dates</th>\n",
              "      <th></th>\n",
              "      <th></th>\n",
              "      <th></th>\n",
              "      <th></th>\n",
              "      <th></th>\n",
              "      <th></th>\n",
              "      <th></th>\n",
              "      <th></th>\n",
              "      <th></th>\n",
              "      <th></th>\n",
              "      <th></th>\n",
              "      <th></th>\n",
              "      <th></th>\n",
              "      <th></th>\n",
              "      <th></th>\n",
              "      <th></th>\n",
              "      <th></th>\n",
              "      <th></th>\n",
              "      <th></th>\n",
              "      <th></th>\n",
              "      <th></th>\n",
              "    </tr>\n",
              "  </thead>\n",
              "  <tbody>\n",
              "    <tr>\n",
              "      <th>2023-10-02</th>\n",
              "      <td>3.672</td>\n",
              "      <td>3.594</td>\n",
              "      <td>3.591</td>\n",
              "      <td>3.541</td>\n",
              "      <td>3.472</td>\n",
              "      <td>3.506</td>\n",
              "      <td>3.484</td>\n",
              "      <td>3.517</td>\n",
              "      <td>3.512</td>\n",
              "      <td>3.477</td>\n",
              "      <td>...</td>\n",
              "      <td>4.488</td>\n",
              "      <td>4.452</td>\n",
              "      <td>4.480</td>\n",
              "      <td>4.511</td>\n",
              "      <td>4.490</td>\n",
              "      <td>4.584</td>\n",
              "      <td>NaN</td>\n",
              "      <td>4.321</td>\n",
              "      <td>4.628</td>\n",
              "      <td>4.519</td>\n",
              "    </tr>\n",
              "    <tr>\n",
              "      <th>2023-10-03</th>\n",
              "      <td>3.670</td>\n",
              "      <td>3.587</td>\n",
              "      <td>3.597</td>\n",
              "      <td>3.547</td>\n",
              "      <td>3.476</td>\n",
              "      <td>3.511</td>\n",
              "      <td>3.490</td>\n",
              "      <td>3.525</td>\n",
              "      <td>3.525</td>\n",
              "      <td>3.492</td>\n",
              "      <td>...</td>\n",
              "      <td>4.591</td>\n",
              "      <td>4.555</td>\n",
              "      <td>4.582</td>\n",
              "      <td>4.617</td>\n",
              "      <td>4.601</td>\n",
              "      <td>4.691</td>\n",
              "      <td>NaN</td>\n",
              "      <td>4.555</td>\n",
              "      <td>4.734</td>\n",
              "      <td>4.623</td>\n",
              "    </tr>\n",
              "    <tr>\n",
              "      <th>2023-10-04</th>\n",
              "      <td>3.641</td>\n",
              "      <td>3.554</td>\n",
              "      <td>3.552</td>\n",
              "      <td>3.503</td>\n",
              "      <td>3.437</td>\n",
              "      <td>3.472</td>\n",
              "      <td>3.451</td>\n",
              "      <td>3.492</td>\n",
              "      <td>3.484</td>\n",
              "      <td>3.459</td>\n",
              "      <td>...</td>\n",
              "      <td>4.519</td>\n",
              "      <td>4.482</td>\n",
              "      <td>4.509</td>\n",
              "      <td>4.538</td>\n",
              "      <td>4.519</td>\n",
              "      <td>4.610</td>\n",
              "      <td>NaN</td>\n",
              "      <td>4.555</td>\n",
              "      <td>4.655</td>\n",
              "      <td>4.547</td>\n",
              "    </tr>\n",
              "    <tr>\n",
              "      <th>2023-10-05</th>\n",
              "      <td>3.635</td>\n",
              "      <td>3.545</td>\n",
              "      <td>3.537</td>\n",
              "      <td>3.490</td>\n",
              "      <td>3.420</td>\n",
              "      <td>3.453</td>\n",
              "      <td>3.432</td>\n",
              "      <td>3.473</td>\n",
              "      <td>3.463</td>\n",
              "      <td>3.433</td>\n",
              "      <td>...</td>\n",
              "      <td>4.524</td>\n",
              "      <td>4.489</td>\n",
              "      <td>4.518</td>\n",
              "      <td>4.549</td>\n",
              "      <td>4.539</td>\n",
              "      <td>4.629</td>\n",
              "      <td>NaN</td>\n",
              "      <td>4.555</td>\n",
              "      <td>4.672</td>\n",
              "      <td>4.569</td>\n",
              "    </tr>\n",
              "    <tr>\n",
              "      <th>2023-10-06</th>\n",
              "      <td>3.645</td>\n",
              "      <td>3.544</td>\n",
              "      <td>3.532</td>\n",
              "      <td>3.482</td>\n",
              "      <td>3.412</td>\n",
              "      <td>3.443</td>\n",
              "      <td>3.423</td>\n",
              "      <td>3.466</td>\n",
              "      <td>3.456</td>\n",
              "      <td>3.433</td>\n",
              "      <td>...</td>\n",
              "      <td>4.523</td>\n",
              "      <td>4.489</td>\n",
              "      <td>4.516</td>\n",
              "      <td>4.546</td>\n",
              "      <td>4.531</td>\n",
              "      <td>4.623</td>\n",
              "      <td>NaN</td>\n",
              "      <td>4.555</td>\n",
              "      <td>4.676</td>\n",
              "      <td>4.572</td>\n",
              "    </tr>\n",
              "  </tbody>\n",
              "</table>\n",
              "<p>5 rows × 57 columns</p>\n",
              "</div>\n",
              "    <div class=\"colab-df-buttons\">\n",
              "\n",
              "  <div class=\"colab-df-container\">\n",
              "    <button class=\"colab-df-convert\" onclick=\"convertToInteractive('df-8fbd7885-962a-4df2-99c9-31d0cb3fc0d3')\"\n",
              "            title=\"Convert this dataframe to an interactive table.\"\n",
              "            style=\"display:none;\">\n",
              "\n",
              "  <svg xmlns=\"http://www.w3.org/2000/svg\" height=\"24px\" viewBox=\"0 -960 960 960\">\n",
              "    <path d=\"M120-120v-720h720v720H120Zm60-500h600v-160H180v160Zm220 220h160v-160H400v160Zm0 220h160v-160H400v160ZM180-400h160v-160H180v160Zm440 0h160v-160H620v160ZM180-180h160v-160H180v160Zm440 0h160v-160H620v160Z\"/>\n",
              "  </svg>\n",
              "    </button>\n",
              "\n",
              "  <style>\n",
              "    .colab-df-container {\n",
              "      display:flex;\n",
              "      gap: 12px;\n",
              "    }\n",
              "\n",
              "    .colab-df-convert {\n",
              "      background-color: #E8F0FE;\n",
              "      border: none;\n",
              "      border-radius: 50%;\n",
              "      cursor: pointer;\n",
              "      display: none;\n",
              "      fill: #1967D2;\n",
              "      height: 32px;\n",
              "      padding: 0 0 0 0;\n",
              "      width: 32px;\n",
              "    }\n",
              "\n",
              "    .colab-df-convert:hover {\n",
              "      background-color: #E2EBFA;\n",
              "      box-shadow: 0px 1px 2px rgba(60, 64, 67, 0.3), 0px 1px 3px 1px rgba(60, 64, 67, 0.15);\n",
              "      fill: #174EA6;\n",
              "    }\n",
              "\n",
              "    .colab-df-buttons div {\n",
              "      margin-bottom: 4px;\n",
              "    }\n",
              "\n",
              "    [theme=dark] .colab-df-convert {\n",
              "      background-color: #3B4455;\n",
              "      fill: #D2E3FC;\n",
              "    }\n",
              "\n",
              "    [theme=dark] .colab-df-convert:hover {\n",
              "      background-color: #434B5C;\n",
              "      box-shadow: 0px 1px 3px 1px rgba(0, 0, 0, 0.15);\n",
              "      filter: drop-shadow(0px 1px 2px rgba(0, 0, 0, 0.3));\n",
              "      fill: #FFFFFF;\n",
              "    }\n",
              "  </style>\n",
              "\n",
              "    <script>\n",
              "      const buttonEl =\n",
              "        document.querySelector('#df-8fbd7885-962a-4df2-99c9-31d0cb3fc0d3 button.colab-df-convert');\n",
              "      buttonEl.style.display =\n",
              "        google.colab.kernel.accessAllowed ? 'block' : 'none';\n",
              "\n",
              "      async function convertToInteractive(key) {\n",
              "        const element = document.querySelector('#df-8fbd7885-962a-4df2-99c9-31d0cb3fc0d3');\n",
              "        const dataTable =\n",
              "          await google.colab.kernel.invokeFunction('convertToInteractive',\n",
              "                                                    [key], {});\n",
              "        if (!dataTable) return;\n",
              "\n",
              "        const docLinkHtml = 'Like what you see? Visit the ' +\n",
              "          '<a target=\"_blank\" href=https://colab.research.google.com/notebooks/data_table.ipynb>data table notebook</a>'\n",
              "          + ' to learn more about interactive tables.';\n",
              "        element.innerHTML = '';\n",
              "        dataTable['output_type'] = 'display_data';\n",
              "        await google.colab.output.renderOutput(dataTable, element);\n",
              "        const docLink = document.createElement('div');\n",
              "        docLink.innerHTML = docLinkHtml;\n",
              "        element.appendChild(docLink);\n",
              "      }\n",
              "    </script>\n",
              "  </div>\n",
              "\n",
              "\n",
              "<div id=\"df-f5377fd2-f793-457b-9a3f-013a58b10e65\">\n",
              "  <button class=\"colab-df-quickchart\" onclick=\"quickchart('df-f5377fd2-f793-457b-9a3f-013a58b10e65')\"\n",
              "            title=\"Suggest charts\"\n",
              "            style=\"display:none;\">\n",
              "\n",
              "<svg xmlns=\"http://www.w3.org/2000/svg\" height=\"24px\"viewBox=\"0 0 24 24\"\n",
              "     width=\"24px\">\n",
              "    <g>\n",
              "        <path d=\"M19 3H5c-1.1 0-2 .9-2 2v14c0 1.1.9 2 2 2h14c1.1 0 2-.9 2-2V5c0-1.1-.9-2-2-2zM9 17H7v-7h2v7zm4 0h-2V7h2v10zm4 0h-2v-4h2v4z\"/>\n",
              "    </g>\n",
              "</svg>\n",
              "  </button>\n",
              "\n",
              "<style>\n",
              "  .colab-df-quickchart {\n",
              "      --bg-color: #E8F0FE;\n",
              "      --fill-color: #1967D2;\n",
              "      --hover-bg-color: #E2EBFA;\n",
              "      --hover-fill-color: #174EA6;\n",
              "      --disabled-fill-color: #AAA;\n",
              "      --disabled-bg-color: #DDD;\n",
              "  }\n",
              "\n",
              "  [theme=dark] .colab-df-quickchart {\n",
              "      --bg-color: #3B4455;\n",
              "      --fill-color: #D2E3FC;\n",
              "      --hover-bg-color: #434B5C;\n",
              "      --hover-fill-color: #FFFFFF;\n",
              "      --disabled-bg-color: #3B4455;\n",
              "      --disabled-fill-color: #666;\n",
              "  }\n",
              "\n",
              "  .colab-df-quickchart {\n",
              "    background-color: var(--bg-color);\n",
              "    border: none;\n",
              "    border-radius: 50%;\n",
              "    cursor: pointer;\n",
              "    display: none;\n",
              "    fill: var(--fill-color);\n",
              "    height: 32px;\n",
              "    padding: 0;\n",
              "    width: 32px;\n",
              "  }\n",
              "\n",
              "  .colab-df-quickchart:hover {\n",
              "    background-color: var(--hover-bg-color);\n",
              "    box-shadow: 0 1px 2px rgba(60, 64, 67, 0.3), 0 1px 3px 1px rgba(60, 64, 67, 0.15);\n",
              "    fill: var(--button-hover-fill-color);\n",
              "  }\n",
              "\n",
              "  .colab-df-quickchart-complete:disabled,\n",
              "  .colab-df-quickchart-complete:disabled:hover {\n",
              "    background-color: var(--disabled-bg-color);\n",
              "    fill: var(--disabled-fill-color);\n",
              "    box-shadow: none;\n",
              "  }\n",
              "\n",
              "  .colab-df-spinner {\n",
              "    border: 2px solid var(--fill-color);\n",
              "    border-color: transparent;\n",
              "    border-bottom-color: var(--fill-color);\n",
              "    animation:\n",
              "      spin 1s steps(1) infinite;\n",
              "  }\n",
              "\n",
              "  @keyframes spin {\n",
              "    0% {\n",
              "      border-color: transparent;\n",
              "      border-bottom-color: var(--fill-color);\n",
              "      border-left-color: var(--fill-color);\n",
              "    }\n",
              "    20% {\n",
              "      border-color: transparent;\n",
              "      border-left-color: var(--fill-color);\n",
              "      border-top-color: var(--fill-color);\n",
              "    }\n",
              "    30% {\n",
              "      border-color: transparent;\n",
              "      border-left-color: var(--fill-color);\n",
              "      border-top-color: var(--fill-color);\n",
              "      border-right-color: var(--fill-color);\n",
              "    }\n",
              "    40% {\n",
              "      border-color: transparent;\n",
              "      border-right-color: var(--fill-color);\n",
              "      border-top-color: var(--fill-color);\n",
              "    }\n",
              "    60% {\n",
              "      border-color: transparent;\n",
              "      border-right-color: var(--fill-color);\n",
              "    }\n",
              "    80% {\n",
              "      border-color: transparent;\n",
              "      border-right-color: var(--fill-color);\n",
              "      border-bottom-color: var(--fill-color);\n",
              "    }\n",
              "    90% {\n",
              "      border-color: transparent;\n",
              "      border-bottom-color: var(--fill-color);\n",
              "    }\n",
              "  }\n",
              "</style>\n",
              "\n",
              "  <script>\n",
              "    async function quickchart(key) {\n",
              "      const quickchartButtonEl =\n",
              "        document.querySelector('#' + key + ' button');\n",
              "      quickchartButtonEl.disabled = true;  // To prevent multiple clicks.\n",
              "      quickchartButtonEl.classList.add('colab-df-spinner');\n",
              "      try {\n",
              "        const charts = await google.colab.kernel.invokeFunction(\n",
              "            'suggestCharts', [key], {});\n",
              "      } catch (error) {\n",
              "        console.error('Error during call to suggestCharts:', error);\n",
              "      }\n",
              "      quickchartButtonEl.classList.remove('colab-df-spinner');\n",
              "      quickchartButtonEl.classList.add('colab-df-quickchart-complete');\n",
              "    }\n",
              "    (() => {\n",
              "      let quickchartButtonEl =\n",
              "        document.querySelector('#df-f5377fd2-f793-457b-9a3f-013a58b10e65 button');\n",
              "      quickchartButtonEl.style.display =\n",
              "        google.colab.kernel.accessAllowed ? 'block' : 'none';\n",
              "    })();\n",
              "  </script>\n",
              "</div>\n",
              "\n",
              "    </div>\n",
              "  </div>\n"
            ],
            "application/vnd.google.colaboratory.intrinsic+json": {
              "type": "dataframe",
              "variable_name": "spgb_hist"
            }
          },
          "metadata": {},
          "execution_count": 17
        }
      ],
      "source": [
        "spgb_hist = pd.read_csv(PATH + 'DATA/spgb_hist.csv', parse_dates=True, index_col=0, dayfirst=True)\n",
        "\n",
        "spgb_hist.head()"
      ]
    },
    {
      "cell_type": "markdown",
      "metadata": {
        "id": "2eBCuPEaVwat"
      },
      "source": [
        "The following code extracts the maturity and coupon of every bond. We will bootstrap the curve on the last date of the dataframe."
      ]
    },
    {
      "cell_type": "code",
      "execution_count": 18,
      "metadata": {
        "id": "MFLlmJKGVwat",
        "outputId": "744e2205-69be-40ca-90b9-bbe7e58cdb24",
        "colab": {
          "base_uri": "https://localhost:8080/"
        }
      },
      "outputs": [
        {
          "output_type": "stream",
          "name": "stdout",
          "text": [
            "[0.     0.016  0.     0.0465 0.0215 0.     0.0195 0.028  0.059  0.013\n",
            " 0.     0.015  0.025  0.008  0.0145 0.     0.014  0.014  0.0515 0.06\n",
            " 0.0145 0.035  0.008  0.006  0.027  0.005  0.0195 0.0125 0.001  0.031\n",
            " 0.005  0.007  0.0575 0.0255 0.0315 0.0235 0.0355 0.0325 0.0345 0.0185\n",
            " 0.042  0.0085 0.039  0.049  0.012  0.047  0.01   0.0345 0.0515 0.029\n",
            " 0.027  0.01   0.019  0.04   0.04   0.0345 0.0145]\n",
            "Index([0.23013698630136986,   0.473972602739726,  0.5589041095890411,\n",
            "        0.7232876712328767,  0.9780821917808219,  1.2301369863013698,\n",
            "         1.473972602739726,   1.558904109589041,  1.7232876712328766,\n",
            "         1.978082191780822,    2.23013698630137,   2.473972602739726,\n",
            "         2.558904109589041,   2.723287671232877,   2.978082191780822,\n",
            "          3.23013698630137,  3.4767123287671233,  3.7260273972602738,\n",
            "        3.9808219178082194,   4.232876712328767,   4.476712328767123,\n",
            "         4.561643835616438,   4.726027397260274,   4.980821917808219,\n",
            "         5.232876712328767,   5.476712328767123,   5.726027397260274,\n",
            "         5.980821917808219,   6.476712328767123,   6.726027397260274,\n",
            "         6.980821917808219,    7.47945205479452,   7.728767123287671,\n",
            "         7.983561643835617,   8.479452054794521,   8.728767123287671,\n",
            "         8.983561643835616,   9.479452054794521,   9.983561643835616,\n",
            "        10.728767123287671,  12.238356164383562,   12.73150684931507,\n",
            "         14.73150684931507,  15.734246575342466,   15.98904109589041,\n",
            "        16.734246575342464,  17.734246575342464,  18.734246575342464,\n",
            "        19.991780821917807,  21.991780821917807,  23.994520547945207,\n",
            "        25.994520547945207,  27.997260273972604,  29.997260273972604,\n",
            "         40.00547945205479,   41.75068493150685,   47.00821917808219],\n",
            "      dtype='float64')\n"
          ]
        }
      ],
      "source": [
        "\n",
        "# Calibration date will be last date of the dataframe.\n",
        "calibration_date = spgb_hist.index[-1]\n",
        "\n",
        "# Regular expression pattern to extract dates in the format mm/dd/yyyy.\n",
        "date_pattern =  r\"\\b\\d*\\.?\\d{0,2}\\s(\\d{1,2}/\\d{1,2}/\\d{4})\\b\"\n",
        "\n",
        "maturity_dates = [re.search(date_pattern, item).group(1) for item in spgb_hist.columns if re.search(date_pattern, item)]\n",
        "\n",
        "maturity_dates = pd.to_datetime(maturity_dates, format='%m/%d/%Y');\n",
        "\n",
        "# Regular expression pattern to extract coupons in the format d.dd.\n",
        "coupon_pattern = r\"\\b\\d+(\\.\\d{1,2})?\\b\"\n",
        "\n",
        "coupons = np.float64([re.search(coupon_pattern, item).group() for item in spgb_hist.columns if re.search(coupon_pattern, item)])/100\n",
        "\n",
        "# Year fraction to maturity of each bond.\n",
        "years_to_maturity = (maturity_dates - calibration_date).days / 365\n",
        "\n",
        "# Let us print coupons and years to maturity.\n",
        "print(coupons)\n",
        "print(years_to_maturity)\n",
        "\n"
      ]
    },
    {
      "cell_type": "markdown",
      "metadata": {
        "id": "WW4YiickVwat"
      },
      "source": [
        "The following function calculates the yield of a bond from its coupon, maturity and price."
      ]
    },
    {
      "cell_type": "code",
      "execution_count": 19,
      "metadata": {
        "id": "EPhPjEM1Vwau"
      },
      "outputs": [],
      "source": [
        "def bond_yield(TTM, coupon, price, freq):\n",
        "\n",
        "    return fsolve(lambda x: bond_price(TTM, coupon, x, freq) - price, coupon,xtol=1e-8)[0]"
      ]
    },
    {
      "cell_type": "markdown",
      "metadata": {
        "id": "qsW5bKqYVwau"
      },
      "source": [
        "Let us check that the function works."
      ]
    },
    {
      "cell_type": "code",
      "execution_count": 20,
      "metadata": {
        "id": "PWLqE7nOVwau",
        "outputId": "c47f0fd4-deef-4800-f5c1-1e67f081f8fd",
        "colab": {
          "base_uri": "https://localhost:8080/"
        }
      },
      "outputs": [
        {
          "output_type": "execute_result",
          "data": {
            "text/plain": [
              "0.05"
            ]
          },
          "metadata": {},
          "execution_count": 20
        }
      ],
      "source": [
        "coupon = 0.05\n",
        "price = 1.00\n",
        "maturity = 30\n",
        "\n",
        "bond_yield(maturity, coupon, price, freq_options.ANUAL)"
      ]
    },
    {
      "cell_type": "markdown",
      "metadata": {
        "id": "G4Gt9RzpVwau"
      },
      "source": [
        "The following class is the IR curve class. It wrapps a cubic spline interpolator and assumes cubic spline interpolation in zero copupon rates in rates * time (an ussual assumption)."
      ]
    },
    {
      "cell_type": "code",
      "execution_count": 21,
      "metadata": {
        "id": "R8hpD9pFVwau"
      },
      "outputs": [],
      "source": [
        "class IR_Curve:\n",
        "\n",
        "    def __init__(self, time_pillars, rates):\n",
        "        # Append zero at the beginning for both time_pillars and rates\n",
        "        time_pillars = np.concatenate(([0], time_pillars))\n",
        "        rates = np.concatenate(([0], rates))\n",
        "        time_times_rate = rates * time_pillars\n",
        "\n",
        "        # Natural cubic spline interpolation\n",
        "        self.interpolator = CubicSpline(time_pillars, time_times_rate, bc_type='natural')\n",
        "\n",
        "    def zero_coupon_rates(self, time_pillars):\n",
        "        # Check for negative maturities and raise an error if found\n",
        "        if np.any(time_pillars < 0):\n",
        "            raise ValueError(\"Maturity cannot be negative.\")\n",
        "\n",
        "        # Calculate the true limit for zero-coupon rate as t approaches 0\n",
        "        zero_coupon_rates = np.zeros_like(time_pillars, dtype=float)\n",
        "        non_zero_mask = time_pillars != 0\n",
        "\n",
        "        # Calculate rates for non-zero times\n",
        "        zero_coupon_rates[non_zero_mask] = self.interpolator(time_pillars[non_zero_mask]) / time_pillars[non_zero_mask]\n",
        "\n",
        "        # Use the derivative at t = 0 as the limit for the zero-coupon rate at t = 0\n",
        "        zero_coupon_rates[~non_zero_mask] = self.interpolator.derivative()(0)\n",
        "\n",
        "        return zero_coupon_rates\n",
        "\n",
        "    def discount_factors(self, time_pillars):\n",
        "        # Check for negative maturities and raise an error if found\n",
        "        if np.any(time_pillars < 0):\n",
        "            raise ValueError(\"Maturity cannot be negative.\")\n",
        "\n",
        "        # Evaluate the spline and compute discount factors\n",
        "        return np.exp(-self.interpolator(time_pillars))\n",
        "\n"
      ]
    },
    {
      "cell_type": "code",
      "execution_count": 22,
      "metadata": {
        "id": "OQuiHMGDVwau",
        "outputId": "1e4e1009-c5ca-4a9c-a517-5c12a6f56b28",
        "colab": {
          "base_uri": "https://localhost:8080/",
          "height": 447
        }
      },
      "outputs": [
        {
          "output_type": "execute_result",
          "data": {
            "text/plain": [
              "[<matplotlib.lines.Line2D at 0x7957ea607dc0>]"
            ]
          },
          "metadata": {},
          "execution_count": 22
        },
        {
          "output_type": "display_data",
          "data": {
            "text/plain": [
              "<Figure size 640x480 with 1 Axes>"
            ],
            "image/png": "[encoded data removed]"
          },
          "metadata": {}
        }
      ],
      "source": [
        "pillars = np.array([0.25, 0.5, 1, 2, 3, 5, 7, 10, 20, 30])\n",
        "rates = np.array([0.01, 0.015, 0.02, 0.025, 0.03, 0.035, 0.04, 0.045, 0.05, 0.055])\n",
        "# rates = np.ones_like(pillars) * (np.log(1.05))\n",
        "ir_curve = IR_Curve(pillars, rates)\n",
        "\n",
        "time_pillars = np.linspace(0.0, 30, 100)\n",
        "\n",
        "\n",
        "plt.plot(time_pillars, ir_curve.zero_coupon_rates(time_pillars))\n",
        "plt.plot(pillars, rates, 'o', color='red')\n"
      ]
    },
    {
      "cell_type": "markdown",
      "metadata": {
        "id": "xlINPxl3Vway"
      },
      "source": [
        "Taking into consideration the curve object, modify the bond price function so that it prices bonds discounting its cashflows with the curve."
      ]
    },
    {
      "cell_type": "code",
      "execution_count": 23,
      "metadata": {
        "id": "jHWkQwzjVway"
      },
      "outputs": [],
      "source": [
        "def bond_price_curve(TTM, coupon, curve, freq):\n",
        "\n",
        "    if freq == freq_options.QUARTERLY:\n",
        "          delta = 0.25\n",
        "    elif freq == freq_options.SEMI_ANNUAL:\n",
        "        delta = 0.5\n",
        "    elif freq == freq_options.ANUAL:\n",
        "        delta = 1\n",
        "    else:\n",
        "        raise ValueError(\"Invalid frequency\")\n",
        "\n",
        "    payment_times = np.arange(TTM,0, step=-delta)[::-1]\n",
        "\n",
        "    # your code here\n",
        "    discount_factors = curve.discount_factors(payment_times)\n",
        "\n",
        "    bond_price = np.sum(discount_factors * delta * coupon)\n",
        "\n",
        "    bond_price += discount_factors[-1]\n",
        "\n",
        "    return bond_price"
      ]
    },
    {
      "cell_type": "code",
      "execution_count": 24,
      "metadata": {
        "id": "oreCdMf8Vway",
        "outputId": "5ea361e6-2987-4ad6-c60c-f1dab1474fbe",
        "colab": {
          "base_uri": "https://localhost:8080/"
        }
      },
      "outputs": [
        {
          "output_type": "execute_result",
          "data": {
            "text/plain": [
              "1.0675505082458059"
            ]
          },
          "metadata": {},
          "execution_count": 24
        }
      ],
      "source": [
        "bond_price_curve(5, 0.05, ir_curve, freq_options.ANUAL)"
      ]
    },
    {
      "cell_type": "markdown",
      "metadata": {
        "id": "w4rODGMYVway"
      },
      "source": [
        "Write a function that computes the yield of a bond if the cashflows are discounted with the curve."
      ]
    },
    {
      "cell_type": "code",
      "execution_count": 44,
      "metadata": {
        "id": "xQX5UoXyVwaz"
      },
      "outputs": [],
      "source": [
        "def bond_yield_curve(TTM, coupon, curve, freq):\n",
        "\n",
        "    # your code\n",
        "    model_price = bond_price_curve(TTM, coupon, curve, freq)\n",
        "\n",
        "    return bond_yield(TTM,coupon,model_price,freq)"
      ]
    },
    {
      "cell_type": "code",
      "source": [
        "bond_yield_curve(5,0.05,ir_curve,freq_options.ANUAL)"
      ],
      "metadata": {
        "id": "6RGer6KZAJSE",
        "outputId": "84600730-7211-47ac-d621-f29115d695ea",
        "colab": {
          "base_uri": "https://localhost:8080/"
        }
      },
      "execution_count": 45,
      "outputs": [
        {
          "output_type": "execute_result",
          "data": {
            "text/plain": [
              "0.035037242608633175"
            ]
          },
          "metadata": {},
          "execution_count": 45
        }
      ]
    },
    {
      "cell_type": "code",
      "source": [
        "yields_test = [  ]"
      ],
      "metadata": {
        "id": "H0U_yazuAwvq"
      },
      "execution_count": null,
      "outputs": []
    },
    {
      "cell_type": "markdown",
      "metadata": {
        "id": "SSsDvGa3Vwaz"
      },
      "source": [
        "Complete the class below so that it calibrates th zero coupon curve from bond yields"
      ]
    },
    {
      "cell_type": "code",
      "execution_count": 26,
      "metadata": {
        "id": "1DRJiZs9Vwaz"
      },
      "outputs": [],
      "source": [
        "class yield_curve_bootsrap:\n",
        "\n",
        "    def __init__(self, bond_maturities, bond_yields, bond_coupons, curve_pillars, init_guess=0.05):\n",
        "\n",
        "        self.bond_maturities = bond_maturities\n",
        "        self.bond_yields = bond_yields\n",
        "        self.curve_pillars = curve_pillars\n",
        "        self.bond_coupons = np.array(bond_coupons)\n",
        "        self.init_guess = init_guess*np.ones_like(curve_pillars)\n",
        "\n",
        "    def compute_model_yields(self, curve_rates):\n",
        "\n",
        "        # your code here\n",
        "        pass\n",
        "\n",
        "    def compute_yield_mse(self, curve_rates):\n",
        "\n",
        "        model_yields = self.compute_model_yields(curve_rates)\n",
        "\n",
        "        return np.mean((model_yields - self.bond_yields)**2)\n",
        "\n",
        "    def bootstrap(self):\n",
        "\n",
        "        pillar_rates = minimize(self.compute_yield_mse, self.init_guess)['x']\n",
        "\n",
        "        return {'pillar rates': pillar_rates, 'curve object': IR_Curve(self.curve_pillars, pillar_rates)}\n",
        "\n"
      ]
    },
    {
      "cell_type": "markdown",
      "metadata": {
        "id": "tCTWU9aQVwaz"
      },
      "source": [
        "Plot 1 yr spanning forward rates"
      ]
    },
    {
      "cell_type": "code",
      "execution_count": null,
      "metadata": {
        "id": "V9J4DNWjVwaz"
      },
      "outputs": [],
      "source": [
        "# your code here"
      ]
    },
    {
      "cell_type": "markdown",
      "metadata": {
        "id": "H_Y8My37Vwaz"
      },
      "source": [
        "Plot the instantaneous forward curve"
      ]
    },
    {
      "cell_type": "code",
      "execution_count": null,
      "metadata": {
        "id": "ggwt48F9Vwaz"
      },
      "outputs": [],
      "source": [
        "# your code here"
      ]
    },
    {
      "cell_type": "markdown",
      "metadata": {
        "id": "bAsDQQqCVwaz"
      },
      "source": []
    }
  ],
  "metadata": {
    "kernelspec": {
      "display_name": "definitive",
      "language": "python",
      "name": "python3"
    },
    "language_info": {
      "codemirror_mode": {
        "name": "ipython",
        "version": 3
      },
      "file_extension": ".py",
      "mimetype": "text/x-python",
      "name": "python",
      "nbconvert_exporter": "python",
      "pygments_lexer": "ipython3",
      "version": "3.10.13"
    },
    "colab": {
      "provenance": []
    }
  },
  "nbformat": 4,
  "nbformat_minor": 0
}