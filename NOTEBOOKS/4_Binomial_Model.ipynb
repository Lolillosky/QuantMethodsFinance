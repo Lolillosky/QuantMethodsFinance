{
 "cells": [
  {
   "cell_type": "markdown",
   "metadata": {},
   "source": [
    "# Quantitative Methods in Finance"
   ]
  },
  {
   "cell_type": "markdown",
   "metadata": {},
   "source": [
    "Click <a href=\"https://colab.research.google.com/github/Lolillosky/QuantMethodsFinance/blob/main/NOTEBOOKS/4_Binomial_Model.ipynb\">\n",
    "    <img src=\"https://upload.wikimedia.org/wikipedia/commons/d/d0/Google_Colaboratory_SVG_Logo.svg\" width=\"30\" alt=\"Google Colab\">\n",
    "</a> to open this notebook in Google Colab.\n",
    "\n",
    "\n",
    "Clone the repository"
   ]
  },
  {
   "cell_type": "code",
   "execution_count": null,
   "metadata": {},
   "outputs": [],
   "source": [
    "from IPython.display import clear_output\n",
    "\n",
    "!rm -r {'QuantMethodsFinance'}\n",
    "\n",
    "!git clone https://github.com/Lolillosky/QuantMethodsFinance\n",
    "\n",
    "import sys\n",
    "sys.modules.pop\n",
    "sys.path.insert(0,'QuantMethodsFinance/CODE')\n",
    "\n",
    "clear_output()"
   ]
  },
  {
   "cell_type": "markdown",
   "metadata": {},
   "source": [
    "Import some standard libraries"
   ]
  },
  {
   "cell_type": "code",
   "execution_count": null,
   "metadata": {},
   "outputs": [],
   "source": [
    "import numpy as np\n",
    "import matplotlib.pyplot as plt\n",
    "from matplotlib.animation import FuncAnimation\n",
    "from IPython.display import HTML\n",
    "import matplotlib.animation as animation"
   ]
  },
  {
   "cell_type": "code",
   "execution_count": null,
   "metadata": {},
   "outputs": [],
   "source": [
    "# To be used if notebook is run in Google Colab\n",
    "PATH = '/content/QuantMethodsFinance/'\n",
    "# To be used if notebook is run in a local clone of the repository\n",
    "PATH = '../'"
   ]
  },
  {
   "cell_type": "markdown",
   "metadata": {},
   "source": [
    "Import the binomial_model.py module from the repository"
   ]
  },
  {
   "cell_type": "code",
   "execution_count": null,
   "metadata": {},
   "outputs": [],
   "source": [
    "import binomial_model"
   ]
  },
  {
   "cell_type": "code",
   "execution_count": null,
   "metadata": {},
   "outputs": [],
   "source": [
    "fig, ax = plt.subplots()\n",
    "\n",
    "t, p, z, t = binomial_model.BuildBinomialTree(10,0.01,0.2,1,50,0, ax)\n",
    "\n",
    "fig.savefig(PATH + \"FIGURES/binomial.pdf\", format = 'pdf')"
   ]
  },
  {
   "cell_type": "code",
   "execution_count": null,
   "metadata": {},
   "outputs": [],
   "source": [
    "# create a figure and axis object\n",
    "fig, ax = plt.subplots()\n",
    "\n",
    "tree, probs, bars, dots = binomial_model.BuildBinomialTree(10,0.01,0.2,1,50,50,ax)\n",
    "\n",
    "ax.set_xlim(0, 1.2)\n",
    "ax.set_ylim(np.min(tree[-1]) - 1, np.max(tree[-1]) + 1)\n",
    "ax.set_title(\"Binomial tree\")\n",
    "\n",
    "# define the animation function\n",
    "def animate(i):\n",
    "    global bars\n",
    "    global dots\n",
    "    for bar in bars:\n",
    "      bar.remove()\n",
    "    for dot in dots:\n",
    "      dot.remove()\n",
    "\n",
    "    bars = ax.barh(y=tree[i], width=probs[i],left = delta_t*i, height = 0.8, color = 'lightseagreen')\n",
    "    dots = ax.plot(delta_t*i*np.ones_like(tree[i]), tree[i], 'o', markersize = 1.0, color = 'firebrick')\n",
    "\n",
    "    ax.set_title(\"Binomial tree step \" + str(i))\n",
    "\n",
    "    return bars\n",
    "      \n",
    "delta_t = 1/50.0\n",
    "# create the animation object\n",
    "\n",
    "frames = np.concatenate([np.arange(51)]*1)\n",
    "anim = FuncAnimation(fig, animate, frames=frames, interval=50)\n",
    "\n",
    "# display the animation\n",
    "plt.show()\n"
   ]
  },
  {
   "cell_type": "code",
   "execution_count": null,
   "metadata": {},
   "outputs": [],
   "source": [
    "html = HTML(anim.to_jshtml())\n",
    "display(html)"
   ]
  },
  {
   "cell_type": "code",
   "execution_count": null,
   "metadata": {},
   "outputs": [],
   "source": [
    "anim.save(PATH + 'docs/binomial.html', writer=animation.HTMLWriter(embed_frames=True, default_mode='loop', fps=20, codec='vp9'))"
   ]
  },
  {
   "cell_type": "markdown",
   "metadata": {},
   "source": [
    "## Binomial model pricing\n",
    "\n",
    "Modify the function BuildBinomialTree in the binomial_module.py included in the repository to price options."
   ]
  },
  {
   "cell_type": "code",
   "execution_count": null,
   "metadata": {},
   "outputs": [],
   "source": [
    "# Your code here"
   ]
  },
  {
   "cell_type": "markdown",
   "metadata": {},
   "source": []
  }
 ],
 "metadata": {
  "kernelspec": {
   "display_name": "definitive",
   "language": "python",
   "name": "python3"
  },
  "language_info": {
   "codemirror_mode": {
    "name": "ipython",
    "version": 3
   },
   "file_extension": ".py",
   "mimetype": "text/x-python",
   "name": "python",
   "nbconvert_exporter": "python",
   "pygments_lexer": "ipython3",
   "version": "3.10.13"
  }
 },
 "nbformat": 4,
 "nbformat_minor": 2
}
